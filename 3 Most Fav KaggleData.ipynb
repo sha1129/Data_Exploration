{
 "cells": [
  {
   "attachments": {},
   "cell_type": "markdown",
   "metadata": {},
   "source": [
    "# **Popular Kaggle Datasets**\n",
    "\n",
    "Maybe I can work on some of them later\n"
   ]
  },
  {
   "cell_type": "code",
   "execution_count": 52,
   "metadata": {},
   "outputs": [],
   "source": [
    "import pandas as pd \n",
    "\n",
    "import matplotlib.pyplot as plt \n",
    "import seaborn as sns\n",
    "\n",
    "import datetime"
   ]
  },
  {
   "attachments": {},
   "cell_type": "markdown",
   "metadata": {},
   "source": [
    "## Data Check and Clean"
   ]
  },
  {
   "cell_type": "code",
   "execution_count": 36,
   "metadata": {},
   "outputs": [],
   "source": [
    "popularKaggle_df = pd.read_csv(r\"C:\\Users\\turjo\\New_OneDrive\\OneDrive\\Documents\\Data Set\\CleanedKaggleDataSets.csv\")"
   ]
  },
  {
   "attachments": {},
   "cell_type": "markdown",
   "metadata": {},
   "source": [
    "### Shape, Memory Usage, and First 5 Rows"
   ]
  },
  {
   "cell_type": "code",
   "execution_count": 37,
   "metadata": {},
   "outputs": [
    {
     "name": "stdout",
     "output_type": "stream",
     "text": [
      "Shape of Date frame (9714, 5)\n",
      "Memory usage for the dataset 3043930\n"
     ]
    },
    {
     "data": {
      "text/html": [
       "<div>\n",
       "<style scoped>\n",
       "    .dataframe tbody tr th:only-of-type {\n",
       "        vertical-align: middle;\n",
       "    }\n",
       "\n",
       "    .dataframe tbody tr th {\n",
       "        vertical-align: top;\n",
       "    }\n",
       "\n",
       "    .dataframe thead th {\n",
       "        text-align: right;\n",
       "    }\n",
       "</style>\n",
       "<table border=\"1\" class=\"dataframe\">\n",
       "  <thead>\n",
       "    <tr style=\"text-align: right;\">\n",
       "      <th></th>\n",
       "      <th>title</th>\n",
       "      <th>Usability_index</th>\n",
       "      <th>up_vote</th>\n",
       "      <th>author</th>\n",
       "      <th>Updation_timeline</th>\n",
       "    </tr>\n",
       "  </thead>\n",
       "  <tbody>\n",
       "    <tr>\n",
       "      <th>0</th>\n",
       "      <td>Salary Prediction Data - Simple linear regression</td>\n",
       "      <td>Usability 10.0</td>\n",
       "      <td>31</td>\n",
       "      <td>Krishnaraj_DataScience</td>\n",
       "      <td>Updated 12 days ago</td>\n",
       "    </tr>\n",
       "    <tr>\n",
       "      <th>1</th>\n",
       "      <td>Heart Disease Prediction Dataset</td>\n",
       "      <td>Usability 10.0</td>\n",
       "      <td>31</td>\n",
       "      <td>Krishnaraj_DataScience</td>\n",
       "      <td>Updated 12 days ago</td>\n",
       "    </tr>\n",
       "    <tr>\n",
       "      <th>2</th>\n",
       "      <td>Time Series Air Quality Data of India (2010-2023)</td>\n",
       "      <td>Usability 10.0</td>\n",
       "      <td>31</td>\n",
       "      <td>Krishnaraj_DataScience</td>\n",
       "      <td>Updated 12 days ago</td>\n",
       "    </tr>\n",
       "    <tr>\n",
       "      <th>3</th>\n",
       "      <td>Water Quality Testing</td>\n",
       "      <td>Usability 9.4</td>\n",
       "      <td>31</td>\n",
       "      <td>Krishnaraj_DataScience</td>\n",
       "      <td>Updated 12 days ago</td>\n",
       "    </tr>\n",
       "    <tr>\n",
       "      <th>4</th>\n",
       "      <td>Multiple Sclerosis Disease</td>\n",
       "      <td>Usability 10.0</td>\n",
       "      <td>31</td>\n",
       "      <td>Krishnaraj_DataScience</td>\n",
       "      <td>Updated 12 days ago</td>\n",
       "    </tr>\n",
       "  </tbody>\n",
       "</table>\n",
       "</div>"
      ],
      "text/plain": [
       "                                               title Usability_index  up_vote  \\\n",
       "0  Salary Prediction Data - Simple linear regression  Usability 10.0       31   \n",
       "1                   Heart Disease Prediction Dataset  Usability 10.0       31   \n",
       "2  Time Series Air Quality Data of India (2010-2023)  Usability 10.0       31   \n",
       "3                              Water Quality Testing   Usability 9.4       31   \n",
       "4                         Multiple Sclerosis Disease  Usability 10.0       31   \n",
       "\n",
       "                    author     Updation_timeline  \n",
       "0  Krishnaraj_DataScience    Updated 12 days ago  \n",
       "1  Krishnaraj_DataScience    Updated 12 days ago  \n",
       "2  Krishnaraj_DataScience    Updated 12 days ago  \n",
       "3  Krishnaraj_DataScience    Updated 12 days ago  \n",
       "4  Krishnaraj_DataScience    Updated 12 days ago  "
      ]
     },
     "execution_count": 37,
     "metadata": {},
     "output_type": "execute_result"
    }
   ],
   "source": [
    "print(\"Shape of Date frame\",popularKaggle_df.shape)\n",
    "print(\"Memory usage for the dataset\", popularKaggle_df.memory_usage(deep=True).sum())\n",
    "popularKaggle_df.head()"
   ]
  },
  {
   "attachments": {},
   "cell_type": "markdown",
   "metadata": {},
   "source": [
    "### Column infos"
   ]
  },
  {
   "cell_type": "code",
   "execution_count": 38,
   "metadata": {},
   "outputs": [
    {
     "name": "stdout",
     "output_type": "stream",
     "text": [
      "<class 'pandas.core.frame.DataFrame'>\n",
      "RangeIndex: 9714 entries, 0 to 9713\n",
      "Data columns (total 5 columns):\n",
      " #   Column             Non-Null Count  Dtype \n",
      "---  ------             --------------  ----- \n",
      " 0   title              9714 non-null   object\n",
      " 1   Usability_index    9712 non-null   object\n",
      " 2   up_vote            9714 non-null   int64 \n",
      " 3   author             9714 non-null   object\n",
      " 4   Updation_timeline  9714 non-null   object\n",
      "dtypes: int64(1), object(4)\n",
      "memory usage: 379.6+ KB\n"
     ]
    }
   ],
   "source": [
    "popularKaggle_df.info()"
   ]
  },
  {
   "attachments": {},
   "cell_type": "markdown",
   "metadata": {},
   "source": [
    "### NaN Values"
   ]
  },
  {
   "cell_type": "code",
   "execution_count": 39,
   "metadata": {},
   "outputs": [
    {
     "data": {
      "text/plain": [
       "title                0\n",
       "Usability_index      2\n",
       "up_vote              0\n",
       "author               0\n",
       "Updation_timeline    0\n",
       "dtype: int64"
      ]
     },
     "execution_count": 39,
     "metadata": {},
     "output_type": "execute_result"
    }
   ],
   "source": [
    "popularKaggle_df.isna().sum()"
   ]
  },
  {
   "attachments": {},
   "cell_type": "markdown",
   "metadata": {},
   "source": [
    "#### NaN rows inspection"
   ]
  },
  {
   "cell_type": "code",
   "execution_count": 40,
   "metadata": {},
   "outputs": [
    {
     "data": {
      "text/html": [
       "<div>\n",
       "<style scoped>\n",
       "    .dataframe tbody tr th:only-of-type {\n",
       "        vertical-align: middle;\n",
       "    }\n",
       "\n",
       "    .dataframe tbody tr th {\n",
       "        vertical-align: top;\n",
       "    }\n",
       "\n",
       "    .dataframe thead th {\n",
       "        text-align: right;\n",
       "    }\n",
       "</style>\n",
       "<table border=\"1\" class=\"dataframe\">\n",
       "  <thead>\n",
       "    <tr style=\"text-align: right;\">\n",
       "      <th></th>\n",
       "      <th>title</th>\n",
       "      <th>Usability_index</th>\n",
       "      <th>up_vote</th>\n",
       "      <th>author</th>\n",
       "      <th>Updation_timeline</th>\n",
       "    </tr>\n",
       "  </thead>\n",
       "  <tbody>\n",
       "    <tr>\n",
       "      <th>8389</th>\n",
       "      <td>bird song data set</td>\n",
       "      <td>NaN</td>\n",
       "      <td>7</td>\n",
       "      <td>Zaldy Jr. Pagaduan</td>\n",
       "      <td>Updated 2 years ago</td>\n",
       "    </tr>\n",
       "    <tr>\n",
       "      <th>9266</th>\n",
       "      <td>USAFacts US Coronavirus Database</td>\n",
       "      <td>NaN</td>\n",
       "      <td>9</td>\n",
       "      <td>Ritesh Ranjan</td>\n",
       "      <td>Updated 2 years ago</td>\n",
       "    </tr>\n",
       "  </tbody>\n",
       "</table>\n",
       "</div>"
      ],
      "text/plain": [
       "                                 title Usability_index  up_vote  \\\n",
       "8389                bird song data set             NaN        7   \n",
       "9266  USAFacts US Coronavirus Database             NaN        9   \n",
       "\n",
       "                   author     Updation_timeline  \n",
       "8389  Zaldy Jr. Pagaduan    Updated 2 years ago  \n",
       "9266       Ritesh Ranjan    Updated 2 years ago  "
      ]
     },
     "execution_count": 40,
     "metadata": {},
     "output_type": "execute_result"
    }
   ],
   "source": [
    "popularKaggle_df [(\n",
    "    popularKaggle_df\n",
    "    .isna()\n",
    "    .any(axis=1))]"
   ]
  },
  {
   "attachments": {},
   "cell_type": "markdown",
   "metadata": {},
   "source": [
    "#### Other values of NaN columns"
   ]
  },
  {
   "cell_type": "code",
   "execution_count": 41,
   "metadata": {},
   "outputs": [
    {
     "data": {
      "text/plain": [
       "array(['Usability 10.0', 'Usability 9.4', 'Usability 7.1',\n",
       "       'Usability 7.9', 'Usability 8.2', 'Usability 5.9', 'Usability 3.5',\n",
       "       'Usability 8.8', 'Usability 9.7', 'Usability 8.5', 'Usability 7.6',\n",
       "       'Usability 6.5', 'Usability 7.5', 'Usability 2.9', 'Usability 5.0',\n",
       "       'Usability 1.9', 'Usability 8.1', 'Usability 7.4', 'Usability 4.4',\n",
       "       'Usability 6.9', 'Usability 4.1', 'Usability 3.8', 'Usability 1.8',\n",
       "       'Usability 0.6', 'Usability 3.1', 'Usability 6.3', 'Usability 4.7',\n",
       "       'Usability 5.3', 'Usability 9.1', 'Usability 5.6', 'Usability 2.5',\n",
       "       'Usability 1.2', 'Usability 2.4', 'Usability 1.3', 'Usability 6.8',\n",
       "       'Usability 0.0', 'Usability 6.2', 'Usability 3.2', nan],\n",
       "      dtype=object)"
      ]
     },
     "execution_count": 41,
     "metadata": {},
     "output_type": "execute_result"
    }
   ],
   "source": [
    "popularKaggle_df['Usability_index'].unique()"
   ]
  },
  {
   "attachments": {},
   "cell_type": "markdown",
   "metadata": {},
   "source": [
    "#### Further drill down\n",
    "\n",
    "Drilling down to check if changing to usability 0.0 is valid for these NaN values. One thing I must consider is the up_vote column. These two NaN have up votes; therefore dropping it or setting it to 0 is not correct(in my opinion)"
   ]
  },
  {
   "cell_type": "code",
   "execution_count": 53,
   "metadata": {},
   "outputs": [
    {
     "data": {
      "text/html": [
       "<div>\n",
       "<style scoped>\n",
       "    .dataframe tbody tr th:only-of-type {\n",
       "        vertical-align: middle;\n",
       "    }\n",
       "\n",
       "    .dataframe tbody tr th {\n",
       "        vertical-align: top;\n",
       "    }\n",
       "\n",
       "    .dataframe thead th {\n",
       "        text-align: right;\n",
       "    }\n",
       "</style>\n",
       "<table border=\"1\" class=\"dataframe\">\n",
       "  <thead>\n",
       "    <tr style=\"text-align: right;\">\n",
       "      <th></th>\n",
       "      <th>title</th>\n",
       "      <th>Usability_index</th>\n",
       "      <th>up_vote</th>\n",
       "      <th>author</th>\n",
       "      <th>Updation_timeline</th>\n",
       "    </tr>\n",
       "  </thead>\n",
       "  <tbody>\n",
       "    <tr>\n",
       "      <th>1421</th>\n",
       "      <td>Excel data file</td>\n",
       "      <td>Usability 0.0</td>\n",
       "      <td>32</td>\n",
       "      <td>AlirezaChahardoli</td>\n",
       "      <td>Updated a month ago</td>\n",
       "    </tr>\n",
       "    <tr>\n",
       "      <th>2378</th>\n",
       "      <td>Splitted_And_Augmented_HAM_15</td>\n",
       "      <td>Usability 0.0</td>\n",
       "      <td>109</td>\n",
       "      <td>Diego Enrique</td>\n",
       "      <td>Updated 3 months ago</td>\n",
       "    </tr>\n",
       "    <tr>\n",
       "      <th>2717</th>\n",
       "      <td>TFL Bus Saftety</td>\n",
       "      <td>Usability 0.0</td>\n",
       "      <td>27</td>\n",
       "      <td>Baris Dincer</td>\n",
       "      <td>Updated 2 years ago</td>\n",
       "    </tr>\n",
       "    <tr>\n",
       "      <th>3397</th>\n",
       "      <td>Covid Survey</td>\n",
       "      <td>Usability 0.0</td>\n",
       "      <td>33</td>\n",
       "      <td>DylanCastillo</td>\n",
       "      <td>Updated 3 years ago</td>\n",
       "    </tr>\n",
       "    <tr>\n",
       "      <th>4007</th>\n",
       "      <td>titanicaaa</td>\n",
       "      <td>Usability 0.0</td>\n",
       "      <td>33</td>\n",
       "      <td>swaptr</td>\n",
       "      <td>Updated 6 months ago</td>\n",
       "    </tr>\n",
       "    <tr>\n",
       "      <th>5139</th>\n",
       "      <td>Dataset</td>\n",
       "      <td>Usability 0.0</td>\n",
       "      <td>33</td>\n",
       "      <td>Greeg Titan</td>\n",
       "      <td>Updated 9 months ago</td>\n",
       "    </tr>\n",
       "    <tr>\n",
       "      <th>5140</th>\n",
       "      <td>Dataset-2</td>\n",
       "      <td>Usability 0.0</td>\n",
       "      <td>33</td>\n",
       "      <td>Greeg Titan</td>\n",
       "      <td>Updated 9 months ago</td>\n",
       "    </tr>\n",
       "    <tr>\n",
       "      <th>5141</th>\n",
       "      <td>Datasey-3</td>\n",
       "      <td>Usability 0.0</td>\n",
       "      <td>6</td>\n",
       "      <td>shreya_rajanala@gvp</td>\n",
       "      <td>Updated 25 days ago</td>\n",
       "    </tr>\n",
       "    <tr>\n",
       "      <th>5305</th>\n",
       "      <td>smoker</td>\n",
       "      <td>Usability 0.0</td>\n",
       "      <td>49</td>\n",
       "      <td>JohnM</td>\n",
       "      <td>Updated 7 months ago</td>\n",
       "    </tr>\n",
       "    <tr>\n",
       "      <th>5378</th>\n",
       "      <td>studentreport</td>\n",
       "      <td>Usability 0.0</td>\n",
       "      <td>149</td>\n",
       "      <td>UCI Machine Learning</td>\n",
       "      <td>Updated 7 years ago</td>\n",
       "    </tr>\n",
       "  </tbody>\n",
       "</table>\n",
       "</div>"
      ],
      "text/plain": [
       "                              title Usability_index  up_vote  \\\n",
       "1421                Excel data file   Usability 0.0       32   \n",
       "2378  Splitted_And_Augmented_HAM_15   Usability 0.0      109   \n",
       "2717                TFL Bus Saftety   Usability 0.0       27   \n",
       "3397                   Covid Survey   Usability 0.0       33   \n",
       "4007                     titanicaaa   Usability 0.0       33   \n",
       "5139                        Dataset   Usability 0.0       33   \n",
       "5140                      Dataset-2   Usability 0.0       33   \n",
       "5141                      Datasey-3   Usability 0.0        6   \n",
       "5305                         smoker   Usability 0.0       49   \n",
       "5378                  studentreport   Usability 0.0      149   \n",
       "\n",
       "                     author      Updation_timeline  \n",
       "1421     AlirezaChahardoli     Updated a month ago  \n",
       "2378         Diego Enrique    Updated 3 months ago  \n",
       "2717          Baris Dincer     Updated 2 years ago  \n",
       "3397         DylanCastillo     Updated 3 years ago  \n",
       "4007                swaptr    Updated 6 months ago  \n",
       "5139           Greeg Titan    Updated 9 months ago  \n",
       "5140           Greeg Titan    Updated 9 months ago  \n",
       "5141   shreya_rajanala@gvp     Updated 25 days ago  \n",
       "5305                 JohnM    Updated 7 months ago  \n",
       "5378  UCI Machine Learning     Updated 7 years ago  "
      ]
     },
     "execution_count": 53,
     "metadata": {},
     "output_type": "execute_result"
    }
   ],
   "source": [
    "popularKaggle_df[popularKaggle_df['Usability_index']=='Usability 0.0'].head(10)"
   ]
  },
  {
   "attachments": {},
   "cell_type": "markdown",
   "metadata": {},
   "source": [
    "#### NaN Decision\n",
    "Its ok to change these rows to usability 0.0"
   ]
  },
  {
   "cell_type": "code",
   "execution_count": 43,
   "metadata": {},
   "outputs": [],
   "source": [
    "popularKaggle_df['Usability_index'] = popularKaggle_df['Usability_index'].fillna('Usability 0.0')"
   ]
  },
  {
   "attachments": {},
   "cell_type": "markdown",
   "metadata": {},
   "source": [
    "### Change Data type"
   ]
  },
  {
   "cell_type": "code",
   "execution_count": 44,
   "metadata": {},
   "outputs": [
    {
     "data": {
      "text/plain": [
       "1697"
      ]
     },
     "execution_count": 44,
     "metadata": {},
     "output_type": "execute_result"
    }
   ],
   "source": [
    "popularKaggle_df['up_vote'].max()"
   ]
  },
  {
   "attachments": {},
   "cell_type": "markdown",
   "metadata": {},
   "source": [
    "#### up_vote column dtype change"
   ]
  },
  {
   "cell_type": "code",
   "execution_count": 45,
   "metadata": {},
   "outputs": [],
   "source": [
    "popularKaggle_df['up_vote'] = popularKaggle_df['up_vote'].astype('int16')"
   ]
  },
  {
   "attachments": {},
   "cell_type": "markdown",
   "metadata": {},
   "source": [
    "#### Convert Updation_timeline into Datetime "
   ]
  },
  {
   "cell_type": "code",
   "execution_count": 54,
   "metadata": {},
   "outputs": [
    {
     "data": {
      "text/plain": [
       "array([' Updated 12 days ago', ' Updated 5 years ago',\n",
       "       ' Updated 21 days ago', ' Updated a month ago',\n",
       "       ' Updated 10 hours ago', ' Updated 2 months ago',\n",
       "       ' Updated 22 days ago', ' Updated 19 days ago',\n",
       "       ' Updated 4 years ago', ' Updated 5 months ago',\n",
       "       ' Updated 3 years ago', ' Updated 3 months ago',\n",
       "       ' Updated 6 years ago', ' Updated a year ago',\n",
       "       ' Updated 4 months ago', ' Updated 25 days ago',\n",
       "       ' Updated 2 years ago', ' Updated 14 days ago',\n",
       "       ' Updated 17 days ago', ' Updated 10 months ago',\n",
       "       ' Updated 6 months ago', ' Updated 7 months ago',\n",
       "       ' Updated 8 months ago', ' Updated 7 years ago',\n",
       "       ' Updated 9 months ago', ' Updated 10 days ago',\n",
       "       ' Updated 20 days ago', ' Updated a day ago',\n",
       "       ' Updated 16 hours ago', ' Updated 11 days ago',\n",
       "       ' Updated 3 days ago', ' Updated 11 hours ago',\n",
       "       ' Updated 23 days ago', ' Updated 6 hours ago',\n",
       "       ' Updated 16 days ago'], dtype=object)"
      ]
     },
     "execution_count": 54,
     "metadata": {},
     "output_type": "execute_result"
    }
   ],
   "source": [
    "popularKaggle_df['Updation_timeline'].unique()"
   ]
  },
  {
   "attachments": {},
   "cell_type": "markdown",
   "metadata": {},
   "source": [
    "#### Function to change\n",
    "\n",
    "As there are many different cases it is better to us a function"
   ]
  },
  {
   "attachments": {},
   "cell_type": "markdown",
   "metadata": {},
   "source": [
    "#### Apply change"
   ]
  },
  {
   "attachments": {},
   "cell_type": "markdown",
   "metadata": {},
   "source": [
    "### Memory Usage check"
   ]
  },
  {
   "cell_type": "code",
   "execution_count": 46,
   "metadata": {},
   "outputs": [
    {
     "data": {
      "text/plain": [
       "2985722"
      ]
     },
     "execution_count": 46,
     "metadata": {},
     "output_type": "execute_result"
    }
   ],
   "source": [
    "popularKaggle_df.memory_usage(deep=True).sum()"
   ]
  },
  {
   "attachments": {},
   "cell_type": "markdown",
   "metadata": {},
   "source": [
    "#### Reduction\n",
    "\n",
    "Slight reduction its good I guess"
   ]
  },
  {
   "attachments": {},
   "cell_type": "markdown",
   "metadata": {},
   "source": [
    "## EDA"
   ]
  },
  {
   "attachments": {},
   "cell_type": "markdown",
   "metadata": {},
   "source": []
  }
 ],
 "metadata": {
  "kernelspec": {
   "display_name": "base",
   "language": "python",
   "name": "python3"
  },
  "language_info": {
   "codemirror_mode": {
    "name": "ipython",
    "version": 3
   },
   "file_extension": ".py",
   "mimetype": "text/x-python",
   "name": "python",
   "nbconvert_exporter": "python",
   "pygments_lexer": "ipython3",
   "version": "3.9.16"
  },
  "orig_nbformat": 4
 },
 "nbformat": 4,
 "nbformat_minor": 2
}
