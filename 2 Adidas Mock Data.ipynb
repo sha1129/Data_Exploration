{
 "cells": [
  {
   "attachments": {},
   "cell_type": "markdown",
   "metadata": {},
   "source": [
    "# Adidas Mock Data Exploration"
   ]
  },
  {
   "cell_type": "code",
   "execution_count": 1,
   "metadata": {},
   "outputs": [],
   "source": [
    "import numpy as np \n",
    "import pandas as pd \n",
    "import matplotlib.pyplot as plt\n",
    "import seaborn as sns \n",
    "\n",
    "from sklearn.linear_model import LinearRegression\n",
    "from sklearn.model_selection import train_test_split\n",
    "from sklearn.metrics import r2_score"
   ]
  },
  {
   "cell_type": "code",
   "execution_count": 2,
   "metadata": {},
   "outputs": [],
   "source": [
    "a_mockData_df = pd.read_csv(...\\Adidas Sample Sales.csv\")"
   ]
  },
  {
   "cell_type": "code",
   "execution_count": 3,
   "metadata": {},
   "outputs": [
    {
     "data": {
      "text/plain": [
       "7618627"
      ]
     },
     "execution_count": 3,
     "metadata": {},
     "output_type": "execute_result"
    }
   ],
   "source": [
    "# Memory usage \n",
    "\n",
    "a_mockData_df.memory_usage(deep=True).sum()"
   ]
  },
  {
   "attachments": {},
   "cell_type": "markdown",
   "metadata": {},
   "source": [
    "#### Data Frame column fixes \n",
    "As seen below that some columns are set as object but should be int or floats. Also, I have noticed that the numbers have space, comma and dollar signs. These also needed to removed to change the data types. I am also dropping retailer id cause Retailer is enough to determine data value. Lastly, I changed Invoice Date to pandas data time format. Short summary of Columns that have data type changes:\n",
    "- Price per Unit obj to int64\n",
    "- Units Sold obj to int64\n",
    "- Total Sales obj to int64\n",
    "- Operating Profit obj to int64\n",
    "- Operating Margin obj to float64\n",
    "- Invoice Date to datetime64"
   ]
  },
  {
   "attachments": {},
   "cell_type": "markdown",
   "metadata": {},
   "source": [
    "##### Change Column dTypes "
   ]
  },
  {
   "cell_type": "code",
   "execution_count": 4,
   "metadata": {},
   "outputs": [],
   "source": [
    "# Change to int64\n",
    "change_dtype_int = a_mockData_df[['Units Sold','Total Sales','Operating Profit']]\n",
    "\n",
    "# Remove space and change Data Type, for loop to reduce repetitive tasks \n",
    "for changes in change_dtype_int:\n",
    "    a_mockData_df[changes] = a_mockData_df[changes].str.replace(' ', '').str.replace(',', '').str.replace('$', '', regex=True).str.strip()\n",
    "    a_mockData_df[changes] = a_mockData_df[changes].astype('int64')\n"
   ]
  },
  {
   "cell_type": "code",
   "execution_count": 5,
   "metadata": {},
   "outputs": [],
   "source": [
    "# Change to float\n",
    "\n",
    "# Remove space \n",
    "a_mockData_df['Price per Unit'] = a_mockData_df['Price per Unit'].str.replace(' ', '').str.replace('$', '', regex=True).str.strip()\n",
    "\n",
    "# Change Data type\n",
    "a_mockData_df['Price per Unit'] = a_mockData_df['Price per Unit'].astype('float32')"
   ]
  },
  {
   "cell_type": "code",
   "execution_count": 6,
   "metadata": {},
   "outputs": [],
   "source": [
    "# Change to int 8, the precision for int 8 bits are -127 to 127\n",
    "\n",
    "# Remove space \n",
    "a_mockData_df['Operating Margin'] = a_mockData_df['Operating Margin'].str.replace(' ', '').str.replace('%', '', regex=True).str.strip()\n",
    "\n",
    "# Change Data type\n",
    "a_mockData_df['Operating Margin'] = a_mockData_df['Operating Margin'].astype('int8')"
   ]
  },
  {
   "cell_type": "code",
   "execution_count": 7,
   "metadata": {},
   "outputs": [],
   "source": [
    "# Change Invoice date to date time \n",
    "\n",
    "a_mockData_df['Invoice Date'] = pd.to_datetime(a_mockData_df['Invoice Date'])"
   ]
  },
  {
   "cell_type": "code",
   "execution_count": 8,
   "metadata": {},
   "outputs": [
    {
     "data": {
      "text/plain": [
       "4310537"
      ]
     },
     "execution_count": 8,
     "metadata": {},
     "output_type": "execute_result"
    }
   ],
   "source": [
    "# Reduced Memory usage \n",
    "# Can reduce more when checking stats\n",
    "\n",
    "a_mockData_df.memory_usage(deep=True).sum()"
   ]
  },
  {
   "cell_type": "code",
   "execution_count": 9,
   "metadata": {},
   "outputs": [
    {
     "name": "stdout",
     "output_type": "stream",
     "text": [
      "(9648, 13)\n"
     ]
    },
    {
     "data": {
      "text/html": [
       "<div>\n",
       "<style scoped>\n",
       "    .dataframe tbody tr th:only-of-type {\n",
       "        vertical-align: middle;\n",
       "    }\n",
       "\n",
       "    .dataframe tbody tr th {\n",
       "        vertical-align: top;\n",
       "    }\n",
       "\n",
       "    .dataframe thead th {\n",
       "        text-align: right;\n",
       "    }\n",
       "</style>\n",
       "<table border=\"1\" class=\"dataframe\">\n",
       "  <thead>\n",
       "    <tr style=\"text-align: right;\">\n",
       "      <th></th>\n",
       "      <th>Retailer</th>\n",
       "      <th>Retailer ID</th>\n",
       "      <th>Invoice Date</th>\n",
       "      <th>Region</th>\n",
       "      <th>State</th>\n",
       "      <th>City</th>\n",
       "      <th>Product</th>\n",
       "      <th>Price per Unit</th>\n",
       "      <th>Units Sold</th>\n",
       "      <th>Total Sales</th>\n",
       "      <th>Operating Profit</th>\n",
       "      <th>Operating Margin</th>\n",
       "      <th>Sales Method</th>\n",
       "    </tr>\n",
       "  </thead>\n",
       "  <tbody>\n",
       "    <tr>\n",
       "      <th>0</th>\n",
       "      <td>Foot Locker</td>\n",
       "      <td>1185732</td>\n",
       "      <td>2020-01-01</td>\n",
       "      <td>Northeast</td>\n",
       "      <td>New York</td>\n",
       "      <td>New York</td>\n",
       "      <td>Men's Street Footwear</td>\n",
       "      <td>50.0</td>\n",
       "      <td>1200</td>\n",
       "      <td>600000</td>\n",
       "      <td>300000</td>\n",
       "      <td>50</td>\n",
       "      <td>In-store</td>\n",
       "    </tr>\n",
       "    <tr>\n",
       "      <th>1</th>\n",
       "      <td>Foot Locker</td>\n",
       "      <td>1185732</td>\n",
       "      <td>2020-01-02</td>\n",
       "      <td>Northeast</td>\n",
       "      <td>New York</td>\n",
       "      <td>New York</td>\n",
       "      <td>Men's Athletic Footwear</td>\n",
       "      <td>50.0</td>\n",
       "      <td>1000</td>\n",
       "      <td>500000</td>\n",
       "      <td>150000</td>\n",
       "      <td>30</td>\n",
       "      <td>In-store</td>\n",
       "    </tr>\n",
       "    <tr>\n",
       "      <th>2</th>\n",
       "      <td>Foot Locker</td>\n",
       "      <td>1185732</td>\n",
       "      <td>2020-01-03</td>\n",
       "      <td>Northeast</td>\n",
       "      <td>New York</td>\n",
       "      <td>New York</td>\n",
       "      <td>Women's Street Footwear</td>\n",
       "      <td>40.0</td>\n",
       "      <td>1000</td>\n",
       "      <td>400000</td>\n",
       "      <td>140000</td>\n",
       "      <td>35</td>\n",
       "      <td>In-store</td>\n",
       "    </tr>\n",
       "    <tr>\n",
       "      <th>3</th>\n",
       "      <td>Foot Locker</td>\n",
       "      <td>1185732</td>\n",
       "      <td>2020-01-04</td>\n",
       "      <td>Northeast</td>\n",
       "      <td>New York</td>\n",
       "      <td>New York</td>\n",
       "      <td>Women's Athletic Footwear</td>\n",
       "      <td>45.0</td>\n",
       "      <td>850</td>\n",
       "      <td>382500</td>\n",
       "      <td>133875</td>\n",
       "      <td>35</td>\n",
       "      <td>In-store</td>\n",
       "    </tr>\n",
       "    <tr>\n",
       "      <th>4</th>\n",
       "      <td>Foot Locker</td>\n",
       "      <td>1185732</td>\n",
       "      <td>2020-01-05</td>\n",
       "      <td>Northeast</td>\n",
       "      <td>New York</td>\n",
       "      <td>New York</td>\n",
       "      <td>Men's Apparel</td>\n",
       "      <td>60.0</td>\n",
       "      <td>900</td>\n",
       "      <td>540000</td>\n",
       "      <td>162000</td>\n",
       "      <td>30</td>\n",
       "      <td>In-store</td>\n",
       "    </tr>\n",
       "  </tbody>\n",
       "</table>\n",
       "</div>"
      ],
      "text/plain": [
       "      Retailer  Retailer ID Invoice Date     Region     State      City  \\\n",
       "0  Foot Locker      1185732   2020-01-01  Northeast  New York  New York   \n",
       "1  Foot Locker      1185732   2020-01-02  Northeast  New York  New York   \n",
       "2  Foot Locker      1185732   2020-01-03  Northeast  New York  New York   \n",
       "3  Foot Locker      1185732   2020-01-04  Northeast  New York  New York   \n",
       "4  Foot Locker      1185732   2020-01-05  Northeast  New York  New York   \n",
       "\n",
       "                     Product  Price per Unit  Units Sold  Total Sales  \\\n",
       "0      Men's Street Footwear            50.0        1200       600000   \n",
       "1    Men's Athletic Footwear            50.0        1000       500000   \n",
       "2    Women's Street Footwear            40.0        1000       400000   \n",
       "3  Women's Athletic Footwear            45.0         850       382500   \n",
       "4              Men's Apparel            60.0         900       540000   \n",
       "\n",
       "   Operating Profit  Operating Margin Sales Method  \n",
       "0            300000                50     In-store  \n",
       "1            150000                30     In-store  \n",
       "2            140000                35     In-store  \n",
       "3            133875                35     In-store  \n",
       "4            162000                30     In-store  "
      ]
     },
     "execution_count": 9,
     "metadata": {},
     "output_type": "execute_result"
    }
   ],
   "source": [
    "# Shape of the data frame and first five rows\n",
    "print(a_mockData_df.shape)\n",
    "a_mockData_df.head()"
   ]
  },
  {
   "cell_type": "code",
   "execution_count": 10,
   "metadata": {},
   "outputs": [
    {
     "data": {
      "text/html": [
       "<div>\n",
       "<style scoped>\n",
       "    .dataframe tbody tr th:only-of-type {\n",
       "        vertical-align: middle;\n",
       "    }\n",
       "\n",
       "    .dataframe tbody tr th {\n",
       "        vertical-align: top;\n",
       "    }\n",
       "\n",
       "    .dataframe thead th {\n",
       "        text-align: right;\n",
       "    }\n",
       "</style>\n",
       "<table border=\"1\" class=\"dataframe\">\n",
       "  <thead>\n",
       "    <tr style=\"text-align: right;\">\n",
       "      <th></th>\n",
       "      <th>Retailer</th>\n",
       "      <th>Retailer ID</th>\n",
       "      <th>Invoice Date</th>\n",
       "      <th>Region</th>\n",
       "      <th>State</th>\n",
       "      <th>City</th>\n",
       "      <th>Product</th>\n",
       "      <th>Price per Unit</th>\n",
       "      <th>Units Sold</th>\n",
       "      <th>Total Sales</th>\n",
       "      <th>Operating Profit</th>\n",
       "      <th>Operating Margin</th>\n",
       "      <th>Sales Method</th>\n",
       "    </tr>\n",
       "  </thead>\n",
       "  <tbody>\n",
       "    <tr>\n",
       "      <th>9643</th>\n",
       "      <td>Foot Locker</td>\n",
       "      <td>1185732</td>\n",
       "      <td>2021-01-24</td>\n",
       "      <td>Northeast</td>\n",
       "      <td>New Hampshire</td>\n",
       "      <td>Manchester</td>\n",
       "      <td>Men's Apparel</td>\n",
       "      <td>50.0</td>\n",
       "      <td>64</td>\n",
       "      <td>3200</td>\n",
       "      <td>896</td>\n",
       "      <td>28</td>\n",
       "      <td>Outlet</td>\n",
       "    </tr>\n",
       "    <tr>\n",
       "      <th>9644</th>\n",
       "      <td>Foot Locker</td>\n",
       "      <td>1185732</td>\n",
       "      <td>2021-01-24</td>\n",
       "      <td>Northeast</td>\n",
       "      <td>New Hampshire</td>\n",
       "      <td>Manchester</td>\n",
       "      <td>Women's Apparel</td>\n",
       "      <td>41.0</td>\n",
       "      <td>105</td>\n",
       "      <td>4305</td>\n",
       "      <td>1378</td>\n",
       "      <td>32</td>\n",
       "      <td>Outlet</td>\n",
       "    </tr>\n",
       "    <tr>\n",
       "      <th>9645</th>\n",
       "      <td>Foot Locker</td>\n",
       "      <td>1185732</td>\n",
       "      <td>2021-02-22</td>\n",
       "      <td>Northeast</td>\n",
       "      <td>New Hampshire</td>\n",
       "      <td>Manchester</td>\n",
       "      <td>Men's Street Footwear</td>\n",
       "      <td>41.0</td>\n",
       "      <td>184</td>\n",
       "      <td>7544</td>\n",
       "      <td>2791</td>\n",
       "      <td>37</td>\n",
       "      <td>Outlet</td>\n",
       "    </tr>\n",
       "    <tr>\n",
       "      <th>9646</th>\n",
       "      <td>Foot Locker</td>\n",
       "      <td>1185732</td>\n",
       "      <td>2021-02-22</td>\n",
       "      <td>Northeast</td>\n",
       "      <td>New Hampshire</td>\n",
       "      <td>Manchester</td>\n",
       "      <td>Men's Athletic Footwear</td>\n",
       "      <td>42.0</td>\n",
       "      <td>70</td>\n",
       "      <td>2940</td>\n",
       "      <td>1235</td>\n",
       "      <td>42</td>\n",
       "      <td>Outlet</td>\n",
       "    </tr>\n",
       "    <tr>\n",
       "      <th>9647</th>\n",
       "      <td>Foot Locker</td>\n",
       "      <td>1185732</td>\n",
       "      <td>2021-02-22</td>\n",
       "      <td>Northeast</td>\n",
       "      <td>New Hampshire</td>\n",
       "      <td>Manchester</td>\n",
       "      <td>Women's Street Footwear</td>\n",
       "      <td>29.0</td>\n",
       "      <td>83</td>\n",
       "      <td>2407</td>\n",
       "      <td>650</td>\n",
       "      <td>27</td>\n",
       "      <td>Outlet</td>\n",
       "    </tr>\n",
       "  </tbody>\n",
       "</table>\n",
       "</div>"
      ],
      "text/plain": [
       "         Retailer  Retailer ID Invoice Date     Region          State  \\\n",
       "9643  Foot Locker      1185732   2021-01-24  Northeast  New Hampshire   \n",
       "9644  Foot Locker      1185732   2021-01-24  Northeast  New Hampshire   \n",
       "9645  Foot Locker      1185732   2021-02-22  Northeast  New Hampshire   \n",
       "9646  Foot Locker      1185732   2021-02-22  Northeast  New Hampshire   \n",
       "9647  Foot Locker      1185732   2021-02-22  Northeast  New Hampshire   \n",
       "\n",
       "            City                  Product  Price per Unit  Units Sold  \\\n",
       "9643  Manchester            Men's Apparel            50.0          64   \n",
       "9644  Manchester          Women's Apparel            41.0         105   \n",
       "9645  Manchester    Men's Street Footwear            41.0         184   \n",
       "9646  Manchester  Men's Athletic Footwear            42.0          70   \n",
       "9647  Manchester  Women's Street Footwear            29.0          83   \n",
       "\n",
       "      Total Sales  Operating Profit  Operating Margin Sales Method  \n",
       "9643         3200               896                28       Outlet  \n",
       "9644         4305              1378                32       Outlet  \n",
       "9645         7544              2791                37       Outlet  \n",
       "9646         2940              1235                42       Outlet  \n",
       "9647         2407               650                27       Outlet  "
      ]
     },
     "execution_count": 10,
     "metadata": {},
     "output_type": "execute_result"
    }
   ],
   "source": [
    "# Tale \n",
    "\n",
    "a_mockData_df.tail()"
   ]
  },
  {
   "attachments": {},
   "cell_type": "markdown",
   "metadata": {},
   "source": [
    "Both head and Tail showing Retailers as Foot Locker. I need to inspect data for unique values. If its only Foot Locker then it will be one"
   ]
  },
  {
   "cell_type": "code",
   "execution_count": 11,
   "metadata": {},
   "outputs": [
    {
     "name": "stdout",
     "output_type": "stream",
     "text": [
      "Total 6 Number of unique retailers\n"
     ]
    },
    {
     "data": {
      "text/plain": [
       "array(['Foot Locker', 'Walmart', 'Sports Direct', 'West Gear', \"Kohl's\",\n",
       "       'Amazon'], dtype=object)"
      ]
     },
     "execution_count": 11,
     "metadata": {},
     "output_type": "execute_result"
    }
   ],
   "source": [
    "# Number of unique retailers in the data set\n",
    "\n",
    "print(\"Total\",len(a_mockData_df['Retailer'].unique()), \"Number of unique retailers\")\n",
    "a_mockData_df['Retailer'].unique()\n"
   ]
  },
  {
   "attachments": {},
   "cell_type": "markdown",
   "metadata": {},
   "source": [
    "This also means that the Retailer IDs are also the same "
   ]
  },
  {
   "cell_type": "code",
   "execution_count": 12,
   "metadata": {},
   "outputs": [
    {
     "name": "stdout",
     "output_type": "stream",
     "text": [
      "Total 4 Number of unique retailers\n"
     ]
    }
   ],
   "source": [
    "print(\"Total\",len(a_mockData_df['Retailer ID'].unique()), \"Number of unique retailers\")"
   ]
  },
  {
   "attachments": {},
   "cell_type": "markdown",
   "metadata": {},
   "source": [
    "This is not the case, we might need to drop the IDs and just work with retailers. Also we do not really need ID."
   ]
  },
  {
   "cell_type": "code",
   "execution_count": 13,
   "metadata": {},
   "outputs": [],
   "source": [
    "# Drop Retailer ID \n",
    "a_mockData_df = a_mockData_df.drop('Retailer ID',axis=1)"
   ]
  },
  {
   "cell_type": "code",
   "execution_count": 14,
   "metadata": {},
   "outputs": [
    {
     "data": {
      "text/plain": [
       "Retailer            0\n",
       "Invoice Date        0\n",
       "Region              0\n",
       "State               0\n",
       "City                0\n",
       "Product             0\n",
       "Price per Unit      0\n",
       "Units Sold          0\n",
       "Total Sales         0\n",
       "Operating Profit    0\n",
       "Operating Margin    0\n",
       "Sales Method        0\n",
       "dtype: int64"
      ]
     },
     "execution_count": 14,
     "metadata": {},
     "output_type": "execute_result"
    }
   ],
   "source": [
    "# Check for Nan values\n",
    "(\n",
    "    a_mockData_df\n",
    "    .isna()\n",
    "    .sum()\n",
    ")"
   ]
  },
  {
   "attachments": {},
   "cell_type": "markdown",
   "metadata": {},
   "source": [
    "Great! No NaN Values"
   ]
  },
  {
   "cell_type": "code",
   "execution_count": 15,
   "metadata": {},
   "outputs": [
    {
     "name": "stdout",
     "output_type": "stream",
     "text": [
      "<class 'pandas.core.frame.DataFrame'>\n",
      "RangeIndex: 9648 entries, 0 to 9647\n",
      "Data columns (total 12 columns):\n",
      " #   Column            Non-Null Count  Dtype         \n",
      "---  ------            --------------  -----         \n",
      " 0   Retailer          9648 non-null   object        \n",
      " 1   Invoice Date      9648 non-null   datetime64[ns]\n",
      " 2   Region            9648 non-null   object        \n",
      " 3   State             9648 non-null   object        \n",
      " 4   City              9648 non-null   object        \n",
      " 5   Product           9648 non-null   object        \n",
      " 6   Price per Unit    9648 non-null   float32       \n",
      " 7   Units Sold        9648 non-null   int64         \n",
      " 8   Total Sales       9648 non-null   int64         \n",
      " 9   Operating Profit  9648 non-null   int64         \n",
      " 10  Operating Margin  9648 non-null   int8          \n",
      " 11  Sales Method      9648 non-null   object        \n",
      "dtypes: datetime64[ns](1), float32(1), int64(3), int8(1), object(6)\n",
      "memory usage: 801.0+ KB\n"
     ]
    }
   ],
   "source": [
    "# Data Frame info on data types\n",
    "\n",
    "a_mockData_df.info()"
   ]
  },
  {
   "attachments": {},
   "cell_type": "markdown",
   "metadata": {},
   "source": [
    "Need to change numerical values "
   ]
  },
  {
   "cell_type": "code",
   "execution_count": 16,
   "metadata": {},
   "outputs": [
    {
     "data": {
      "text/html": [
       "<div>\n",
       "<style scoped>\n",
       "    .dataframe tbody tr th:only-of-type {\n",
       "        vertical-align: middle;\n",
       "    }\n",
       "\n",
       "    .dataframe tbody tr th {\n",
       "        vertical-align: top;\n",
       "    }\n",
       "\n",
       "    .dataframe thead th {\n",
       "        text-align: right;\n",
       "    }\n",
       "</style>\n",
       "<table border=\"1\" class=\"dataframe\">\n",
       "  <thead>\n",
       "    <tr style=\"text-align: right;\">\n",
       "      <th></th>\n",
       "      <th>Price per Unit</th>\n",
       "      <th>Units Sold</th>\n",
       "      <th>Total Sales</th>\n",
       "      <th>Operating Profit</th>\n",
       "      <th>Operating Margin</th>\n",
       "    </tr>\n",
       "  </thead>\n",
       "  <tbody>\n",
       "    <tr>\n",
       "      <th>count</th>\n",
       "      <td>9648.000000</td>\n",
       "      <td>9648.000000</td>\n",
       "      <td>9648.000000</td>\n",
       "      <td>9648.000000</td>\n",
       "      <td>9648.000000</td>\n",
       "    </tr>\n",
       "    <tr>\n",
       "      <th>mean</th>\n",
       "      <td>45.216625</td>\n",
       "      <td>256.930037</td>\n",
       "      <td>93273.437500</td>\n",
       "      <td>34425.282131</td>\n",
       "      <td>42.299129</td>\n",
       "    </tr>\n",
       "    <tr>\n",
       "      <th>std</th>\n",
       "      <td>14.705407</td>\n",
       "      <td>214.252030</td>\n",
       "      <td>141916.016727</td>\n",
       "      <td>54193.124141</td>\n",
       "      <td>9.719742</td>\n",
       "    </tr>\n",
       "    <tr>\n",
       "      <th>min</th>\n",
       "      <td>7.000000</td>\n",
       "      <td>0.000000</td>\n",
       "      <td>0.000000</td>\n",
       "      <td>0.000000</td>\n",
       "      <td>10.000000</td>\n",
       "    </tr>\n",
       "    <tr>\n",
       "      <th>25%</th>\n",
       "      <td>35.000000</td>\n",
       "      <td>106.000000</td>\n",
       "      <td>4254.500000</td>\n",
       "      <td>1922.000000</td>\n",
       "      <td>35.000000</td>\n",
       "    </tr>\n",
       "    <tr>\n",
       "      <th>50%</th>\n",
       "      <td>45.000000</td>\n",
       "      <td>176.000000</td>\n",
       "      <td>9576.000000</td>\n",
       "      <td>4371.500000</td>\n",
       "      <td>41.000000</td>\n",
       "    </tr>\n",
       "    <tr>\n",
       "      <th>75%</th>\n",
       "      <td>55.000000</td>\n",
       "      <td>350.000000</td>\n",
       "      <td>150000.000000</td>\n",
       "      <td>52063.000000</td>\n",
       "      <td>49.000000</td>\n",
       "    </tr>\n",
       "    <tr>\n",
       "      <th>max</th>\n",
       "      <td>110.000000</td>\n",
       "      <td>1275.000000</td>\n",
       "      <td>825000.000000</td>\n",
       "      <td>390000.000000</td>\n",
       "      <td>80.000000</td>\n",
       "    </tr>\n",
       "  </tbody>\n",
       "</table>\n",
       "</div>"
      ],
      "text/plain": [
       "       Price per Unit   Units Sold    Total Sales  Operating Profit  \\\n",
       "count     9648.000000  9648.000000    9648.000000       9648.000000   \n",
       "mean        45.216625   256.930037   93273.437500      34425.282131   \n",
       "std         14.705407   214.252030  141916.016727      54193.124141   \n",
       "min          7.000000     0.000000       0.000000          0.000000   \n",
       "25%         35.000000   106.000000    4254.500000       1922.000000   \n",
       "50%         45.000000   176.000000    9576.000000       4371.500000   \n",
       "75%         55.000000   350.000000  150000.000000      52063.000000   \n",
       "max        110.000000  1275.000000  825000.000000     390000.000000   \n",
       "\n",
       "       Operating Margin  \n",
       "count       9648.000000  \n",
       "mean          42.299129  \n",
       "std            9.719742  \n",
       "min           10.000000  \n",
       "25%           35.000000  \n",
       "50%           41.000000  \n",
       "75%           49.000000  \n",
       "max           80.000000  "
      ]
     },
     "execution_count": 16,
     "metadata": {},
     "output_type": "execute_result"
    }
   ],
   "source": [
    "a_mockData_df.describe()"
   ]
  },
  {
   "attachments": {},
   "cell_type": "markdown",
   "metadata": {},
   "source": [
    "### Data Analysis\n",
    "\n",
    "##### Total items Sold"
   ]
  },
  {
   "cell_type": "code",
   "execution_count": 25,
   "metadata": {},
   "outputs": [
    {
     "data": {
      "text/plain": [
       "Product\n",
       "Men's Athletic Footwear      1610\n",
       "Men's Street Footwear        1610\n",
       "Women's Apparel              1608\n",
       "Women's Street Footwear      1608\n",
       "Men's Apparel                1606\n",
       "Women's Athletic Footwear    1606\n",
       "Name: Product, dtype: int64"
      ]
     },
     "execution_count": 25,
     "metadata": {},
     "output_type": "execute_result"
    }
   ],
   "source": [
    "# Number of Product sold count\n",
    "\n",
    "(\n",
    "    a_mockData_df\n",
    "    .groupby('Product')\n",
    "    ['Product']\n",
    "    .count()\n",
    "    .sort_values(ascending = False)\n",
    ")"
   ]
  },
  {
   "cell_type": "code",
   "execution_count": 31,
   "metadata": {},
   "outputs": [
    {
     "data": {
      "text/plain": [
       "Region     Product                  \n",
       "West       Men's Street Footwear        410\n",
       "           Men's Athletic Footwear      410\n",
       "           Women's Street Footwear      408\n",
       "           Women's Apparel              408\n",
       "           Women's Athletic Footwear    406\n",
       "           Men's Apparel                406\n",
       "Northeast  Men's Apparel                396\n",
       "           Men's Athletic Footwear      396\n",
       "           Men's Street Footwear        396\n",
       "           Women's Apparel              396\n",
       "           Women's Athletic Footwear    396\n",
       "           Women's Street Footwear      396\n",
       "Midwest    Men's Athletic Footwear      312\n",
       "           Men's Apparel                312\n",
       "           Women's Street Footwear      312\n",
       "           Women's Athletic Footwear    312\n",
       "           Women's Apparel              312\n",
       "           Men's Street Footwear        312\n",
       "South      Men's Street Footwear        288\n",
       "           Men's Athletic Footwear      288\n",
       "           Women's Athletic Footwear    288\n",
       "           Women's Street Footwear      288\n",
       "           Men's Apparel                288\n",
       "           Women's Apparel              288\n",
       "Southeast  Men's Apparel                204\n",
       "           Men's Athletic Footwear      204\n",
       "           Men's Street Footwear        204\n",
       "           Women's Apparel              204\n",
       "           Women's Athletic Footwear    204\n",
       "           Women's Street Footwear      204\n",
       "Name: Product, dtype: int64"
      ]
     },
     "execution_count": 31,
     "metadata": {},
     "output_type": "execute_result"
    }
   ],
   "source": [
    "# Drill down to regions \n",
    "(\n",
    "    a_mockData_df\n",
    "    .groupby(['Region','Product'])\n",
    "    ['Product']\n",
    "    .count()\n",
    "    .sort_values(ascending= False)\n",
    "    \n",
    ")"
   ]
  },
  {
   "cell_type": "code",
   "execution_count": 42,
   "metadata": {},
   "outputs": [
    {
     "data": {
      "text/plain": [
       "City\n",
       "Portland          360\n",
       "Charleston        288\n",
       "Las Vegas         216\n",
       "New Orleans       216\n",
       "Manchester        216\n",
       "Oklahoma City     216\n",
       "Los Angeles       216\n",
       "Little Rock       216\n",
       "Albuquerque       216\n",
       "Knoxville         216\n",
       "Jackson           216\n",
       "Houston           216\n",
       "Orlando           216\n",
       "Hartford          216\n",
       "Philadelphia      216\n",
       "Phoenix           216\n",
       "Providence        216\n",
       "Dallas            216\n",
       "Richmond          216\n",
       "Salt Lake City    216\n",
       "San Francisco     216\n",
       "Burlington        216\n",
       "Boston            216\n",
       "Boise             216\n",
       "Birmingham        216\n",
       "Atlanta           216\n",
       "New York          216\n",
       "Seattle           144\n",
       "Omaha             144\n",
       "Sioux Falls       144\n",
       "St. Louis         144\n",
       "Wichita           144\n",
       "Newark            144\n",
       "Albany            144\n",
       "Minneapolis       144\n",
       "Milwaukee         144\n",
       "Anchorage         144\n",
       "Baltimore         144\n",
       "Billings          144\n",
       "Charlotte         144\n",
       "Cheyenne          144\n",
       "Chicago           144\n",
       "Columbus          144\n",
       "Denver            144\n",
       "Des Moines        144\n",
       "Detroit           144\n",
       "Fargo             144\n",
       "Honolulu          144\n",
       "Indianapolis      144\n",
       "Louisville        144\n",
       "Miami             144\n",
       "Wilmington        144\n",
       "Name: Product, dtype: int64"
      ]
     },
     "execution_count": 42,
     "metadata": {},
     "output_type": "execute_result"
    }
   ],
   "source": [
    "# Add Cities for more Granularity? It is not a good idea as it will crowd the space. So I will just return top 5\n",
    "\n",
    "(\n",
    "    a_mockData_df\n",
    "    .groupby(['City'])\n",
    "    ['Product']\n",
    "    .count()\n",
    "    .sort_values(ascending= False)\n",
    "    \n",
    "    \n",
    ")\n",
    "\n"
   ]
  },
  {
   "cell_type": "code",
   "execution_count": 41,
   "metadata": {},
   "outputs": [
    {
     "data": {
      "text/plain": [
       "Region     City      \n",
       "Northeast  Baltimore     144\n",
       "           Charleston    144\n",
       "           Newark        144\n",
       "           Portland      144\n",
       "West       Seattle       144\n",
       "Name: Product, dtype: int64"
      ]
     },
     "execution_count": 41,
     "metadata": {},
     "output_type": "execute_result"
    }
   ],
   "source": [
    "# Bottom 5\n",
    "(\n",
    "    a_mockData_df\n",
    "    .groupby(['Region','City'])\n",
    "    ['Product']\n",
    "    .count()\n",
    "    .sort_values(ascending= False)\n",
    "    .tail(5)\n",
    "    \n",
    ")"
   ]
  },
  {
   "cell_type": "code",
   "execution_count": 18,
   "metadata": {},
   "outputs": [
    {
     "data": {
      "image/png": "[encoded data removed]",
      "text/plain": [
       "<Figure size 640x480 with 1 Axes>"
      ]
     },
     "metadata": {},
     "output_type": "display_data"
    }
   ],
   "source": [
    "# Scatter Plot of Units Sold vs Total Sales\n",
    "\n",
    "x = a_mockData_df['Units Sold']\n",
    "y = a_mockData_df['Total Sales']\n",
    "\n",
    "# Set style\n",
    "sns.set(style='ticks')\n",
    "\n",
    "# Plot\n",
    "sns.scatterplot(x=x, y=y, color='green')\n",
    "\n",
    "# Adding labels and title\n",
    "plt.xlabel('Units Sold')\n",
    "plt.ylabel('Total Sales')\n",
    "plt.title('Total Sales vs Units Sold')\n",
    "\n",
    "# Displaying the plot\n",
    "plt.show()"
   ]
  },
  {
   "cell_type": "code",
   "execution_count": 19,
   "metadata": {},
   "outputs": [
    {
     "data": {
      "image/png": "[encoded data removed]",
      "text/plain": [
       "<Figure size 900x600 with 1 Axes>"
      ]
     },
     "metadata": {},
     "output_type": "display_data"
    }
   ],
   "source": [
    "# Units Sold each Region \n",
    "\n",
    "regionSold = a_mockData_df.groupby('Region')['Units Sold'].sum().sort_values(ascending=True)\n",
    "\n",
    "# Setting color pallet \n",
    "c = sns.color_palette('mako')\n",
    "\n",
    "# Reverse list to make highest value solid\n",
    "c = c[::-1]\n",
    "\n",
    "# Set a smaller figure size\n",
    "fig, ax = plt.subplots(figsize=(9, 6))\n",
    "\n",
    "# Create a horizontal bar chart\n",
    "ax.barh(regionSold.index, regionSold, color=c )\n",
    "plt.xlabel('Units Sold')\n",
    "plt.ylabel('Region')\n",
    "plt.title('Total Units Sold by Region')\n",
    "\n",
    "# Add value annotations to each bar\n",
    "for index, value in enumerate(regionSold):\n",
    "    plt.text(value, index, \"{:,}\".format(value), ha='left', va='center')\n",
    "\n",
    "plt.tight_layout()  \n",
    "plt.show()\n"
   ]
  },
  {
   "cell_type": "code",
   "execution_count": 20,
   "metadata": {},
   "outputs": [
    {
     "data": {
      "text/plain": [
       "Text(0.5, 1.0, 'Total Sales Revenue by Retailer')"
      ]
     },
     "execution_count": 20,
     "metadata": {},
     "output_type": "execute_result"
    },
    {
     "data": {
      "image/png": "[encoded data removed]",
      "text/plain": [
       "<Figure size 640x480 with 1 Axes>"
      ]
     },
     "metadata": {},
     "output_type": "display_data"
    }
   ],
   "source": [
    "# Retailer Performance \n",
    "(\n",
    "    a_mockData_df\n",
    "    .groupby('Retailer')\n",
    "    ['Total Sales']\n",
    "    .sum()\n",
    "    .sort_values(ascending=False)\n",
    "    .plot(kind= 'bar',width = 0.3, color ='green', edgecolor='blue')\n",
    " \n",
    ")\n",
    "\n",
    "\n",
    "\n",
    "# Adding labels and title\n",
    "plt.xlabel('Retailer')\n",
    "plt.ylabel('Total Sales')\n",
    "plt.title('Total Sales Revenue by Retailer')\n",
    "\n"
   ]
  },
  {
   "attachments": {},
   "cell_type": "markdown",
   "metadata": {},
   "source": [
    "#### Correlation Heat manp "
   ]
  },
  {
   "cell_type": "code",
   "execution_count": 21,
   "metadata": {},
   "outputs": [
    {
     "data": {
      "image/png": "[encoded data removed]",
      "text/plain": [
       "<Figure size 800x600 with 2 Axes>"
      ]
     },
     "metadata": {},
     "output_type": "display_data"
    }
   ],
   "source": [
    "# Create a heatmap of the correlation matrix\n",
    "plt.figure(figsize=(8, 6))\n",
    "sns.heatmap(a_mockData_df.corr(numeric_only=True), annot=True, cmap='coolwarm', square=True)\n",
    "plt.title('Correlation Matrix Heatmap')\n",
    "plt.show()"
   ]
  }
 ],
 "metadata": {
  "kernelspec": {
   "display_name": "base",
   "language": "python",
   "name": "python3"
  },
  "language_info": {
   "codemirror_mode": {
    "name": "ipython",
    "version": 3
   },
   "file_extension": ".py",
   "mimetype": "text/x-python",
   "name": "python",
   "nbconvert_exporter": "python",
   "pygments_lexer": "ipython3",
   "version": "3.9.16"
  },
  "orig_nbformat": 4
 },
 "nbformat": 4,
 "nbformat_minor": 2
}
