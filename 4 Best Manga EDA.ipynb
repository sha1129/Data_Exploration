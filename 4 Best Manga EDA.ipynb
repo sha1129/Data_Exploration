{
 "cells": [
  {
   "cell_type": "markdown",
   "metadata": {},
   "source": [
    "# Best Manga"
   ]
  },
  {
   "cell_type": "code",
   "execution_count": 2,
   "metadata": {},
   "outputs": [],
   "source": [
    "import numpy as np\n",
    "import pandas as pd \n",
    "import matplotlib.pyplot as plt \n",
    "import seaborn as sns "
   ]
  },
  {
   "cell_type": "code",
   "execution_count": 3,
   "metadata": {},
   "outputs": [],
   "source": [
    "bestM_df = pd.read_csv(...\\best-selling-manga.csv\")"
   ]
  },
  {
   "cell_type": "markdown",
   "metadata": {},
   "source": [
    "## Data Frame Exploration\n",
    "\n",
    "### Shape, head and Data types"
   ]
  },
  {
   "cell_type": "code",
   "execution_count": 5,
   "metadata": {},
   "outputs": [
    {
     "name": "stdout",
     "output_type": "stream",
     "text": [
      "Shape of the data frame (187, 8)\n"
     ]
    },
    {
     "data": {
      "text/html": [
       "<div>\n",
       "<style scoped>\n",
       "    .dataframe tbody tr th:only-of-type {\n",
       "        vertical-align: middle;\n",
       "    }\n",
       "\n",
       "    .dataframe tbody tr th {\n",
       "        vertical-align: top;\n",
       "    }\n",
       "\n",
       "    .dataframe thead th {\n",
       "        text-align: right;\n",
       "    }\n",
       "</style>\n",
       "<table border=\"1\" class=\"dataframe\">\n",
       "  <thead>\n",
       "    <tr style=\"text-align: right;\">\n",
       "      <th></th>\n",
       "      <th>Manga series</th>\n",
       "      <th>Author(s)</th>\n",
       "      <th>Publisher</th>\n",
       "      <th>Demographic</th>\n",
       "      <th>No. of collected volumes</th>\n",
       "      <th>Serialized</th>\n",
       "      <th>Approximate sales in million(s)</th>\n",
       "      <th>Average sales per volume in million(s)</th>\n",
       "    </tr>\n",
       "  </thead>\n",
       "  <tbody>\n",
       "    <tr>\n",
       "      <th>0</th>\n",
       "      <td>One Piece</td>\n",
       "      <td>Eiichiro Oda</td>\n",
       "      <td>Shueisha</td>\n",
       "      <td>Shōnen</td>\n",
       "      <td>104</td>\n",
       "      <td>1997–present</td>\n",
       "      <td>516.6</td>\n",
       "      <td>4.97</td>\n",
       "    </tr>\n",
       "    <tr>\n",
       "      <th>1</th>\n",
       "      <td>Golgo 13</td>\n",
       "      <td>Takao Saito, Saito Production</td>\n",
       "      <td>Shogakukan</td>\n",
       "      <td>Seinen</td>\n",
       "      <td>207</td>\n",
       "      <td>1968–present</td>\n",
       "      <td>300.0</td>\n",
       "      <td>1.45</td>\n",
       "    </tr>\n",
       "    <tr>\n",
       "      <th>2</th>\n",
       "      <td>Case Closed / Detective Conan</td>\n",
       "      <td>Gosho Aoyama</td>\n",
       "      <td>Shogakukan</td>\n",
       "      <td>Shōnen</td>\n",
       "      <td>102</td>\n",
       "      <td>1994–present</td>\n",
       "      <td>270.0</td>\n",
       "      <td>2.65</td>\n",
       "    </tr>\n",
       "    <tr>\n",
       "      <th>3</th>\n",
       "      <td>Dragon Ball</td>\n",
       "      <td>Akira Toriyama</td>\n",
       "      <td>Shueisha</td>\n",
       "      <td>Shōnen</td>\n",
       "      <td>42</td>\n",
       "      <td>1984–1995</td>\n",
       "      <td>260.0</td>\n",
       "      <td>6.19</td>\n",
       "    </tr>\n",
       "    <tr>\n",
       "      <th>4</th>\n",
       "      <td>Doraemon</td>\n",
       "      <td>Fujiko F. Fujio</td>\n",
       "      <td>Shogakukan</td>\n",
       "      <td>Children</td>\n",
       "      <td>45</td>\n",
       "      <td>1969–1996</td>\n",
       "      <td>250.0</td>\n",
       "      <td>4.71</td>\n",
       "    </tr>\n",
       "  </tbody>\n",
       "</table>\n",
       "</div>"
      ],
      "text/plain": [
       "                    Manga series                      Author(s)   Publisher  \\\n",
       "0                      One Piece                   Eiichiro Oda    Shueisha   \n",
       "1                       Golgo 13  Takao Saito, Saito Production  Shogakukan   \n",
       "2  Case Closed / Detective Conan                   Gosho Aoyama  Shogakukan   \n",
       "3                    Dragon Ball                 Akira Toriyama    Shueisha   \n",
       "4                       Doraemon                Fujiko F. Fujio  Shogakukan   \n",
       "\n",
       "  Demographic  No. of collected volumes    Serialized  \\\n",
       "0      Shōnen                       104  1997–present   \n",
       "1      Seinen                       207  1968–present   \n",
       "2      Shōnen                       102  1994–present   \n",
       "3      Shōnen                        42     1984–1995   \n",
       "4    Children                        45     1969–1996   \n",
       "\n",
       "   Approximate sales in million(s)  Average sales per volume in million(s)  \n",
       "0                            516.6                                    4.97  \n",
       "1                            300.0                                    1.45  \n",
       "2                            270.0                                    2.65  \n",
       "3                            260.0                                    6.19  \n",
       "4                            250.0                                    4.71  "
      ]
     },
     "execution_count": 5,
     "metadata": {},
     "output_type": "execute_result"
    }
   ],
   "source": [
    "print(\"Shape of the data frame\",bestM_df.shape)\n",
    "bestM_df.head()"
   ]
  },
  {
   "cell_type": "code",
   "execution_count": 6,
   "metadata": {},
   "outputs": [
    {
     "name": "stdout",
     "output_type": "stream",
     "text": [
      "<class 'pandas.core.frame.DataFrame'>\n",
      "RangeIndex: 187 entries, 0 to 186\n",
      "Data columns (total 8 columns):\n",
      " #   Column                                  Non-Null Count  Dtype  \n",
      "---  ------                                  --------------  -----  \n",
      " 0   Manga series                            187 non-null    object \n",
      " 1   Author(s)                               187 non-null    object \n",
      " 2   Publisher                               187 non-null    object \n",
      " 3   Demographic                             187 non-null    object \n",
      " 4   No. of collected volumes                187 non-null    int64  \n",
      " 5   Serialized                              187 non-null    object \n",
      " 6   Approximate sales in million(s)         187 non-null    float64\n",
      " 7   Average sales per volume in million(s)  187 non-null    float64\n",
      "dtypes: float64(2), int64(1), object(5)\n",
      "memory usage: 11.8+ KB\n"
     ]
    }
   ],
   "source": [
    "bestM_df.info()"
   ]
  },
  {
   "cell_type": "code",
   "execution_count": 24,
   "metadata": {},
   "outputs": [
    {
     "data": {
      "text/plain": [
       "Manga series                              0\n",
       "Author(s)                                 0\n",
       "Publisher                                 0\n",
       "Demographic                               0\n",
       "No. of collected volumes                  0\n",
       "Serialized                                0\n",
       "Approximate sales in million(s)           0\n",
       "Average sales per volume in million(s)    0\n",
       "dtype: int64"
      ]
     },
     "execution_count": 24,
     "metadata": {},
     "output_type": "execute_result"
    }
   ],
   "source": [
    "bestM_df.isna().sum()"
   ]
  },
  {
   "cell_type": "markdown",
   "metadata": {},
   "source": [
    "### Memory Usage"
   ]
  },
  {
   "cell_type": "code",
   "execution_count": 8,
   "metadata": {},
   "outputs": [
    {
     "data": {
      "text/plain": [
       "80626"
      ]
     },
     "execution_count": 8,
     "metadata": {},
     "output_type": "execute_result"
    }
   ],
   "source": [
    "bestM_df.memory_usage(deep=True).sum()"
   ]
  },
  {
   "cell_type": "markdown",
   "metadata": {},
   "source": [
    "## Change Data Types\n",
    "\n",
    "### float64 to float16"
   ]
  },
  {
   "cell_type": "code",
   "execution_count": 11,
   "metadata": {},
   "outputs": [],
   "source": [
    "bestM_df['Average sales per volume in million(s)'] = bestM_df['Average sales per volume in million(s)'].astype('float16')\n",
    "bestM_df['Approximate sales in million(s)'] = bestM_df['Approximate sales in million(s)'].astype('float16')"
   ]
  },
  {
   "cell_type": "markdown",
   "metadata": {},
   "source": [
    "### int64 change"
   ]
  },
  {
   "cell_type": "code",
   "execution_count": 13,
   "metadata": {},
   "outputs": [
    {
     "data": {
      "text/plain": [
       "207"
      ]
     },
     "execution_count": 13,
     "metadata": {},
     "output_type": "execute_result"
    }
   ],
   "source": [
    "bestM_df['No. of collected volumes'].max()"
   ]
  },
  {
   "cell_type": "markdown",
   "metadata": {},
   "source": [
    "Since the max value is 207 we can change it to int16"
   ]
  },
  {
   "cell_type": "code",
   "execution_count": 14,
   "metadata": {},
   "outputs": [],
   "source": [
    "bestM_df['No. of collected volumes'] = bestM_df['No. of collected volumes'].astype('int16')"
   ]
  },
  {
   "cell_type": "code",
   "execution_count": 19,
   "metadata": {},
   "outputs": [
    {
     "name": "stdout",
     "output_type": "stream",
     "text": [
      "The max value 207 The min age 5\n"
     ]
    }
   ],
   "source": [
    "print('The max value',bestM_df['No. of collected volumes'].max(),'The min age',bestM_df['No. of collected volumes'].min())\n"
   ]
  },
  {
   "cell_type": "markdown",
   "metadata": {},
   "source": [
    "### Memory usage check"
   ]
  },
  {
   "cell_type": "code",
   "execution_count": 15,
   "metadata": {},
   "outputs": [
    {
     "data": {
      "text/plain": [
       "77260"
      ]
     },
     "execution_count": 15,
     "metadata": {},
     "output_type": "execute_result"
    }
   ],
   "source": [
    "bestM_df.memory_usage(deep=True).sum()"
   ]
  },
  {
   "cell_type": "markdown",
   "metadata": {},
   "source": [
    "Not significant but still it is a good practice"
   ]
  },
  {
   "cell_type": "markdown",
   "metadata": {},
   "source": [
    "## Add New Columns\n",
    "\n",
    "Adding few columns for better Exploration of the data"
   ]
  },
  {
   "cell_type": "markdown",
   "metadata": {},
   "source": [
    "### Year start and Year End Columns"
   ]
  },
  {
   "cell_type": "code",
   "execution_count": 52,
   "metadata": {},
   "outputs": [],
   "source": [
    "# bestM_df[Serialized_YearStart] = bestM_df['Serialized'].str.extract(r'(\\d{4})') \n",
    "bestM_df['YearStart'] = bestM_df['Serialized'].str.extract(r'(\\d{4})')\n",
    "bestM_df['YearEnd'] = bestM_df['Serialized'].str.extract(r'(\\d{4}(?=\\s|$)|present)')\n",
    "\n",
    "# Find and values as present and change to 2023\n",
    "bestM_df.loc[bestM_df['YearEnd'] == 'present', 'YearEnd'] = 2023\n",
    "\n",
    "# Change to int for Year start and year end\n",
    "bestM_df[['YearStart','YearEnd']] = bestM_df[['YearStart','YearEnd']].astype('int16')\n",
    "\n"
   ]
  },
  {
   "cell_type": "markdown",
   "metadata": {},
   "source": [
    "### Number of Authors"
   ]
  },
  {
   "cell_type": "code",
   "execution_count": 58,
   "metadata": {},
   "outputs": [],
   "source": [
    "bestM_df['Author Count'] = (bestM_df['Author(s)'].str.count(',')+1).astype('int8')"
   ]
  },
  {
   "cell_type": "markdown",
   "metadata": {},
   "source": [
    "### Final Memory Use Check and Data Frame Check"
   ]
  },
  {
   "cell_type": "code",
   "execution_count": 64,
   "metadata": {},
   "outputs": [
    {
     "name": "stdout",
     "output_type": "stream",
     "text": [
      "Memory Usage 78195\n"
     ]
    },
    {
     "data": {
      "text/html": [
       "<div>\n",
       "<style scoped>\n",
       "    .dataframe tbody tr th:only-of-type {\n",
       "        vertical-align: middle;\n",
       "    }\n",
       "\n",
       "    .dataframe tbody tr th {\n",
       "        vertical-align: top;\n",
       "    }\n",
       "\n",
       "    .dataframe thead th {\n",
       "        text-align: right;\n",
       "    }\n",
       "</style>\n",
       "<table border=\"1\" class=\"dataframe\">\n",
       "  <thead>\n",
       "    <tr style=\"text-align: right;\">\n",
       "      <th></th>\n",
       "      <th>Manga series</th>\n",
       "      <th>Author(s)</th>\n",
       "      <th>Publisher</th>\n",
       "      <th>Demographic</th>\n",
       "      <th>No. of collected volumes</th>\n",
       "      <th>Serialized</th>\n",
       "      <th>Approximate sales in million(s)</th>\n",
       "      <th>Average sales per volume in million(s)</th>\n",
       "      <th>YearStart</th>\n",
       "      <th>YearEnd</th>\n",
       "      <th>Author Count</th>\n",
       "    </tr>\n",
       "  </thead>\n",
       "  <tbody>\n",
       "    <tr>\n",
       "      <th>0</th>\n",
       "      <td>One Piece</td>\n",
       "      <td>Eiichiro Oda</td>\n",
       "      <td>Shueisha</td>\n",
       "      <td>Shōnen</td>\n",
       "      <td>104</td>\n",
       "      <td>1997–present</td>\n",
       "      <td>4.968750</td>\n",
       "      <td>4.968750</td>\n",
       "      <td>1997</td>\n",
       "      <td>2023</td>\n",
       "      <td>1</td>\n",
       "    </tr>\n",
       "    <tr>\n",
       "      <th>1</th>\n",
       "      <td>Golgo 13</td>\n",
       "      <td>Takao Saito, Saito Production</td>\n",
       "      <td>Shogakukan</td>\n",
       "      <td>Seinen</td>\n",
       "      <td>207</td>\n",
       "      <td>1968–present</td>\n",
       "      <td>1.450195</td>\n",
       "      <td>1.450195</td>\n",
       "      <td>1968</td>\n",
       "      <td>2023</td>\n",
       "      <td>2</td>\n",
       "    </tr>\n",
       "    <tr>\n",
       "      <th>2</th>\n",
       "      <td>Case Closed / Detective Conan</td>\n",
       "      <td>Gosho Aoyama</td>\n",
       "      <td>Shogakukan</td>\n",
       "      <td>Shōnen</td>\n",
       "      <td>102</td>\n",
       "      <td>1994–present</td>\n",
       "      <td>2.650391</td>\n",
       "      <td>2.650391</td>\n",
       "      <td>1994</td>\n",
       "      <td>2023</td>\n",
       "      <td>1</td>\n",
       "    </tr>\n",
       "    <tr>\n",
       "      <th>3</th>\n",
       "      <td>Dragon Ball</td>\n",
       "      <td>Akira Toriyama</td>\n",
       "      <td>Shueisha</td>\n",
       "      <td>Shōnen</td>\n",
       "      <td>42</td>\n",
       "      <td>1984–1995</td>\n",
       "      <td>6.191406</td>\n",
       "      <td>6.191406</td>\n",
       "      <td>1984</td>\n",
       "      <td>1995</td>\n",
       "      <td>1</td>\n",
       "    </tr>\n",
       "    <tr>\n",
       "      <th>4</th>\n",
       "      <td>Doraemon</td>\n",
       "      <td>Fujiko F. Fujio</td>\n",
       "      <td>Shogakukan</td>\n",
       "      <td>Children</td>\n",
       "      <td>45</td>\n",
       "      <td>1969–1996</td>\n",
       "      <td>4.710938</td>\n",
       "      <td>4.710938</td>\n",
       "      <td>1969</td>\n",
       "      <td>1996</td>\n",
       "      <td>1</td>\n",
       "    </tr>\n",
       "  </tbody>\n",
       "</table>\n",
       "</div>"
      ],
      "text/plain": [
       "                    Manga series                      Author(s)   Publisher  \\\n",
       "0                      One Piece                   Eiichiro Oda    Shueisha   \n",
       "1                       Golgo 13  Takao Saito, Saito Production  Shogakukan   \n",
       "2  Case Closed / Detective Conan                   Gosho Aoyama  Shogakukan   \n",
       "3                    Dragon Ball                 Akira Toriyama    Shueisha   \n",
       "4                       Doraemon                Fujiko F. Fujio  Shogakukan   \n",
       "\n",
       "  Demographic  No. of collected volumes    Serialized  \\\n",
       "0      Shōnen                       104  1997–present   \n",
       "1      Seinen                       207  1968–present   \n",
       "2      Shōnen                       102  1994–present   \n",
       "3      Shōnen                        42     1984–1995   \n",
       "4    Children                        45     1969–1996   \n",
       "\n",
       "   Approximate sales in million(s)  Average sales per volume in million(s)  \\\n",
       "0                         4.968750                                4.968750   \n",
       "1                         1.450195                                1.450195   \n",
       "2                         2.650391                                2.650391   \n",
       "3                         6.191406                                6.191406   \n",
       "4                         4.710938                                4.710938   \n",
       "\n",
       "   YearStart  YearEnd  Author Count  \n",
       "0       1997     2023             1  \n",
       "1       1968     2023             2  \n",
       "2       1994     2023             1  \n",
       "3       1984     1995             1  \n",
       "4       1969     1996             1  "
      ]
     },
     "execution_count": 64,
     "metadata": {},
     "output_type": "execute_result"
    }
   ],
   "source": [
    "print(\"Memory Usage\",bestM_df.memory_usage(deep=True).sum())\n",
    "bestM_df.head()"
   ]
  },
  {
   "cell_type": "markdown",
   "metadata": {},
   "source": [
    "## EDA\n",
    "### Demographics Questions  \n",
    "#### Number of unique Demographics or Genre"
   ]
  },
  {
   "cell_type": "code",
   "execution_count": 69,
   "metadata": {},
   "outputs": [
    {
     "name": "stdout",
     "output_type": "stream",
     "text": [
      "Count of unique demographics 9\n"
     ]
    },
    {
     "data": {
      "text/plain": [
       "array(['Shōnen', 'Seinen', 'Children', 'Shōnen/Seinen', '—', 'Shōjo',\n",
       "       'Josei', 'Shōjo/Josei', 'Shōnen/shōjo/Josei'], dtype=object)"
      ]
     },
     "execution_count": 69,
     "metadata": {},
     "output_type": "execute_result"
    }
   ],
   "source": [
    "print(\"Count of unique demographics\", bestM_df['Demographic'].nunique())\n",
    "\n",
    "(\n",
    "    bestM_df['Demographic']\n",
    "    .unique()\n",
    ")"
   ]
  },
  {
   "cell_type": "markdown",
   "metadata": {},
   "source": [
    "#### Mange Series per demography"
   ]
  },
  {
   "cell_type": "code",
   "execution_count": 72,
   "metadata": {},
   "outputs": [
    {
     "data": {
      "text/plain": [
       "Demographic\n",
       "Children                4\n",
       "Josei                   2\n",
       "Seinen                 50\n",
       "Shōjo                  21\n",
       "Shōjo/Josei             1\n",
       "Shōnen                101\n",
       "Shōnen/Seinen           6\n",
       "Shōnen/shōjo/Josei      1\n",
       "—                       1\n",
       "Name: Manga series, dtype: int64"
      ]
     },
     "execution_count": 72,
     "metadata": {},
     "output_type": "execute_result"
    }
   ],
   "source": [
    "(\n",
    "    bestM_df\n",
    "    .groupby('Demographic')\n",
    "    ['Manga series']\n",
    "    .count()\n",
    ")"
   ]
  },
  {
   "cell_type": "code",
   "execution_count": null,
   "metadata": {},
   "outputs": [],
   "source": []
  }
 ],
 "metadata": {
  "kernelspec": {
   "display_name": "base",
   "language": "python",
   "name": "python3"
  },
  "language_info": {
   "codemirror_mode": {
    "name": "ipython",
    "version": 3
   },
   "file_extension": ".py",
   "mimetype": "text/x-python",
   "name": "python",
   "nbconvert_exporter": "python",
   "pygments_lexer": "ipython3",
   "version": "3.9.16"
  },
  "orig_nbformat": 4
 },
 "nbformat": 4,
 "nbformat_minor": 2
}
