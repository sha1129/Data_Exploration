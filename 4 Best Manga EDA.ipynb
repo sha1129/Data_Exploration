{
 "cells": [
  {
   "cell_type": "markdown",
   "metadata": {},
   "source": [
    "# Best Manga"
   ]
  },
  {
   "cell_type": "code",
   "execution_count": 99,
   "metadata": {},
   "outputs": [],
   "source": [
    "import numpy as np\n",
    "import pandas as pd \n",
    "import matplotlib.pyplot as plt \n",
    "import seaborn as sns "
   ]
  },
  {
   "cell_type": "code",
   "execution_count": 100,
   "metadata": {},
   "outputs": [],
   "source": [
    "bestM_df = pd.read_csv(\\best-selling-manga.csv\")"
   ]
  },
  {
   "cell_type": "markdown",
   "metadata": {},
   "source": [
    "## Data Frame Exploration\n",
    "\n",
    "### Shape, head and Data types"
   ]
  },
  {
   "cell_type": "code",
   "execution_count": 101,
   "metadata": {},
   "outputs": [
    {
     "name": "stdout",
     "output_type": "stream",
     "text": [
      "Shape of the data frame (187, 8)\n"
     ]
    },
    {
     "data": {
      "text/html": [
       "<div>\n",
       "<style scoped>\n",
       "    .dataframe tbody tr th:only-of-type {\n",
       "        vertical-align: middle;\n",
       "    }\n",
       "\n",
       "    .dataframe tbody tr th {\n",
       "        vertical-align: top;\n",
       "    }\n",
       "\n",
       "    .dataframe thead th {\n",
       "        text-align: right;\n",
       "    }\n",
       "</style>\n",
       "<table border=\"1\" class=\"dataframe\">\n",
       "  <thead>\n",
       "    <tr style=\"text-align: right;\">\n",
       "      <th></th>\n",
       "      <th>Manga series</th>\n",
       "      <th>Author(s)</th>\n",
       "      <th>Publisher</th>\n",
       "      <th>Demographic</th>\n",
       "      <th>No. of collected volumes</th>\n",
       "      <th>Serialized</th>\n",
       "      <th>Approximate sales in million(s)</th>\n",
       "      <th>Average sales per volume in million(s)</th>\n",
       "    </tr>\n",
       "  </thead>\n",
       "  <tbody>\n",
       "    <tr>\n",
       "      <th>0</th>\n",
       "      <td>One Piece</td>\n",
       "      <td>Eiichiro Oda</td>\n",
       "      <td>Shueisha</td>\n",
       "      <td>Shōnen</td>\n",
       "      <td>104</td>\n",
       "      <td>1997–present</td>\n",
       "      <td>516.6</td>\n",
       "      <td>4.97</td>\n",
       "    </tr>\n",
       "    <tr>\n",
       "      <th>1</th>\n",
       "      <td>Golgo 13</td>\n",
       "      <td>Takao Saito, Saito Production</td>\n",
       "      <td>Shogakukan</td>\n",
       "      <td>Seinen</td>\n",
       "      <td>207</td>\n",
       "      <td>1968–present</td>\n",
       "      <td>300.0</td>\n",
       "      <td>1.45</td>\n",
       "    </tr>\n",
       "    <tr>\n",
       "      <th>2</th>\n",
       "      <td>Case Closed / Detective Conan</td>\n",
       "      <td>Gosho Aoyama</td>\n",
       "      <td>Shogakukan</td>\n",
       "      <td>Shōnen</td>\n",
       "      <td>102</td>\n",
       "      <td>1994–present</td>\n",
       "      <td>270.0</td>\n",
       "      <td>2.65</td>\n",
       "    </tr>\n",
       "    <tr>\n",
       "      <th>3</th>\n",
       "      <td>Dragon Ball</td>\n",
       "      <td>Akira Toriyama</td>\n",
       "      <td>Shueisha</td>\n",
       "      <td>Shōnen</td>\n",
       "      <td>42</td>\n",
       "      <td>1984–1995</td>\n",
       "      <td>260.0</td>\n",
       "      <td>6.19</td>\n",
       "    </tr>\n",
       "    <tr>\n",
       "      <th>4</th>\n",
       "      <td>Doraemon</td>\n",
       "      <td>Fujiko F. Fujio</td>\n",
       "      <td>Shogakukan</td>\n",
       "      <td>Children</td>\n",
       "      <td>45</td>\n",
       "      <td>1969–1996</td>\n",
       "      <td>250.0</td>\n",
       "      <td>4.71</td>\n",
       "    </tr>\n",
       "  </tbody>\n",
       "</table>\n",
       "</div>"
      ],
      "text/plain": [
       "                    Manga series                      Author(s)   Publisher  \\\n",
       "0                      One Piece                   Eiichiro Oda    Shueisha   \n",
       "1                       Golgo 13  Takao Saito, Saito Production  Shogakukan   \n",
       "2  Case Closed / Detective Conan                   Gosho Aoyama  Shogakukan   \n",
       "3                    Dragon Ball                 Akira Toriyama    Shueisha   \n",
       "4                       Doraemon                Fujiko F. Fujio  Shogakukan   \n",
       "\n",
       "  Demographic  No. of collected volumes    Serialized  \\\n",
       "0      Shōnen                       104  1997–present   \n",
       "1      Seinen                       207  1968–present   \n",
       "2      Shōnen                       102  1994–present   \n",
       "3      Shōnen                        42     1984–1995   \n",
       "4    Children                        45     1969–1996   \n",
       "\n",
       "   Approximate sales in million(s)  Average sales per volume in million(s)  \n",
       "0                            516.6                                    4.97  \n",
       "1                            300.0                                    1.45  \n",
       "2                            270.0                                    2.65  \n",
       "3                            260.0                                    6.19  \n",
       "4                            250.0                                    4.71  "
      ]
     },
     "execution_count": 101,
     "metadata": {},
     "output_type": "execute_result"
    }
   ],
   "source": [
    "print(\"Shape of the data frame\",bestM_df.shape)\n",
    "bestM_df.head()"
   ]
  },
  {
   "cell_type": "code",
   "execution_count": 102,
   "metadata": {},
   "outputs": [
    {
     "name": "stdout",
     "output_type": "stream",
     "text": [
      "<class 'pandas.core.frame.DataFrame'>\n",
      "RangeIndex: 187 entries, 0 to 186\n",
      "Data columns (total 8 columns):\n",
      " #   Column                                  Non-Null Count  Dtype  \n",
      "---  ------                                  --------------  -----  \n",
      " 0   Manga series                            187 non-null    object \n",
      " 1   Author(s)                               187 non-null    object \n",
      " 2   Publisher                               187 non-null    object \n",
      " 3   Demographic                             187 non-null    object \n",
      " 4   No. of collected volumes                187 non-null    int64  \n",
      " 5   Serialized                              187 non-null    object \n",
      " 6   Approximate sales in million(s)         187 non-null    float64\n",
      " 7   Average sales per volume in million(s)  187 non-null    float64\n",
      "dtypes: float64(2), int64(1), object(5)\n",
      "memory usage: 11.8+ KB\n"
     ]
    }
   ],
   "source": [
    "bestM_df.info()"
   ]
  },
  {
   "cell_type": "code",
   "execution_count": 103,
   "metadata": {},
   "outputs": [
    {
     "data": {
      "text/plain": [
       "Manga series                              0\n",
       "Author(s)                                 0\n",
       "Publisher                                 0\n",
       "Demographic                               0\n",
       "No. of collected volumes                  0\n",
       "Serialized                                0\n",
       "Approximate sales in million(s)           0\n",
       "Average sales per volume in million(s)    0\n",
       "dtype: int64"
      ]
     },
     "execution_count": 103,
     "metadata": {},
     "output_type": "execute_result"
    }
   ],
   "source": [
    "bestM_df.isna().sum()"
   ]
  },
  {
   "cell_type": "markdown",
   "metadata": {},
   "source": [
    "### Memory Usage"
   ]
  },
  {
   "cell_type": "code",
   "execution_count": 104,
   "metadata": {},
   "outputs": [
    {
     "data": {
      "text/plain": [
       "80626"
      ]
     },
     "execution_count": 104,
     "metadata": {},
     "output_type": "execute_result"
    }
   ],
   "source": [
    "bestM_df.memory_usage(deep=True).sum()"
   ]
  },
  {
   "cell_type": "markdown",
   "metadata": {},
   "source": [
    "## Change Data Types\n",
    "\n",
    "### float64 to float16"
   ]
  },
  {
   "cell_type": "code",
   "execution_count": 105,
   "metadata": {},
   "outputs": [],
   "source": [
    "bestM_df['Average sales per volume in million(s)'] = bestM_df['Average sales per volume in million(s)'].astype('float16')\n",
    "bestM_df['Approximate sales in million(s)'] = bestM_df['Approximate sales in million(s)'].astype('float16')"
   ]
  },
  {
   "cell_type": "markdown",
   "metadata": {},
   "source": [
    "### int64 change"
   ]
  },
  {
   "cell_type": "code",
   "execution_count": 106,
   "metadata": {},
   "outputs": [
    {
     "data": {
      "text/plain": [
       "207"
      ]
     },
     "execution_count": 106,
     "metadata": {},
     "output_type": "execute_result"
    }
   ],
   "source": [
    "bestM_df['No. of collected volumes'].max()"
   ]
  },
  {
   "cell_type": "markdown",
   "metadata": {},
   "source": [
    "Since the max value is 207 we can change it to int16"
   ]
  },
  {
   "cell_type": "code",
   "execution_count": 107,
   "metadata": {},
   "outputs": [],
   "source": [
    "bestM_df['No. of collected volumes'] = bestM_df['No. of collected volumes'].astype('int16')"
   ]
  },
  {
   "cell_type": "code",
   "execution_count": 108,
   "metadata": {},
   "outputs": [
    {
     "name": "stdout",
     "output_type": "stream",
     "text": [
      "The max value 207 The min age 5\n"
     ]
    }
   ],
   "source": [
    "print('The max value',bestM_df['No. of collected volumes'].max(),'The min age',bestM_df['No. of collected volumes'].min())\n"
   ]
  },
  {
   "cell_type": "markdown",
   "metadata": {},
   "source": [
    "### Memory usage check"
   ]
  },
  {
   "cell_type": "code",
   "execution_count": 109,
   "metadata": {},
   "outputs": [
    {
     "data": {
      "text/plain": [
       "77260"
      ]
     },
     "execution_count": 109,
     "metadata": {},
     "output_type": "execute_result"
    }
   ],
   "source": [
    "bestM_df.memory_usage(deep=True).sum()"
   ]
  },
  {
   "cell_type": "markdown",
   "metadata": {},
   "source": [
    "Not significant but still it is a good practice"
   ]
  },
  {
   "cell_type": "markdown",
   "metadata": {},
   "source": [
    "## Add New Columns\n",
    "\n",
    "Adding few columns for better Exploration of the data"
   ]
  },
  {
   "cell_type": "markdown",
   "metadata": {},
   "source": [
    "### Year start and Year End Columns"
   ]
  },
  {
   "cell_type": "code",
   "execution_count": 110,
   "metadata": {},
   "outputs": [],
   "source": [
    "# bestM_df[Serialized_YearStart] = bestM_df['Serialized'].str.extract(r'(\\d{4})') \n",
    "bestM_df['YearStart'] = bestM_df['Serialized'].str.extract(r'(\\d{4})')\n",
    "bestM_df['YearEnd'] = bestM_df['Serialized'].str.extract(r'(\\d{4}(?=\\s|$)|present)')\n",
    "\n",
    "# Find and values as present and change to 2023\n",
    "bestM_df.loc[bestM_df['YearEnd'] == 'present', 'YearEnd'] = 2023\n",
    "\n",
    "# Change to int for Year start and year end\n",
    "bestM_df[['YearStart','YearEnd']] = bestM_df[['YearStart','YearEnd']].astype('int16')\n",
    "\n"
   ]
  },
  {
   "cell_type": "markdown",
   "metadata": {},
   "source": [
    "### Number of Authors"
   ]
  },
  {
   "cell_type": "code",
   "execution_count": 111,
   "metadata": {},
   "outputs": [],
   "source": [
    "bestM_df['Author Count'] = (bestM_df['Author(s)'].str.count(',')+1).astype('int8')"
   ]
  },
  {
   "cell_type": "markdown",
   "metadata": {},
   "source": [
    "### Final Memory Use Check and Data Frame Check"
   ]
  },
  {
   "cell_type": "code",
   "execution_count": 112,
   "metadata": {},
   "outputs": [
    {
     "name": "stdout",
     "output_type": "stream",
     "text": [
      "Memory Usage 78195\n"
     ]
    },
    {
     "data": {
      "text/html": [
       "<div>\n",
       "<style scoped>\n",
       "    .dataframe tbody tr th:only-of-type {\n",
       "        vertical-align: middle;\n",
       "    }\n",
       "\n",
       "    .dataframe tbody tr th {\n",
       "        vertical-align: top;\n",
       "    }\n",
       "\n",
       "    .dataframe thead th {\n",
       "        text-align: right;\n",
       "    }\n",
       "</style>\n",
       "<table border=\"1\" class=\"dataframe\">\n",
       "  <thead>\n",
       "    <tr style=\"text-align: right;\">\n",
       "      <th></th>\n",
       "      <th>Manga series</th>\n",
       "      <th>Author(s)</th>\n",
       "      <th>Publisher</th>\n",
       "      <th>Demographic</th>\n",
       "      <th>No. of collected volumes</th>\n",
       "      <th>Serialized</th>\n",
       "      <th>Approximate sales in million(s)</th>\n",
       "      <th>Average sales per volume in million(s)</th>\n",
       "      <th>YearStart</th>\n",
       "      <th>YearEnd</th>\n",
       "      <th>Author Count</th>\n",
       "    </tr>\n",
       "  </thead>\n",
       "  <tbody>\n",
       "    <tr>\n",
       "      <th>0</th>\n",
       "      <td>One Piece</td>\n",
       "      <td>Eiichiro Oda</td>\n",
       "      <td>Shueisha</td>\n",
       "      <td>Shōnen</td>\n",
       "      <td>104</td>\n",
       "      <td>1997–present</td>\n",
       "      <td>516.5</td>\n",
       "      <td>4.968750</td>\n",
       "      <td>1997</td>\n",
       "      <td>2023</td>\n",
       "      <td>1</td>\n",
       "    </tr>\n",
       "    <tr>\n",
       "      <th>1</th>\n",
       "      <td>Golgo 13</td>\n",
       "      <td>Takao Saito, Saito Production</td>\n",
       "      <td>Shogakukan</td>\n",
       "      <td>Seinen</td>\n",
       "      <td>207</td>\n",
       "      <td>1968–present</td>\n",
       "      <td>300.0</td>\n",
       "      <td>1.450195</td>\n",
       "      <td>1968</td>\n",
       "      <td>2023</td>\n",
       "      <td>2</td>\n",
       "    </tr>\n",
       "    <tr>\n",
       "      <th>2</th>\n",
       "      <td>Case Closed / Detective Conan</td>\n",
       "      <td>Gosho Aoyama</td>\n",
       "      <td>Shogakukan</td>\n",
       "      <td>Shōnen</td>\n",
       "      <td>102</td>\n",
       "      <td>1994–present</td>\n",
       "      <td>270.0</td>\n",
       "      <td>2.650391</td>\n",
       "      <td>1994</td>\n",
       "      <td>2023</td>\n",
       "      <td>1</td>\n",
       "    </tr>\n",
       "    <tr>\n",
       "      <th>3</th>\n",
       "      <td>Dragon Ball</td>\n",
       "      <td>Akira Toriyama</td>\n",
       "      <td>Shueisha</td>\n",
       "      <td>Shōnen</td>\n",
       "      <td>42</td>\n",
       "      <td>1984–1995</td>\n",
       "      <td>260.0</td>\n",
       "      <td>6.191406</td>\n",
       "      <td>1984</td>\n",
       "      <td>1995</td>\n",
       "      <td>1</td>\n",
       "    </tr>\n",
       "    <tr>\n",
       "      <th>4</th>\n",
       "      <td>Doraemon</td>\n",
       "      <td>Fujiko F. Fujio</td>\n",
       "      <td>Shogakukan</td>\n",
       "      <td>Children</td>\n",
       "      <td>45</td>\n",
       "      <td>1969–1996</td>\n",
       "      <td>250.0</td>\n",
       "      <td>4.710938</td>\n",
       "      <td>1969</td>\n",
       "      <td>1996</td>\n",
       "      <td>1</td>\n",
       "    </tr>\n",
       "  </tbody>\n",
       "</table>\n",
       "</div>"
      ],
      "text/plain": [
       "                    Manga series                      Author(s)   Publisher  \\\n",
       "0                      One Piece                   Eiichiro Oda    Shueisha   \n",
       "1                       Golgo 13  Takao Saito, Saito Production  Shogakukan   \n",
       "2  Case Closed / Detective Conan                   Gosho Aoyama  Shogakukan   \n",
       "3                    Dragon Ball                 Akira Toriyama    Shueisha   \n",
       "4                       Doraemon                Fujiko F. Fujio  Shogakukan   \n",
       "\n",
       "  Demographic  No. of collected volumes    Serialized  \\\n",
       "0      Shōnen                       104  1997–present   \n",
       "1      Seinen                       207  1968–present   \n",
       "2      Shōnen                       102  1994–present   \n",
       "3      Shōnen                        42     1984–1995   \n",
       "4    Children                        45     1969–1996   \n",
       "\n",
       "   Approximate sales in million(s)  Average sales per volume in million(s)  \\\n",
       "0                            516.5                                4.968750   \n",
       "1                            300.0                                1.450195   \n",
       "2                            270.0                                2.650391   \n",
       "3                            260.0                                6.191406   \n",
       "4                            250.0                                4.710938   \n",
       "\n",
       "   YearStart  YearEnd  Author Count  \n",
       "0       1997     2023             1  \n",
       "1       1968     2023             2  \n",
       "2       1994     2023             1  \n",
       "3       1984     1995             1  \n",
       "4       1969     1996             1  "
      ]
     },
     "execution_count": 112,
     "metadata": {},
     "output_type": "execute_result"
    }
   ],
   "source": [
    "print(\"Memory Usage\",bestM_df.memory_usage(deep=True).sum())\n",
    "bestM_df.head()"
   ]
  },
  {
   "cell_type": "markdown",
   "metadata": {},
   "source": [
    "## EDA\n",
    "### Demographics Questions  \n",
    "#### Number of unique Demographics or Genre"
   ]
  },
  {
   "cell_type": "code",
   "execution_count": 113,
   "metadata": {},
   "outputs": [
    {
     "name": "stdout",
     "output_type": "stream",
     "text": [
      "Count of unique demographics 9\n"
     ]
    },
    {
     "data": {
      "text/plain": [
       "array(['Shōnen', 'Seinen', 'Children', 'Shōnen/Seinen', '—', 'Shōjo',\n",
       "       'Josei', 'Shōjo/Josei', 'Shōnen/shōjo/Josei'], dtype=object)"
      ]
     },
     "execution_count": 113,
     "metadata": {},
     "output_type": "execute_result"
    }
   ],
   "source": [
    "print(\"Count of unique demographics\", bestM_df['Demographic'].nunique())\n",
    "\n",
    "(\n",
    "    bestM_df['Demographic']\n",
    "    .unique()\n",
    ")"
   ]
  },
  {
   "cell_type": "markdown",
   "metadata": {},
   "source": [
    "#### Mange Series per demography"
   ]
  },
  {
   "cell_type": "code",
   "execution_count": 114,
   "metadata": {},
   "outputs": [
    {
     "data": {
      "text/plain": [
       "Demographic\n",
       "Shōnen                101\n",
       "Seinen                 50\n",
       "Shōjo                  21\n",
       "Shōnen/Seinen           6\n",
       "Children                4\n",
       "Josei                   2\n",
       "Shōjo/Josei             1\n",
       "Shōnen/shōjo/Josei      1\n",
       "—                       1\n",
       "Name: Manga series, dtype: int64"
      ]
     },
     "execution_count": 114,
     "metadata": {},
     "output_type": "execute_result"
    }
   ],
   "source": [
    "(\n",
    "    bestM_df\n",
    "    .groupby('Demographic')\n",
    "    ['Manga series']\n",
    "    .count()\n",
    "    .sort_values(ascending=False)\n",
    ")"
   ]
  },
  {
   "cell_type": "markdown",
   "metadata": {},
   "source": [
    "#### Demographics affect on sales and Avg Sales"
   ]
  },
  {
   "cell_type": "code",
   "execution_count": 115,
   "metadata": {},
   "outputs": [
    {
     "data": {
      "text/html": [
       "<div>\n",
       "<style scoped>\n",
       "    .dataframe tbody tr th:only-of-type {\n",
       "        vertical-align: middle;\n",
       "    }\n",
       "\n",
       "    .dataframe tbody tr th {\n",
       "        vertical-align: top;\n",
       "    }\n",
       "\n",
       "    .dataframe thead th {\n",
       "        text-align: right;\n",
       "    }\n",
       "</style>\n",
       "<table border=\"1\" class=\"dataframe\">\n",
       "  <thead>\n",
       "    <tr style=\"text-align: right;\">\n",
       "      <th></th>\n",
       "      <th>Approximate sales in million(s)</th>\n",
       "      <th>Average sales per volume in million(s)</th>\n",
       "    </tr>\n",
       "    <tr>\n",
       "      <th>Demographic</th>\n",
       "      <th></th>\n",
       "      <th></th>\n",
       "    </tr>\n",
       "  </thead>\n",
       "  <tbody>\n",
       "    <tr>\n",
       "      <th>—</th>\n",
       "      <td>86.000000</td>\n",
       "      <td>1.910156</td>\n",
       "    </tr>\n",
       "    <tr>\n",
       "      <th>Children</th>\n",
       "      <td>80.300781</td>\n",
       "      <td>1.552673</td>\n",
       "    </tr>\n",
       "    <tr>\n",
       "      <th>Shōnen/Seinen</th>\n",
       "      <td>75.000000</td>\n",
       "      <td>0.955078</td>\n",
       "    </tr>\n",
       "    <tr>\n",
       "      <th>Shōnen</th>\n",
       "      <td>58.130726</td>\n",
       "      <td>1.628565</td>\n",
       "    </tr>\n",
       "    <tr>\n",
       "      <th>Seinen</th>\n",
       "      <td>39.826874</td>\n",
       "      <td>0.968643</td>\n",
       "    </tr>\n",
       "    <tr>\n",
       "      <th>Josei</th>\n",
       "      <td>33.500000</td>\n",
       "      <td>1.125244</td>\n",
       "    </tr>\n",
       "    <tr>\n",
       "      <th>Shōjo</th>\n",
       "      <td>31.147322</td>\n",
       "      <td>1.292922</td>\n",
       "    </tr>\n",
       "    <tr>\n",
       "      <th>Shōjo/Josei</th>\n",
       "      <td>27.000000</td>\n",
       "      <td>0.330078</td>\n",
       "    </tr>\n",
       "    <tr>\n",
       "      <th>Shōnen/shōjo/Josei</th>\n",
       "      <td>25.000000</td>\n",
       "      <td>1.080078</td>\n",
       "    </tr>\n",
       "  </tbody>\n",
       "</table>\n",
       "</div>"
      ],
      "text/plain": [
       "                    Approximate sales in million(s)  \\\n",
       "Demographic                                           \n",
       "—                                         86.000000   \n",
       "Children                                  80.300781   \n",
       "Shōnen/Seinen                             75.000000   \n",
       "Shōnen                                    58.130726   \n",
       "Seinen                                    39.826874   \n",
       "Josei                                     33.500000   \n",
       "Shōjo                                     31.147322   \n",
       "Shōjo/Josei                               27.000000   \n",
       "Shōnen/shōjo/Josei                        25.000000   \n",
       "\n",
       "                    Average sales per volume in million(s)  \n",
       "Demographic                                                 \n",
       "—                                                 1.910156  \n",
       "Children                                          1.552673  \n",
       "Shōnen/Seinen                                     0.955078  \n",
       "Shōnen                                            1.628565  \n",
       "Seinen                                            0.968643  \n",
       "Josei                                             1.125244  \n",
       "Shōjo                                             1.292922  \n",
       "Shōjo/Josei                                       0.330078  \n",
       "Shōnen/shōjo/Josei                                1.080078  "
      ]
     },
     "execution_count": 115,
     "metadata": {},
     "output_type": "execute_result"
    }
   ],
   "source": [
    "(\n",
    "    bestM_df\n",
    "    .groupby('Demographic')\n",
    "    [['Approximate sales in million(s)', 'Average sales per volume in million(s)']]\n",
    "    .mean()\n",
    "    .sort_values('Approximate sales in million(s)', ascending=False)\n",
    "    \n",
    ")"
   ]
  },
  {
   "cell_type": "markdown",
   "metadata": {},
   "source": [
    "### Manga sales Distribution \n",
    "\n",
    "Distribution of approximate sales for manga series"
   ]
  },
  {
   "cell_type": "code",
   "execution_count": 116,
   "metadata": {},
   "outputs": [
    {
     "data": {
      "image/png": "[encoded data removed]",
      "text/plain": [
       "<Figure size 640x480 with 1 Axes>"
      ]
     },
     "metadata": {},
     "output_type": "display_data"
    }
   ],
   "source": [
    "plt.hist(bestM_df['Approximate sales in million(s)'])\n",
    "plt.xlabel('Approximate sales in million(s)')\n",
    "plt.ylabel('Frequency')\n",
    "plt.title('Distribution of Approximate Sales for Manga Series')\n",
    "plt.show()"
   ]
  },
  {
   "cell_type": "markdown",
   "metadata": {},
   "source": [
    "### Highest Selling Manga"
   ]
  },
  {
   "cell_type": "code",
   "execution_count": 122,
   "metadata": {},
   "outputs": [
    {
     "data": {
      "text/html": [
       "<div>\n",
       "<style scoped>\n",
       "    .dataframe tbody tr th:only-of-type {\n",
       "        vertical-align: middle;\n",
       "    }\n",
       "\n",
       "    .dataframe tbody tr th {\n",
       "        vertical-align: top;\n",
       "    }\n",
       "\n",
       "    .dataframe thead th {\n",
       "        text-align: right;\n",
       "    }\n",
       "</style>\n",
       "<table border=\"1\" class=\"dataframe\">\n",
       "  <thead>\n",
       "    <tr style=\"text-align: right;\">\n",
       "      <th></th>\n",
       "      <th>Manga series</th>\n",
       "      <th>Approximate sales in million(s)</th>\n",
       "      <th>YearStart</th>\n",
       "    </tr>\n",
       "  </thead>\n",
       "  <tbody>\n",
       "    <tr>\n",
       "      <th>0</th>\n",
       "      <td>One Piece</td>\n",
       "      <td>516.5</td>\n",
       "      <td>1997</td>\n",
       "    </tr>\n",
       "    <tr>\n",
       "      <th>1</th>\n",
       "      <td>Golgo 13</td>\n",
       "      <td>300.0</td>\n",
       "      <td>1968</td>\n",
       "    </tr>\n",
       "    <tr>\n",
       "      <th>2</th>\n",
       "      <td>Case Closed / Detective Conan</td>\n",
       "      <td>270.0</td>\n",
       "      <td>1994</td>\n",
       "    </tr>\n",
       "    <tr>\n",
       "      <th>3</th>\n",
       "      <td>Dragon Ball</td>\n",
       "      <td>260.0</td>\n",
       "      <td>1984</td>\n",
       "    </tr>\n",
       "    <tr>\n",
       "      <th>4</th>\n",
       "      <td>Doraemon</td>\n",
       "      <td>250.0</td>\n",
       "      <td>1969</td>\n",
       "    </tr>\n",
       "    <tr>\n",
       "      <th>5</th>\n",
       "      <td>Naruto</td>\n",
       "      <td>250.0</td>\n",
       "      <td>1999</td>\n",
       "    </tr>\n",
       "    <tr>\n",
       "      <th>6</th>\n",
       "      <td>Slam Dunk</td>\n",
       "      <td>170.0</td>\n",
       "      <td>1990</td>\n",
       "    </tr>\n",
       "    <tr>\n",
       "      <th>7</th>\n",
       "      <td>KochiKame: Tokyo Beat Cops</td>\n",
       "      <td>156.5</td>\n",
       "      <td>1976</td>\n",
       "    </tr>\n",
       "    <tr>\n",
       "      <th>8</th>\n",
       "      <td>Demon Slayer: Kimetsu no Yaiba</td>\n",
       "      <td>150.0</td>\n",
       "      <td>2016</td>\n",
       "    </tr>\n",
       "    <tr>\n",
       "      <th>9</th>\n",
       "      <td>Oishinbo</td>\n",
       "      <td>135.0</td>\n",
       "      <td>1983</td>\n",
       "    </tr>\n",
       "  </tbody>\n",
       "</table>\n",
       "</div>"
      ],
      "text/plain": [
       "                     Manga series  Approximate sales in million(s)  YearStart\n",
       "0                       One Piece                            516.5       1997\n",
       "1                        Golgo 13                            300.0       1968\n",
       "2   Case Closed / Detective Conan                            270.0       1994\n",
       "3                     Dragon Ball                            260.0       1984\n",
       "4                        Doraemon                            250.0       1969\n",
       "5                          Naruto                            250.0       1999\n",
       "6                       Slam Dunk                            170.0       1990\n",
       "7      KochiKame: Tokyo Beat Cops                            156.5       1976\n",
       "8  Demon Slayer: Kimetsu no Yaiba                            150.0       2016\n",
       "9                        Oishinbo                            135.0       1983"
      ]
     },
     "execution_count": 122,
     "metadata": {},
     "output_type": "execute_result"
    }
   ],
   "source": [
    "bestM_df.nlargest(10,'Approximate sales in million(s)')[['Manga series', 'Approximate sales in million(s)','YearStart']]"
   ]
  },
  {
   "cell_type": "markdown",
   "metadata": {},
   "source": [
    "### Highest Average Sales Per Vol"
   ]
  },
  {
   "cell_type": "code",
   "execution_count": 118,
   "metadata": {},
   "outputs": [
    {
     "data": {
      "text/html": [
       "<div>\n",
       "<style scoped>\n",
       "    .dataframe tbody tr th:only-of-type {\n",
       "        vertical-align: middle;\n",
       "    }\n",
       "\n",
       "    .dataframe tbody tr th {\n",
       "        vertical-align: top;\n",
       "    }\n",
       "\n",
       "    .dataframe thead th {\n",
       "        text-align: right;\n",
       "    }\n",
       "</style>\n",
       "<table border=\"1\" class=\"dataframe\">\n",
       "  <thead>\n",
       "    <tr style=\"text-align: right;\">\n",
       "      <th></th>\n",
       "      <th>Manga series</th>\n",
       "      <th>Average sales per volume in million(s)</th>\n",
       "    </tr>\n",
       "  </thead>\n",
       "  <tbody>\n",
       "    <tr>\n",
       "      <th>50</th>\n",
       "      <td>Devilman</td>\n",
       "      <td>10.000000</td>\n",
       "    </tr>\n",
       "    <tr>\n",
       "      <th>8</th>\n",
       "      <td>Demon Slayer: Kimetsu no Yaiba</td>\n",
       "      <td>6.519531</td>\n",
       "    </tr>\n",
       "    <tr>\n",
       "      <th>3</th>\n",
       "      <td>Dragon Ball</td>\n",
       "      <td>6.191406</td>\n",
       "    </tr>\n",
       "    <tr>\n",
       "      <th>6</th>\n",
       "      <td>Slam Dunk</td>\n",
       "      <td>5.480469</td>\n",
       "    </tr>\n",
       "    <tr>\n",
       "      <th>0</th>\n",
       "      <td>One Piece</td>\n",
       "      <td>4.968750</td>\n",
       "    </tr>\n",
       "    <tr>\n",
       "      <th>4</th>\n",
       "      <td>Doraemon</td>\n",
       "      <td>4.710938</td>\n",
       "    </tr>\n",
       "    <tr>\n",
       "      <th>13</th>\n",
       "      <td>Astro Boy</td>\n",
       "      <td>4.351562</td>\n",
       "    </tr>\n",
       "    <tr>\n",
       "      <th>27</th>\n",
       "      <td>YuYu Hakusho</td>\n",
       "      <td>4.101562</td>\n",
       "    </tr>\n",
       "    <tr>\n",
       "      <th>17</th>\n",
       "      <td>Touch</td>\n",
       "      <td>3.849609</td>\n",
       "    </tr>\n",
       "    <tr>\n",
       "      <th>14</th>\n",
       "      <td>Fist of the North Star</td>\n",
       "      <td>3.699219</td>\n",
       "    </tr>\n",
       "  </tbody>\n",
       "</table>\n",
       "</div>"
      ],
      "text/plain": [
       "                      Manga series  Average sales per volume in million(s)\n",
       "50                        Devilman                               10.000000\n",
       "8   Demon Slayer: Kimetsu no Yaiba                                6.519531\n",
       "3                      Dragon Ball                                6.191406\n",
       "6                        Slam Dunk                                5.480469\n",
       "0                        One Piece                                4.968750\n",
       "4                         Doraemon                                4.710938\n",
       "13                       Astro Boy                                4.351562\n",
       "27                    YuYu Hakusho                                4.101562\n",
       "17                           Touch                                3.849609\n",
       "14          Fist of the North Star                                3.699219"
      ]
     },
     "execution_count": 118,
     "metadata": {},
     "output_type": "execute_result"
    }
   ],
   "source": [
    "bestM_df.nlargest(10,'Average sales per volume in million(s)')[['Manga series', 'Average sales per volume in million(s)']]\n"
   ]
  },
  {
   "cell_type": "markdown",
   "metadata": {},
   "source": [
    "### Plot of the number of collected volumes and sales"
   ]
  },
  {
   "cell_type": "code",
   "execution_count": 119,
   "metadata": {},
   "outputs": [
    {
     "data": {
      "image/png": "[encoded data removed]",
      "text/plain": [
       "<Figure size 640x480 with 1 Axes>"
      ]
     },
     "metadata": {},
     "output_type": "display_data"
    }
   ],
   "source": [
    "sns.scatterplot(data=bestM_df, x='No. of collected volumes', y='Approximate sales in million(s)', color ='blue')\n",
    "\n",
    "# Labels and Title \n",
    "plt.xlabel('No. of collected volumes')\n",
    "plt.ylabel('Approximate sales in million(s)')\n",
    "plt.title('Correlation Between No. of Collected Volumes and Approximate Sales')\n",
    "\n",
    "plt.show()"
   ]
  },
  {
   "cell_type": "markdown",
   "metadata": {},
   "source": [
    "### Trend of Average sales changes over the years"
   ]
  },
  {
   "cell_type": "code",
   "execution_count": 120,
   "metadata": {},
   "outputs": [
    {
     "data": {
      "image/png": "[encoded data removed]",
      "text/plain": [
       "<Figure size 640x480 with 1 Axes>"
      ]
     },
     "metadata": {},
     "output_type": "display_data"
    }
   ],
   "source": [
    "salesOverYears = bestM_df.groupby('YearStart')[['Approximate sales in million(s)']].mean()\n",
    "\n",
    "salesOverYears.plot.line(color='blue', linewidth=3,)\n",
    "plt.ylabel('Sales (in millions)')\n",
    "plt.title('Avg Sales Trend Over the Years')\n",
    "plt.show()\n"
   ]
  },
  {
   "cell_type": "markdown",
   "metadata": {},
   "source": [
    "### Correlation Heatmap "
   ]
  },
  {
   "cell_type": "code",
   "execution_count": 121,
   "metadata": {},
   "outputs": [
    {
     "data": {
      "image/png": "[encoded data removed]",
      "text/plain": [
       "<Figure size 640x480 with 2 Axes>"
      ]
     },
     "metadata": {},
     "output_type": "display_data"
    }
   ],
   "source": [
    "corr_df = bestM_df.corr(numeric_only=True)\n",
    "\n",
    "sns.heatmap(corr_df,annot=True, cmap='BuPu')\n",
    "\n",
    "plt.show()"
   ]
  },
  {
   "cell_type": "markdown",
   "metadata": {},
   "source": [
    "## Linear Regression"
   ]
  },
  {
   "cell_type": "markdown",
   "metadata": {},
   "source": []
  }
 ],
 "metadata": {
  "kernelspec": {
   "display_name": "base",
   "language": "python",
   "name": "python3"
  },
  "language_info": {
   "codemirror_mode": {
    "name": "ipython",
    "version": 3
   },
   "file_extension": ".py",
   "mimetype": "text/x-python",
   "name": "python",
   "nbconvert_exporter": "python",
   "pygments_lexer": "ipython3",
   "version": "3.9.16"
  },
  "orig_nbformat": 4
 },
 "nbformat": 4,
 "nbformat_minor": 2
}
