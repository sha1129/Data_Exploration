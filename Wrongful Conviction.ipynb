{
 "cells": [
  {
   "cell_type": "markdown",
   "metadata": {},
   "source": [
    "**Wrongful Conviction**\n",
    "============================"
   ]
  },
  {
   "cell_type": "markdown",
   "metadata": {},
   "source": [
    "Need To import all the Python Libraries for coding"
   ]
  },
  {
   "cell_type": "code",
   "execution_count": 103,
   "metadata": {},
   "outputs": [],
   "source": [
    "import pandas as pd\n",
    "import matplotlib.pyplot as plt\n",
    "import seaborn as sns\n",
    "\n",
    "sns.set_theme()"
   ]
  },
  {
   "cell_type": "code",
   "execution_count": 104,
   "metadata": {},
   "outputs": [],
   "source": [
    "df = pd.read_csv(r\"C:\\Users\\turjo\\Downloads\\Wrongful_Con_US.csv\")"
   ]
  },
  {
   "cell_type": "code",
   "execution_count": 105,
   "metadata": {},
   "outputs": [
    {
     "name": "stdout",
     "output_type": "stream",
     "text": [
      "<class 'pandas.core.frame.DataFrame'>\n",
      "RangeIndex: 178 entries, 0 to 177\n",
      "Data columns (total 8 columns):\n",
      " #   Column                      Non-Null Count  Dtype \n",
      "---  ------                      --------------  ----- \n",
      " 0   caseID                      178 non-null    int64 \n",
      " 1   Date of the Crime           178 non-null    int64 \n",
      " 2   Defendants                  178 non-null    object\n",
      " 3   Type of the Crime           178 non-null    object\n",
      " 4   Location of the Crime       178 non-null    object\n",
      " 5   Punishment for a crime      169 non-null    object\n",
      " 6   Legally Exonerated          178 non-null    object\n",
      " 7   Legally Exonerated Encoded  178 non-null    int64 \n",
      "dtypes: int64(3), object(5)\n",
      "memory usage: 11.2+ KB\n"
     ]
    }
   ],
   "source": [
    "df.info()"
   ]
  },
  {
   "cell_type": "markdown",
   "metadata": {},
   "source": [
    "Df.info() and the code below can both help us find Colum names. However, df.info() gives us data types of the columns"
   ]
  },
  {
   "cell_type": "code",
   "execution_count": 106,
   "metadata": {},
   "outputs": [
    {
     "name": "stdout",
     "output_type": "stream",
     "text": [
      "1  Col is  caseID\n",
      "2  Col is  Date of the Crime\n",
      "3  Col is  Defendants\n",
      "4  Col is  Type of the Crime\n",
      "5  Col is  Location of the Crime\n",
      "6  Col is  Punishment for a crime\n",
      "7  Col is  Legally Exonerated\n",
      "8  Col is  Legally Exonerated Encoded\n"
     ]
    }
   ],
   "source": [
    "for i,col in enumerate(df.columns):\n",
    "    print (i+1,\" Col is \", col)"
   ]
  },
  {
   "cell_type": "code",
   "execution_count": 107,
   "metadata": {},
   "outputs": [
    {
     "data": {
      "text/html": [
       "<div>\n",
       "<style scoped>\n",
       "    .dataframe tbody tr th:only-of-type {\n",
       "        vertical-align: middle;\n",
       "    }\n",
       "\n",
       "    .dataframe tbody tr th {\n",
       "        vertical-align: top;\n",
       "    }\n",
       "\n",
       "    .dataframe thead th {\n",
       "        text-align: right;\n",
       "    }\n",
       "</style>\n",
       "<table border=\"1\" class=\"dataframe\">\n",
       "  <thead>\n",
       "    <tr style=\"text-align: right;\">\n",
       "      <th></th>\n",
       "      <th>caseID</th>\n",
       "      <th>Date of the Crime</th>\n",
       "      <th>Defendants</th>\n",
       "      <th>Type of the Crime</th>\n",
       "      <th>Location of the Crime</th>\n",
       "      <th>Punishment for a crime</th>\n",
       "      <th>Legally Exonerated</th>\n",
       "      <th>Legally Exonerated Encoded</th>\n",
       "    </tr>\n",
       "  </thead>\n",
       "  <tbody>\n",
       "    <tr>\n",
       "      <th>0</th>\n",
       "      <td>0</td>\n",
       "      <td>1805</td>\n",
       "      <td>Dominic Daley and James Halligan</td>\n",
       "      <td>murder</td>\n",
       "      <td>Massachusetts</td>\n",
       "      <td>death</td>\n",
       "      <td>yes</td>\n",
       "      <td>1</td>\n",
       "    </tr>\n",
       "    <tr>\n",
       "      <th>1</th>\n",
       "      <td>1</td>\n",
       "      <td>1843</td>\n",
       "      <td>John Gordon</td>\n",
       "      <td>murder</td>\n",
       "      <td>Rhode Island</td>\n",
       "      <td>death</td>\n",
       "      <td>yes</td>\n",
       "      <td>1</td>\n",
       "    </tr>\n",
       "    <tr>\n",
       "      <th>2</th>\n",
       "      <td>2</td>\n",
       "      <td>1855</td>\n",
       "      <td>Chief Leschi</td>\n",
       "      <td>murder</td>\n",
       "      <td>Washington</td>\n",
       "      <td>death</td>\n",
       "      <td>no</td>\n",
       "      <td>0</td>\n",
       "    </tr>\n",
       "    <tr>\n",
       "      <th>3</th>\n",
       "      <td>3</td>\n",
       "      <td>1863</td>\n",
       "      <td>Chipita Rodriguez</td>\n",
       "      <td>murder</td>\n",
       "      <td>Texas</td>\n",
       "      <td>death</td>\n",
       "      <td>yes</td>\n",
       "      <td>1</td>\n",
       "    </tr>\n",
       "    <tr>\n",
       "      <th>4</th>\n",
       "      <td>4</td>\n",
       "      <td>1872</td>\n",
       "      <td>William Jackson Marion</td>\n",
       "      <td>murder</td>\n",
       "      <td>Nebraska</td>\n",
       "      <td>death</td>\n",
       "      <td>yes</td>\n",
       "      <td>1</td>\n",
       "    </tr>\n",
       "  </tbody>\n",
       "</table>\n",
       "</div>"
      ],
      "text/plain": [
       "   caseID  Date of the Crime                        Defendants  \\\n",
       "0       0               1805  Dominic Daley and James Halligan   \n",
       "1       1               1843                       John Gordon   \n",
       "2       2               1855                      Chief Leschi   \n",
       "3       3               1863                 Chipita Rodriguez   \n",
       "4       4               1872            William Jackson Marion   \n",
       "\n",
       "  Type of the Crime Location of the Crime Punishment for a crime  \\\n",
       "0            murder         Massachusetts                  death   \n",
       "1            murder          Rhode Island                  death   \n",
       "2            murder            Washington                  death   \n",
       "3            murder                 Texas                  death   \n",
       "4            murder              Nebraska                  death   \n",
       "\n",
       "  Legally Exonerated  Legally Exonerated Encoded  \n",
       "0                yes                           1  \n",
       "1                yes                           1  \n",
       "2                 no                           0  \n",
       "3                yes                           1  \n",
       "4                yes                           1  "
      ]
     },
     "execution_count": 107,
     "metadata": {},
     "output_type": "execute_result"
    }
   ],
   "source": [
    "df.head()"
   ]
  },
  {
   "cell_type": "markdown",
   "metadata": {},
   "source": [
    "Check for NaN values "
   ]
  },
  {
   "cell_type": "code",
   "execution_count": 108,
   "metadata": {},
   "outputs": [
    {
     "data": {
      "text/plain": [
       "caseID                        0\n",
       "Date of the Crime             0\n",
       "Defendants                    0\n",
       "Type of the Crime             0\n",
       "Location of the Crime         0\n",
       "Punishment for a crime        9\n",
       "Legally Exonerated            0\n",
       "Legally Exonerated Encoded    0\n",
       "dtype: int64"
      ]
     },
     "execution_count": 108,
     "metadata": {},
     "output_type": "execute_result"
    }
   ],
   "source": [
    "df.isna().sum()"
   ]
  },
  {
   "cell_type": "markdown",
   "metadata": {},
   "source": [
    "As we can see there are 9 NaN values in Punishment for a Crime. Let us explore further to see if the are critical for our analysis. The command below will locate all the Nan values that are in Punishment for a crime column "
   ]
  },
  {
   "cell_type": "code",
   "execution_count": 109,
   "metadata": {},
   "outputs": [
    {
     "data": {
      "text/html": [
       "<div>\n",
       "<style scoped>\n",
       "    .dataframe tbody tr th:only-of-type {\n",
       "        vertical-align: middle;\n",
       "    }\n",
       "\n",
       "    .dataframe tbody tr th {\n",
       "        vertical-align: top;\n",
       "    }\n",
       "\n",
       "    .dataframe thead th {\n",
       "        text-align: right;\n",
       "    }\n",
       "</style>\n",
       "<table border=\"1\" class=\"dataframe\">\n",
       "  <thead>\n",
       "    <tr style=\"text-align: right;\">\n",
       "      <th></th>\n",
       "      <th>caseID</th>\n",
       "      <th>Date of the Crime</th>\n",
       "      <th>Defendants</th>\n",
       "      <th>Type of the Crime</th>\n",
       "      <th>Location of the Crime</th>\n",
       "      <th>Punishment for a crime</th>\n",
       "      <th>Legally Exonerated</th>\n",
       "      <th>Legally Exonerated Encoded</th>\n",
       "    </tr>\n",
       "  </thead>\n",
       "  <tbody>\n",
       "    <tr>\n",
       "      <th>7</th>\n",
       "      <td>7</td>\n",
       "      <td>1894</td>\n",
       "      <td>George Washington Davis</td>\n",
       "      <td>sabotage of Locomotive 213</td>\n",
       "      <td>Nebraska</td>\n",
       "      <td>NaN</td>\n",
       "      <td>yes</td>\n",
       "      <td>1</td>\n",
       "    </tr>\n",
       "    <tr>\n",
       "      <th>9</th>\n",
       "      <td>9</td>\n",
       "      <td>1900</td>\n",
       "      <td>Caleb Powers</td>\n",
       "      <td>murder</td>\n",
       "      <td>Kentucky</td>\n",
       "      <td>NaN</td>\n",
       "      <td>yes</td>\n",
       "      <td>1</td>\n",
       "    </tr>\n",
       "    <tr>\n",
       "      <th>50</th>\n",
       "      <td>50</td>\n",
       "      <td>1980</td>\n",
       "      <td>Steve Titus</td>\n",
       "      <td>rape</td>\n",
       "      <td>Washington</td>\n",
       "      <td>NaN</td>\n",
       "      <td>yes</td>\n",
       "      <td>1</td>\n",
       "    </tr>\n",
       "    <tr>\n",
       "      <th>52</th>\n",
       "      <td>52</td>\n",
       "      <td>1980</td>\n",
       "      <td>Kern County child abuse cases</td>\n",
       "      <td>satanic ritual sex abuse</td>\n",
       "      <td>California</td>\n",
       "      <td>NaN</td>\n",
       "      <td>yes</td>\n",
       "      <td>1</td>\n",
       "    </tr>\n",
       "    <tr>\n",
       "      <th>71</th>\n",
       "      <td>71</td>\n",
       "      <td>1984</td>\n",
       "      <td>Employees of Fells Acres Day Care</td>\n",
       "      <td>satanic ritual sex abuse</td>\n",
       "      <td>Massachusetts</td>\n",
       "      <td>NaN</td>\n",
       "      <td>yes</td>\n",
       "      <td>1</td>\n",
       "    </tr>\n",
       "    <tr>\n",
       "      <th>79</th>\n",
       "      <td>79</td>\n",
       "      <td>1985</td>\n",
       "      <td>Beatrice Six</td>\n",
       "      <td>murder</td>\n",
       "      <td>Nebraska</td>\n",
       "      <td>NaN</td>\n",
       "      <td>yes</td>\n",
       "      <td>1</td>\n",
       "    </tr>\n",
       "    <tr>\n",
       "      <th>100</th>\n",
       "      <td>100</td>\n",
       "      <td>1989</td>\n",
       "      <td>Central Park Five: Yusef Salaam, Antron McCray...</td>\n",
       "      <td>assault, rape</td>\n",
       "      <td>New York</td>\n",
       "      <td>NaN</td>\n",
       "      <td>yes</td>\n",
       "      <td>1</td>\n",
       "    </tr>\n",
       "    <tr>\n",
       "      <th>110</th>\n",
       "      <td>110</td>\n",
       "      <td>1991</td>\n",
       "      <td>Dixmoor 5</td>\n",
       "      <td>murder</td>\n",
       "      <td>Illinois</td>\n",
       "      <td>NaN</td>\n",
       "      <td>yes</td>\n",
       "      <td>1</td>\n",
       "    </tr>\n",
       "    <tr>\n",
       "      <th>174</th>\n",
       "      <td>174</td>\n",
       "      <td>2017</td>\n",
       "      <td>Alex Heineman</td>\n",
       "      <td>sexual assault</td>\n",
       "      <td>Wisconsin</td>\n",
       "      <td>NaN</td>\n",
       "      <td>yes</td>\n",
       "      <td>1</td>\n",
       "    </tr>\n",
       "  </tbody>\n",
       "</table>\n",
       "</div>"
      ],
      "text/plain": [
       "     caseID  Date of the Crime  \\\n",
       "7         7               1894   \n",
       "9         9               1900   \n",
       "50       50               1980   \n",
       "52       52               1980   \n",
       "71       71               1984   \n",
       "79       79               1985   \n",
       "100     100               1989   \n",
       "110     110               1991   \n",
       "174     174               2017   \n",
       "\n",
       "                                            Defendants  \\\n",
       "7                              George Washington Davis   \n",
       "9                                         Caleb Powers   \n",
       "50                                         Steve Titus   \n",
       "52                       Kern County child abuse cases   \n",
       "71                   Employees of Fells Acres Day Care   \n",
       "79                                        Beatrice Six   \n",
       "100  Central Park Five: Yusef Salaam, Antron McCray...   \n",
       "110                                          Dixmoor 5   \n",
       "174                                      Alex Heineman   \n",
       "\n",
       "              Type of the Crime Location of the Crime Punishment for a crime  \\\n",
       "7    sabotage of Locomotive 213              Nebraska                    NaN   \n",
       "9                        murder              Kentucky                    NaN   \n",
       "50                         rape            Washington                    NaN   \n",
       "52     satanic ritual sex abuse            California                    NaN   \n",
       "71     satanic ritual sex abuse         Massachusetts                    NaN   \n",
       "79                       murder              Nebraska                    NaN   \n",
       "100               assault, rape              New York                    NaN   \n",
       "110                      murder              Illinois                    NaN   \n",
       "174              sexual assault             Wisconsin                    NaN   \n",
       "\n",
       "    Legally Exonerated  Legally Exonerated Encoded  \n",
       "7                  yes                           1  \n",
       "9                  yes                           1  \n",
       "50                 yes                           1  \n",
       "52                 yes                           1  \n",
       "71                 yes                           1  \n",
       "79                 yes                           1  \n",
       "100                yes                           1  \n",
       "110                yes                           1  \n",
       "174                yes                           1  "
      ]
     },
     "execution_count": 109,
     "metadata": {},
     "output_type": "execute_result"
    }
   ],
   "source": [
    "df[df['Punishment for a crime'].isna()]"
   ]
  },
  {
   "cell_type": "code",
   "execution_count": 110,
   "metadata": {},
   "outputs": [],
   "source": [
    "df['Punishment for a crime'] = df['Punishment for a crime'].fillna('No')"
   ]
  },
  {
   "cell_type": "code",
   "execution_count": 111,
   "metadata": {},
   "outputs": [
    {
     "data": {
      "text/html": [
       "<div>\n",
       "<style scoped>\n",
       "    .dataframe tbody tr th:only-of-type {\n",
       "        vertical-align: middle;\n",
       "    }\n",
       "\n",
       "    .dataframe tbody tr th {\n",
       "        vertical-align: top;\n",
       "    }\n",
       "\n",
       "    .dataframe thead th {\n",
       "        text-align: right;\n",
       "    }\n",
       "</style>\n",
       "<table border=\"1\" class=\"dataframe\">\n",
       "  <thead>\n",
       "    <tr style=\"text-align: right;\">\n",
       "      <th></th>\n",
       "      <th>caseID</th>\n",
       "      <th>Date of the Crime</th>\n",
       "      <th>Defendants</th>\n",
       "      <th>Type of the Crime</th>\n",
       "      <th>Location of the Crime</th>\n",
       "      <th>Punishment for a crime</th>\n",
       "      <th>Legally Exonerated</th>\n",
       "      <th>Legally Exonerated Encoded</th>\n",
       "    </tr>\n",
       "  </thead>\n",
       "  <tbody>\n",
       "    <tr>\n",
       "      <th>0</th>\n",
       "      <td>0</td>\n",
       "      <td>1805</td>\n",
       "      <td>Dominic Daley and James Halligan</td>\n",
       "      <td>murder</td>\n",
       "      <td>Massachusetts</td>\n",
       "      <td>death</td>\n",
       "      <td>yes</td>\n",
       "      <td>1</td>\n",
       "    </tr>\n",
       "    <tr>\n",
       "      <th>1</th>\n",
       "      <td>1</td>\n",
       "      <td>1843</td>\n",
       "      <td>John Gordon</td>\n",
       "      <td>murder</td>\n",
       "      <td>Rhode Island</td>\n",
       "      <td>death</td>\n",
       "      <td>yes</td>\n",
       "      <td>1</td>\n",
       "    </tr>\n",
       "    <tr>\n",
       "      <th>2</th>\n",
       "      <td>2</td>\n",
       "      <td>1855</td>\n",
       "      <td>Chief Leschi</td>\n",
       "      <td>murder</td>\n",
       "      <td>Washington</td>\n",
       "      <td>death</td>\n",
       "      <td>no</td>\n",
       "      <td>0</td>\n",
       "    </tr>\n",
       "    <tr>\n",
       "      <th>3</th>\n",
       "      <td>3</td>\n",
       "      <td>1863</td>\n",
       "      <td>Chipita Rodriguez</td>\n",
       "      <td>murder</td>\n",
       "      <td>Texas</td>\n",
       "      <td>death</td>\n",
       "      <td>yes</td>\n",
       "      <td>1</td>\n",
       "    </tr>\n",
       "    <tr>\n",
       "      <th>4</th>\n",
       "      <td>4</td>\n",
       "      <td>1872</td>\n",
       "      <td>William Jackson Marion</td>\n",
       "      <td>murder</td>\n",
       "      <td>Nebraska</td>\n",
       "      <td>death</td>\n",
       "      <td>yes</td>\n",
       "      <td>1</td>\n",
       "    </tr>\n",
       "    <tr>\n",
       "      <th>5</th>\n",
       "      <td>5</td>\n",
       "      <td>1886</td>\n",
       "      <td>Oscar Neebe, August Spies, and Albert Parsons</td>\n",
       "      <td>haymarket affair</td>\n",
       "      <td>Illinois</td>\n",
       "      <td>15 years</td>\n",
       "      <td>yes</td>\n",
       "      <td>1</td>\n",
       "    </tr>\n",
       "    <tr>\n",
       "      <th>6</th>\n",
       "      <td>6</td>\n",
       "      <td>1887</td>\n",
       "      <td>Charles Hudspeth</td>\n",
       "      <td>murder</td>\n",
       "      <td>Arkansas</td>\n",
       "      <td>death</td>\n",
       "      <td>yes</td>\n",
       "      <td>1</td>\n",
       "    </tr>\n",
       "    <tr>\n",
       "      <th>7</th>\n",
       "      <td>7</td>\n",
       "      <td>1894</td>\n",
       "      <td>George Washington Davis</td>\n",
       "      <td>sabotage of Locomotive 213</td>\n",
       "      <td>Nebraska</td>\n",
       "      <td>No</td>\n",
       "      <td>yes</td>\n",
       "      <td>1</td>\n",
       "    </tr>\n",
       "    <tr>\n",
       "      <th>8</th>\n",
       "      <td>8</td>\n",
       "      <td>1896</td>\n",
       "      <td>Jack Davis</td>\n",
       "      <td>murder</td>\n",
       "      <td>Idaho</td>\n",
       "      <td>death</td>\n",
       "      <td>yes</td>\n",
       "      <td>1</td>\n",
       "    </tr>\n",
       "    <tr>\n",
       "      <th>9</th>\n",
       "      <td>9</td>\n",
       "      <td>1900</td>\n",
       "      <td>Caleb Powers</td>\n",
       "      <td>murder</td>\n",
       "      <td>Kentucky</td>\n",
       "      <td>No</td>\n",
       "      <td>yes</td>\n",
       "      <td>1</td>\n",
       "    </tr>\n",
       "  </tbody>\n",
       "</table>\n",
       "</div>"
      ],
      "text/plain": [
       "   caseID  Date of the Crime                                     Defendants  \\\n",
       "0       0               1805               Dominic Daley and James Halligan   \n",
       "1       1               1843                                    John Gordon   \n",
       "2       2               1855                                   Chief Leschi   \n",
       "3       3               1863                              Chipita Rodriguez   \n",
       "4       4               1872                         William Jackson Marion   \n",
       "5       5               1886  Oscar Neebe, August Spies, and Albert Parsons   \n",
       "6       6               1887                               Charles Hudspeth   \n",
       "7       7               1894                        George Washington Davis   \n",
       "8       8               1896                                     Jack Davis   \n",
       "9       9               1900                                   Caleb Powers   \n",
       "\n",
       "            Type of the Crime Location of the Crime Punishment for a crime  \\\n",
       "0                      murder         Massachusetts                  death   \n",
       "1                      murder          Rhode Island                  death   \n",
       "2                      murder            Washington                  death   \n",
       "3                      murder                 Texas                  death   \n",
       "4                      murder              Nebraska                  death   \n",
       "5            haymarket affair              Illinois               15 years   \n",
       "6                      murder              Arkansas                  death   \n",
       "7  sabotage of Locomotive 213              Nebraska                     No   \n",
       "8                      murder                 Idaho                  death   \n",
       "9                      murder              Kentucky                     No   \n",
       "\n",
       "  Legally Exonerated  Legally Exonerated Encoded  \n",
       "0                yes                           1  \n",
       "1                yes                           1  \n",
       "2                 no                           0  \n",
       "3                yes                           1  \n",
       "4                yes                           1  \n",
       "5                yes                           1  \n",
       "6                yes                           1  \n",
       "7                yes                           1  \n",
       "8                yes                           1  \n",
       "9                yes                           1  "
      ]
     },
     "execution_count": 111,
     "metadata": {},
     "output_type": "execute_result"
    }
   ],
   "source": [
    "df.head(10)"
   ]
  },
  {
   "cell_type": "code",
   "execution_count": 112,
   "metadata": {},
   "outputs": [],
   "source": [
    "ndf = df.groupby(df['Location of the Crime']).count()['Defendants'].sort_values(ascending = False).head()\n"
   ]
  },
  {
   "cell_type": "code",
   "execution_count": 113,
   "metadata": {},
   "outputs": [],
   "source": [
    "ndf = ndf.reset_index()"
   ]
  },
  {
   "cell_type": "code",
   "execution_count": 114,
   "metadata": {},
   "outputs": [
    {
     "data": {
      "text/html": [
       "<div>\n",
       "<style scoped>\n",
       "    .dataframe tbody tr th:only-of-type {\n",
       "        vertical-align: middle;\n",
       "    }\n",
       "\n",
       "    .dataframe tbody tr th {\n",
       "        vertical-align: top;\n",
       "    }\n",
       "\n",
       "    .dataframe thead th {\n",
       "        text-align: right;\n",
       "    }\n",
       "</style>\n",
       "<table border=\"1\" class=\"dataframe\">\n",
       "  <thead>\n",
       "    <tr style=\"text-align: right;\">\n",
       "      <th></th>\n",
       "      <th>Location of the Crime</th>\n",
       "      <th>Defendants</th>\n",
       "    </tr>\n",
       "  </thead>\n",
       "  <tbody>\n",
       "    <tr>\n",
       "      <th>0</th>\n",
       "      <td>Illinois</td>\n",
       "      <td>19</td>\n",
       "    </tr>\n",
       "    <tr>\n",
       "      <th>1</th>\n",
       "      <td>Texas</td>\n",
       "      <td>17</td>\n",
       "    </tr>\n",
       "    <tr>\n",
       "      <th>2</th>\n",
       "      <td>New York</td>\n",
       "      <td>16</td>\n",
       "    </tr>\n",
       "    <tr>\n",
       "      <th>3</th>\n",
       "      <td>California</td>\n",
       "      <td>10</td>\n",
       "    </tr>\n",
       "    <tr>\n",
       "      <th>4</th>\n",
       "      <td>North Carolina</td>\n",
       "      <td>9</td>\n",
       "    </tr>\n",
       "  </tbody>\n",
       "</table>\n",
       "</div>"
      ],
      "text/plain": [
       "  Location of the Crime  Defendants\n",
       "0              Illinois          19\n",
       "1                 Texas          17\n",
       "2              New York          16\n",
       "3            California          10\n",
       "4        North Carolina           9"
      ]
     },
     "execution_count": 114,
     "metadata": {},
     "output_type": "execute_result"
    }
   ],
   "source": [
    "ndf.head()"
   ]
  },
  {
   "cell_type": "code",
   "execution_count": 115,
   "metadata": {},
   "outputs": [
    {
     "data": {
      "text/plain": [
       "<AxesSubplot:xlabel='Location of the Crime', ylabel='Defendants'>"
      ]
     },
     "execution_count": 115,
     "metadata": {},
     "output_type": "execute_result"
    },
    {
     "data": {
      "image/png": "[encoded data removed]",
      "text/plain": [
       "<Figure size 432x288 with 1 Axes>"
      ]
     },
     "metadata": {},
     "output_type": "display_data"
    }
   ],
   "source": [
    "sns.barplot(y=\"Defendants\",\n",
    "    x=\"Location of the Crime\", \n",
    "    data=ndf,\n",
    "    palette=\"autumn\")"
   ]
  },
  {
   "cell_type": "markdown",
   "metadata": {},
   "source": [
    "Print indviudal Cols"
   ]
  },
  {
   "cell_type": "code",
   "execution_count": 116,
   "metadata": {},
   "outputs": [
    {
     "data": {
      "text/plain": [
       "0      1805\n",
       "1      1843\n",
       "2      1855\n",
       "3      1863\n",
       "4      1872\n",
       "       ... \n",
       "173    2016\n",
       "174    2017\n",
       "175    2017\n",
       "176    2017\n",
       "177    2017\n",
       "Name: Date of the Crime, Length: 178, dtype: int64"
      ]
     },
     "execution_count": 116,
     "metadata": {},
     "output_type": "execute_result"
    }
   ],
   "source": [
    "df['Date of the Crime']"
   ]
  },
  {
   "cell_type": "markdown",
   "metadata": {},
   "source": [
    "Create new DataFrame and group by year and number of Defendants "
   ]
  },
  {
   "cell_type": "code",
   "execution_count": 118,
   "metadata": {},
   "outputs": [],
   "source": [
    "tdf = df.groupby(df['Date of the Crime']).count()['Defendants']\n",
    "tdf = tdf.reset_index()"
   ]
  },
  {
   "cell_type": "markdown",
   "metadata": {},
   "source": [
    "Plot Wrongfull convictions After world war 2"
   ]
  },
  {
   "cell_type": "code",
   "execution_count": 168,
   "metadata": {},
   "outputs": [
    {
     "data": {
      "text/plain": [
       "(1950.0, 2020.0)"
      ]
     },
     "execution_count": 168,
     "metadata": {},
     "output_type": "execute_result"
    },
    {
     "data": {
      "image/png": "[encoded data removed]",
      "text/plain": [
       "<Figure size 432x288 with 1 Axes>"
      ]
     },
     "metadata": {},
     "output_type": "display_data"
    }
   ],
   "source": [
    "sns.lineplot(x = 'Date of the Crime', y = 'Defendants',data = tdf)\n",
    "plt.ylim(1, 10)\n",
    "plt.xlim(1950, 2020)"
   ]
  },
  {
   "cell_type": "code",
   "execution_count": 120,
   "metadata": {},
   "outputs": [
    {
     "data": {
      "text/plain": [
       "45"
      ]
     },
     "execution_count": 120,
     "metadata": {},
     "output_type": "execute_result"
    }
   ],
   "source": [
    "df['Type of the Crime'].nunique()"
   ]
  },
  {
   "cell_type": "markdown",
   "metadata": {},
   "source": [
    "Top 5 types of Crimes"
   ]
  },
  {
   "cell_type": "code",
   "execution_count": 121,
   "metadata": {},
   "outputs": [],
   "source": [
    "ttdf = df.groupby(df['Type of the Crime']).count()['Defendants'].sort_values(ascending = False).head()\n",
    "ttdf = ttdf.reset_index()\n"
   ]
  },
  {
   "cell_type": "code",
   "execution_count": 131,
   "metadata": {},
   "outputs": [
    {
     "data": {
      "text/plain": [
       "<AxesSubplot:xlabel='Type of the Crime', ylabel='Defendants'>"
      ]
     },
     "execution_count": 131,
     "metadata": {},
     "output_type": "execute_result"
    },
    {
     "data": {
      "image/png": "[encoded data removed]",
      "text/plain": [
       "<Figure size 576x288 with 1 Axes>"
      ]
     },
     "metadata": {},
     "output_type": "display_data"
    }
   ],
   "source": [
    "plt.figure(figsize = (8,4))\n",
    "sns.barplot(x=\"Type of the Crime\",\n",
    "    y=\"Defendants\", \n",
    "    data=ttdf,\n",
    "    )\n",
    "\n"
   ]
  },
  {
   "cell_type": "markdown",
   "metadata": {},
   "source": [
    "We can tell that most wrongful conviction was murder "
   ]
  },
  {
   "cell_type": "code",
   "execution_count": 157,
   "metadata": {},
   "outputs": [],
   "source": [
    "wdf = df.groupby(df['Type of the Crime']=='murder').count()['Legally Exonerated']\n",
    "wdf = wdf.reset_index()\n"
   ]
  },
  {
   "cell_type": "code",
   "execution_count": 164,
   "metadata": {},
   "outputs": [
    {
     "data": {
      "text/plain": [
       "Text(0.5, 1.0, 'Exonerated for the Crime for Murders')"
      ]
     },
     "execution_count": 164,
     "metadata": {},
     "output_type": "execute_result"
    },
    {
     "data": {
      "image/png": "[encoded data removed]",
      "text/plain": [
       "<Figure size 360x360 with 1 Axes>"
      ]
     },
     "metadata": {},
     "output_type": "display_data"
    }
   ],
   "source": [
    "labels = 'False', 'True'\n",
    "wdf.plot.pie(y='Legally Exonerated',labels=labels ,figsize=(5, 5),autopct='%.0f%%')\n",
    "plt.ylabel(None)\n",
    "plt.title('Exonerated for the Crime for Murders')\n"
   ]
  },
  {
   "cell_type": "markdown",
   "metadata": {},
   "source": [
    "Need to work on this"
   ]
  },
  {
   "cell_type": "code",
   "execution_count": 176,
   "metadata": {},
   "outputs": [],
   "source": [
    "locdf = df.groupby(df['Location of the Crime']=='Illinois').count()['Type of the Crime']\n",
    "locdf = locdf.reset_index()"
   ]
  }
 ],
 "metadata": {
  "interpreter": {
   "hash": "c42ea231ea902b8224d51a02fd9bc23920a69be990426e4cb94547dc4f5fbc92"
  },
  "kernelspec": {
   "display_name": "Python 3.9.12 ('base')",
   "language": "python",
   "name": "python3"
  },
  "language_info": {
   "codemirror_mode": {
    "name": "ipython",
    "version": 3
   },
   "file_extension": ".py",
   "mimetype": "text/x-python",
   "name": "python",
   "nbconvert_exporter": "python",
   "pygments_lexer": "ipython3",
   "version": "3.9.13"
  },
  "orig_nbformat": 4
 },
 "nbformat": 4,
 "nbformat_minor": 2
}
