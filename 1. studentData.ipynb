{
 "cells": [
  {
   "attachments": {},
   "cell_type": "markdown",
   "metadata": {},
   "source": [
    "# Student Data Analysis \n",
    "\n",
    "This dataset provides valuable information about 200,000 students who are enrolled in a fictional University. I will try to answer some questions that can better understand this data. "
   ]
  },
  {
   "cell_type": "code",
   "execution_count": 108,
   "metadata": {},
   "outputs": [],
   "source": [
    "# library imports\n",
    "import numpy as np \n",
    "import pandas as pd \n",
    "import matplotlib.pyplot as plt\n",
    "import timeit"
   ]
  },
  {
   "cell_type": "code",
   "execution_count": 109,
   "metadata": {},
   "outputs": [],
   "source": [
    "# File reading and storing as a data frame \n",
    "\n",
    "studentData_df = pd.read_csv(r'...\\student_data1.csv')"
   ]
  },
  {
   "cell_type": "code",
   "execution_count": 110,
   "metadata": {},
   "outputs": [],
   "source": [
    "# Change dtype for current Semester from int64 to int8 just to save some space\n",
    "\n",
    "studentData_df['Current Semester'] = studentData_df['Current Semester'].astype('int8')"
   ]
  },
  {
   "cell_type": "code",
   "execution_count": 111,
   "metadata": {},
   "outputs": [
    {
     "data": {
      "text/plain": [
       "65614620"
      ]
     },
     "execution_count": 111,
     "metadata": {},
     "output_type": "execute_result"
    }
   ],
   "source": [
    "# Memory Usage\n",
    "\n",
    "studentData_df.memory_usage(deep=True).sum()"
   ]
  },
  {
   "attachments": {},
   "cell_type": "markdown",
   "metadata": {},
   "source": [
    "## Explore Data Frame"
   ]
  },
  {
   "cell_type": "code",
   "execution_count": 112,
   "metadata": {},
   "outputs": [
    {
     "name": "stdout",
     "output_type": "stream",
     "text": [
      "(200000, 10)\n"
     ]
    },
    {
     "data": {
      "text/html": [
       "<div>\n",
       "<style scoped>\n",
       "    .dataframe tbody tr th:only-of-type {\n",
       "        vertical-align: middle;\n",
       "    }\n",
       "\n",
       "    .dataframe tbody tr th {\n",
       "        vertical-align: top;\n",
       "    }\n",
       "\n",
       "    .dataframe thead th {\n",
       "        text-align: right;\n",
       "    }\n",
       "</style>\n",
       "<table border=\"1\" class=\"dataframe\">\n",
       "  <thead>\n",
       "    <tr style=\"text-align: right;\">\n",
       "      <th></th>\n",
       "      <th>Student ID</th>\n",
       "      <th>Student Name</th>\n",
       "      <th>Date of Birth</th>\n",
       "      <th>Field of Study</th>\n",
       "      <th>Year of Admission</th>\n",
       "      <th>Expected Year of Graduation</th>\n",
       "      <th>Current Semester</th>\n",
       "      <th>Specialization</th>\n",
       "      <th>Fees</th>\n",
       "      <th>Discount on Fees</th>\n",
       "    </tr>\n",
       "  </thead>\n",
       "  <tbody>\n",
       "    <tr>\n",
       "      <th>0</th>\n",
       "      <td>165527</td>\n",
       "      <td>Bryan Rogers</td>\n",
       "      <td>2006-01-19</td>\n",
       "      <td>Computer Science</td>\n",
       "      <td>2020</td>\n",
       "      <td>2017</td>\n",
       "      <td>3</td>\n",
       "      <td>Web Development</td>\n",
       "      <td>155152</td>\n",
       "      <td>19572</td>\n",
       "    </tr>\n",
       "    <tr>\n",
       "      <th>1</th>\n",
       "      <td>635763</td>\n",
       "      <td>James Hogan</td>\n",
       "      <td>1999-05-23</td>\n",
       "      <td>Mechanical Engineering</td>\n",
       "      <td>2020</td>\n",
       "      <td>2020</td>\n",
       "      <td>2</td>\n",
       "      <td>Machine Learning</td>\n",
       "      <td>157870</td>\n",
       "      <td>14760</td>\n",
       "    </tr>\n",
       "    <tr>\n",
       "      <th>2</th>\n",
       "      <td>740021</td>\n",
       "      <td>David Robinson</td>\n",
       "      <td>1997-12-02</td>\n",
       "      <td>Civil Engineering</td>\n",
       "      <td>2017</td>\n",
       "      <td>2022</td>\n",
       "      <td>1</td>\n",
       "      <td>Network Security</td>\n",
       "      <td>55662</td>\n",
       "      <td>5871</td>\n",
       "    </tr>\n",
       "    <tr>\n",
       "      <th>3</th>\n",
       "      <td>433076</td>\n",
       "      <td>Susan Miller</td>\n",
       "      <td>1999-10-30</td>\n",
       "      <td>Computer Science</td>\n",
       "      <td>2021</td>\n",
       "      <td>2019</td>\n",
       "      <td>1</td>\n",
       "      <td>Data Science</td>\n",
       "      <td>134955</td>\n",
       "      <td>17284</td>\n",
       "    </tr>\n",
       "    <tr>\n",
       "      <th>4</th>\n",
       "      <td>441628</td>\n",
       "      <td>Brittany Martin</td>\n",
       "      <td>1998-01-10</td>\n",
       "      <td>Chemical Engineering</td>\n",
       "      <td>2016</td>\n",
       "      <td>2018</td>\n",
       "      <td>1</td>\n",
       "      <td>Network Security</td>\n",
       "      <td>125934</td>\n",
       "      <td>14871</td>\n",
       "    </tr>\n",
       "  </tbody>\n",
       "</table>\n",
       "</div>"
      ],
      "text/plain": [
       "   Student ID     Student Name Date of Birth          Field of Study  \\\n",
       "0      165527     Bryan Rogers    2006-01-19        Computer Science   \n",
       "1      635763      James Hogan    1999-05-23  Mechanical Engineering   \n",
       "2      740021   David Robinson    1997-12-02       Civil Engineering   \n",
       "3      433076     Susan Miller    1999-10-30        Computer Science   \n",
       "4      441628  Brittany Martin    1998-01-10    Chemical Engineering   \n",
       "\n",
       "   Year of Admission  Expected Year of Graduation  Current Semester  \\\n",
       "0               2020                         2017                 3   \n",
       "1               2020                         2020                 2   \n",
       "2               2017                         2022                 1   \n",
       "3               2021                         2019                 1   \n",
       "4               2016                         2018                 1   \n",
       "\n",
       "     Specialization    Fees  Discount on Fees  \n",
       "0   Web Development  155152             19572  \n",
       "1  Machine Learning  157870             14760  \n",
       "2  Network Security   55662              5871  \n",
       "3      Data Science  134955             17284  \n",
       "4  Network Security  125934             14871  "
      ]
     },
     "execution_count": 112,
     "metadata": {},
     "output_type": "execute_result"
    }
   ],
   "source": [
    "# check few lines and the shape of the data frame\n",
    "print(studentData_df.shape)\n",
    "studentData_df.head()"
   ]
  },
  {
   "cell_type": "code",
   "execution_count": 113,
   "metadata": {},
   "outputs": [
    {
     "data": {
      "text/plain": [
       "Index(['Student ID', 'Student Name', 'Date of Birth', 'Field of Study',\n",
       "       'Year of Admission', 'Expected Year of Graduation', 'Current Semester',\n",
       "       'Specialization', 'Fees', 'Discount on Fees'],\n",
       "      dtype='object')"
      ]
     },
     "execution_count": 113,
     "metadata": {},
     "output_type": "execute_result"
    }
   ],
   "source": [
    "# column names only\n",
    "studentData_df.columns"
   ]
  },
  {
   "cell_type": "code",
   "execution_count": 114,
   "metadata": {},
   "outputs": [
    {
     "name": "stdout",
     "output_type": "stream",
     "text": [
      "<class 'pandas.core.frame.DataFrame'>\n",
      "RangeIndex: 200000 entries, 0 to 199999\n",
      "Data columns (total 10 columns):\n",
      " #   Column                       Non-Null Count   Dtype \n",
      "---  ------                       --------------   ----- \n",
      " 0   Student ID                   200000 non-null  int64 \n",
      " 1   Student Name                 200000 non-null  object\n",
      " 2   Date of Birth                200000 non-null  object\n",
      " 3   Field of Study               200000 non-null  object\n",
      " 4   Year of Admission            200000 non-null  int64 \n",
      " 5   Expected Year of Graduation  200000 non-null  int64 \n",
      " 6   Current Semester             200000 non-null  int8  \n",
      " 7   Specialization               200000 non-null  object\n",
      " 8   Fees                         200000 non-null  int64 \n",
      " 9   Discount on Fees             200000 non-null  int64 \n",
      "dtypes: int64(5), int8(1), object(4)\n",
      "memory usage: 13.9+ MB\n"
     ]
    }
   ],
   "source": [
    "# info on columns: showing name, count of non-null values and dtype \n",
    "studentData_df.info()"
   ]
  },
  {
   "cell_type": "code",
   "execution_count": 115,
   "metadata": {},
   "outputs": [
    {
     "data": {
      "text/plain": [
       "Student ID                     0\n",
       "Student Name                   0\n",
       "Date of Birth                  0\n",
       "Field of Study                 0\n",
       "Year of Admission              0\n",
       "Expected Year of Graduation    0\n",
       "Current Semester               0\n",
       "Specialization                 0\n",
       "Fees                           0\n",
       "Discount on Fees               0\n",
       "dtype: int64"
      ]
     },
     "execution_count": 115,
     "metadata": {},
     "output_type": "execute_result"
    }
   ],
   "source": [
    "# Checking for null values\n",
    "(  \n",
    "    studentData_df\n",
    "    .isna()\n",
    "    .sum()\n",
    "    )"
   ]
  },
  {
   "cell_type": "code",
   "execution_count": 116,
   "metadata": {},
   "outputs": [
    {
     "data": {
      "text/html": [
       "<div>\n",
       "<style scoped>\n",
       "    .dataframe tbody tr th:only-of-type {\n",
       "        vertical-align: middle;\n",
       "    }\n",
       "\n",
       "    .dataframe tbody tr th {\n",
       "        vertical-align: top;\n",
       "    }\n",
       "\n",
       "    .dataframe thead th {\n",
       "        text-align: right;\n",
       "    }\n",
       "</style>\n",
       "<table border=\"1\" class=\"dataframe\">\n",
       "  <thead>\n",
       "    <tr style=\"text-align: right;\">\n",
       "      <th></th>\n",
       "      <th>Student ID</th>\n",
       "      <th>Year of Admission</th>\n",
       "      <th>Expected Year of Graduation</th>\n",
       "      <th>Current Semester</th>\n",
       "      <th>Fees</th>\n",
       "      <th>Discount on Fees</th>\n",
       "    </tr>\n",
       "  </thead>\n",
       "  <tbody>\n",
       "    <tr>\n",
       "      <th>count</th>\n",
       "      <td>200000.000000</td>\n",
       "      <td>200000.000000</td>\n",
       "      <td>200000.000000</td>\n",
       "      <td>200000.000000</td>\n",
       "      <td>200000.000000</td>\n",
       "      <td>200000.000000</td>\n",
       "    </tr>\n",
       "    <tr>\n",
       "      <th>mean</th>\n",
       "      <td>549367.492925</td>\n",
       "      <td>2018.997685</td>\n",
       "      <td>2019.995235</td>\n",
       "      <td>2.499020</td>\n",
       "      <td>125092.847595</td>\n",
       "      <td>12484.258575</td>\n",
       "    </tr>\n",
       "    <tr>\n",
       "      <th>std</th>\n",
       "      <td>259361.565011</td>\n",
       "      <td>2.002381</td>\n",
       "      <td>1.997744</td>\n",
       "      <td>1.117804</td>\n",
       "      <td>43287.894903</td>\n",
       "      <td>8788.362629</td>\n",
       "    </tr>\n",
       "    <tr>\n",
       "      <th>min</th>\n",
       "      <td>100001.000000</td>\n",
       "      <td>2016.000000</td>\n",
       "      <td>2017.000000</td>\n",
       "      <td>1.000000</td>\n",
       "      <td>50000.000000</td>\n",
       "      <td>0.000000</td>\n",
       "    </tr>\n",
       "    <tr>\n",
       "      <th>25%</th>\n",
       "      <td>325311.000000</td>\n",
       "      <td>2017.000000</td>\n",
       "      <td>2018.000000</td>\n",
       "      <td>1.000000</td>\n",
       "      <td>87641.500000</td>\n",
       "      <td>5383.000000</td>\n",
       "    </tr>\n",
       "    <tr>\n",
       "      <th>50%</th>\n",
       "      <td>548855.500000</td>\n",
       "      <td>2019.000000</td>\n",
       "      <td>2020.000000</td>\n",
       "      <td>2.000000</td>\n",
       "      <td>125221.000000</td>\n",
       "      <td>10792.500000</td>\n",
       "    </tr>\n",
       "    <tr>\n",
       "      <th>75%</th>\n",
       "      <td>774182.500000</td>\n",
       "      <td>2021.000000</td>\n",
       "      <td>2022.000000</td>\n",
       "      <td>3.000000</td>\n",
       "      <td>162597.250000</td>\n",
       "      <td>18154.000000</td>\n",
       "    </tr>\n",
       "    <tr>\n",
       "      <th>max</th>\n",
       "      <td>999997.000000</td>\n",
       "      <td>2022.000000</td>\n",
       "      <td>2023.000000</td>\n",
       "      <td>4.000000</td>\n",
       "      <td>200000.000000</td>\n",
       "      <td>39865.000000</td>\n",
       "    </tr>\n",
       "  </tbody>\n",
       "</table>\n",
       "</div>"
      ],
      "text/plain": [
       "          Student ID  Year of Admission  Expected Year of Graduation  \\\n",
       "count  200000.000000      200000.000000                200000.000000   \n",
       "mean   549367.492925        2018.997685                  2019.995235   \n",
       "std    259361.565011           2.002381                     1.997744   \n",
       "min    100001.000000        2016.000000                  2017.000000   \n",
       "25%    325311.000000        2017.000000                  2018.000000   \n",
       "50%    548855.500000        2019.000000                  2020.000000   \n",
       "75%    774182.500000        2021.000000                  2022.000000   \n",
       "max    999997.000000        2022.000000                  2023.000000   \n",
       "\n",
       "       Current Semester           Fees  Discount on Fees  \n",
       "count     200000.000000  200000.000000     200000.000000  \n",
       "mean           2.499020  125092.847595      12484.258575  \n",
       "std            1.117804   43287.894903       8788.362629  \n",
       "min            1.000000   50000.000000          0.000000  \n",
       "25%            1.000000   87641.500000       5383.000000  \n",
       "50%            2.000000  125221.000000      10792.500000  \n",
       "75%            3.000000  162597.250000      18154.000000  \n",
       "max            4.000000  200000.000000      39865.000000  "
      ]
     },
     "execution_count": 116,
     "metadata": {},
     "output_type": "execute_result"
    }
   ],
   "source": [
    "# Describe data frame summary statistics both int and object \n",
    "studentData_df.describe(exclude='object')"
   ]
  },
  {
   "cell_type": "code",
   "execution_count": 117,
   "metadata": {},
   "outputs": [
    {
     "data": {
      "text/html": [
       "<div>\n",
       "<style scoped>\n",
       "    .dataframe tbody tr th:only-of-type {\n",
       "        vertical-align: middle;\n",
       "    }\n",
       "\n",
       "    .dataframe tbody tr th {\n",
       "        vertical-align: top;\n",
       "    }\n",
       "\n",
       "    .dataframe thead th {\n",
       "        text-align: right;\n",
       "    }\n",
       "</style>\n",
       "<table border=\"1\" class=\"dataframe\">\n",
       "  <thead>\n",
       "    <tr style=\"text-align: right;\">\n",
       "      <th></th>\n",
       "      <th>Student Name</th>\n",
       "      <th>Date of Birth</th>\n",
       "      <th>Field of Study</th>\n",
       "      <th>Specialization</th>\n",
       "    </tr>\n",
       "  </thead>\n",
       "  <tbody>\n",
       "    <tr>\n",
       "      <th>count</th>\n",
       "      <td>200000</td>\n",
       "      <td>200000</td>\n",
       "      <td>200000</td>\n",
       "      <td>200000</td>\n",
       "    </tr>\n",
       "    <tr>\n",
       "      <th>unique</th>\n",
       "      <td>120038</td>\n",
       "      <td>3286</td>\n",
       "      <td>5</td>\n",
       "      <td>5</td>\n",
       "    </tr>\n",
       "    <tr>\n",
       "      <th>top</th>\n",
       "      <td>Michael Smith</td>\n",
       "      <td>1997-05-31</td>\n",
       "      <td>Electrical Engineering</td>\n",
       "      <td>Web Development</td>\n",
       "    </tr>\n",
       "    <tr>\n",
       "      <th>freq</th>\n",
       "      <td>99</td>\n",
       "      <td>126</td>\n",
       "      <td>40305</td>\n",
       "      <td>40292</td>\n",
       "    </tr>\n",
       "  </tbody>\n",
       "</table>\n",
       "</div>"
      ],
      "text/plain": [
       "         Student Name Date of Birth          Field of Study   Specialization\n",
       "count          200000        200000                  200000           200000\n",
       "unique         120038          3286                       5                5\n",
       "top     Michael Smith    1997-05-31  Electrical Engineering  Web Development\n",
       "freq               99           126                   40305            40292"
      ]
     },
     "execution_count": 117,
     "metadata": {},
     "output_type": "execute_result"
    }
   ],
   "source": [
    "# Describe data frame summary statistics both int and object \n",
    "(\n",
    "    studentData_df\n",
    "    .describe(include='object')\n",
    ")"
   ]
  },
  {
   "attachments": {},
   "cell_type": "markdown",
   "metadata": {},
   "source": [
    "Name Michael Smith appeared 99 times? \n",
    "\n",
    "Current semester dtype can be changed from int64 to int8"
   ]
  },
  {
   "attachments": {},
   "cell_type": "markdown",
   "metadata": {},
   "source": [
    "## Questions \n",
    "\n",
    "- How many students entered school each year?\n",
    "- How many students set to graduate year 2023?\n",
    "- What is the distribution of students across different fields of study?\n",
    "- How many students are enrolled in each specialization?\n",
    "- What is the average age of the students based on their date of birth?\n",
    "- How many students are enrolled in each year of admission?\n",
    "- How many students are expected to graduate in each year?\n",
    "- What is the distribution of students across different current semesters?\n",
    "- What are the popular specializations chosen by the students?\n",
    "- What is the range and distribution of fees charged for the students?\n",
    "- How many students are availing discounts on their fees?\n",
    "- Are there any correlations between the field of study and the specialization chosen?"
   ]
  },
  {
   "cell_type": "code",
   "execution_count": 118,
   "metadata": {},
   "outputs": [
    {
     "data": {
      "text/plain": [
       "Text(0.5, 1.0, 'Students Entering University per Year')"
      ]
     },
     "execution_count": 118,
     "metadata": {},
     "output_type": "execute_result"
    },
    {
     "data": {
      "image/png": "[encoded data removed]",
      "text/plain": [
       "<Figure size 640x480 with 1 Axes>"
      ]
     },
     "metadata": {},
     "output_type": "display_data"
    }
   ],
   "source": [
    "# How many students entered the school each yeah\n",
    "(\n",
    "    studentData_df\n",
    "    .groupby('Year of Admission')\n",
    "    ['Student ID']\n",
    "    .count()\n",
    "    .plot(kind='line',marker='.')\n",
    "\n",
    ")\n",
    "\n",
    "plt.ylabel('Number of students')\n",
    "plt.xlabel('Year of Entrance')\n",
    "plt.title('Students Entering University per Year')\n",
    "\n"
   ]
  },
  {
   "cell_type": "code",
   "execution_count": null,
   "metadata": {},
   "outputs": [],
   "source": [
    "# How many students are expect to graduate Year 2023\n",
    "\n",
    "(\n",
    "    studentData_df\n",
    "    .groupby('Expected Year of Graduation')\n",
    "    ['Student ID']\n",
    "    .get_group(2023)\n",
    "    .count()\n",
    ")"
   ]
  },
  {
   "attachments": {},
   "cell_type": "markdown",
   "metadata": {},
   "source": [
    "Students expected to graduate in 2023 are 28360. I can check all the students that have graduated in all years"
   ]
  },
  {
   "cell_type": "code",
   "execution_count": 213,
   "metadata": {},
   "outputs": [
    {
     "data": {
      "text/plain": [
       "<Axes: ylabel='Expected Year of Graduation'>"
      ]
     },
     "execution_count": 213,
     "metadata": {},
     "output_type": "execute_result"
    },
    {
     "data": {
      "image/png": "[encoded data removed]",
      "text/plain": [
       "<Figure size 640x480 with 1 Axes>"
      ]
     },
     "metadata": {},
     "output_type": "display_data"
    }
   ],
   "source": [
    "# How many students graduated throughout the years\n",
    "\n",
    "(studentData_df\n",
    "    .groupby('Expected Year of Graduation')\n",
    "    ['Student ID']\n",
    "    .count()\n",
    "    .plot(kind='barh')\n",
    "\n",
    ")"
   ]
  },
  {
   "cell_type": "code",
   "execution_count": 134,
   "metadata": {},
   "outputs": [
    {
     "data": {
      "text/html": [
       "<div>\n",
       "<style scoped>\n",
       "    .dataframe tbody tr th:only-of-type {\n",
       "        vertical-align: middle;\n",
       "    }\n",
       "\n",
       "    .dataframe tbody tr th {\n",
       "        vertical-align: top;\n",
       "    }\n",
       "\n",
       "    .dataframe thead th {\n",
       "        text-align: right;\n",
       "    }\n",
       "</style>\n",
       "<table border=\"1\" class=\"dataframe\">\n",
       "  <thead>\n",
       "    <tr style=\"text-align: right;\">\n",
       "      <th></th>\n",
       "      <th>Field of Study</th>\n",
       "      <th>Student Count</th>\n",
       "    </tr>\n",
       "  </thead>\n",
       "  <tbody>\n",
       "    <tr>\n",
       "      <th>0</th>\n",
       "      <td>Electrical Engineering</td>\n",
       "      <td>40305</td>\n",
       "    </tr>\n",
       "    <tr>\n",
       "      <th>1</th>\n",
       "      <td>Chemical Engineering</td>\n",
       "      <td>40020</td>\n",
       "    </tr>\n",
       "    <tr>\n",
       "      <th>2</th>\n",
       "      <td>Computer Science</td>\n",
       "      <td>39960</td>\n",
       "    </tr>\n",
       "    <tr>\n",
       "      <th>3</th>\n",
       "      <td>Mechanical Engineering</td>\n",
       "      <td>39941</td>\n",
       "    </tr>\n",
       "    <tr>\n",
       "      <th>4</th>\n",
       "      <td>Civil Engineering</td>\n",
       "      <td>39774</td>\n",
       "    </tr>\n",
       "  </tbody>\n",
       "</table>\n",
       "</div>"
      ],
      "text/plain": [
       "           Field of Study  Student Count\n",
       "0  Electrical Engineering          40305\n",
       "1    Chemical Engineering          40020\n",
       "2        Computer Science          39960\n",
       "3  Mechanical Engineering          39941\n",
       "4       Civil Engineering          39774"
      ]
     },
     "execution_count": 134,
     "metadata": {},
     "output_type": "execute_result"
    }
   ],
   "source": [
    "# Distribution of students across different fields of study \n",
    "\n",
    "(\n",
    "    studentData_df['Field of Study']\n",
    "    .value_counts()\n",
    "    .to_frame()\n",
    "    .reset_index()\n",
    "    .rename(columns={'index': 'Field of Study', 'Field of Study': 'Student Count'})\n",
    ")\n"
   ]
  },
  {
   "cell_type": "code",
   "execution_count": 211,
   "metadata": {},
   "outputs": [
    {
     "data": {
      "image/png": "[encoded data removed]",
      "text/plain": [
       "<Figure size 640x480 with 1 Axes>"
      ]
     },
     "metadata": {},
     "output_type": "display_data"
    }
   ],
   "source": [
    "# How many students are enrolled in each specialization?\n",
    "\n",
    "# Getting total count group by \n",
    "student_special = studentData_df.groupby('Specialization').size().sort_values(ascending=False)\n",
    "\n",
    "#\n",
    "\n",
    "# Plot \n",
    "plt.bar(student_special.index, student_special, width = 0.3, color='green')\n",
    "\n",
    "# Setting axis values\n",
    "plt.xlabel('Specialization')\n",
    "plt.ylabel('Number of Students')\n",
    "plt.title('Number of Students Enrolled in Each Specialization')\n",
    "\n",
    "# \n",
    "for index,value in enumerate(student_special):\n",
    "    plt.text(index,value, str(value),ha='center', va='bottom')\n",
    "\n",
    "plt.xticks(rotation=45)\n",
    "plt.show()\n"
   ]
  }
 ],
 "metadata": {
  "kernelspec": {
   "display_name": "base",
   "language": "python",
   "name": "python3"
  },
  "language_info": {
   "codemirror_mode": {
    "name": "ipython",
    "version": 3
   },
   "file_extension": ".py",
   "mimetype": "text/x-python",
   "name": "python",
   "nbconvert_exporter": "python",
   "pygments_lexer": "ipython3",
   "version": "3.9.16"
  },
  "orig_nbformat": 4
 },
 "nbformat": 4,
 "nbformat_minor": 2
}
