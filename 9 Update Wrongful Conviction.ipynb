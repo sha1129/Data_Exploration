{
 "cells": [
  {
   "attachments": {},
   "cell_type": "markdown",
   "metadata": {},
   "source": [
    "**Wrongful Conviction**\n",
    "============================\n",
    "\n",
    "Updated from previous workbook. Fixed many issues and standardized to follow common industry practices"
   ]
  },
  {
   "cell_type": "code",
   "execution_count": 107,
   "metadata": {},
   "outputs": [],
   "source": [
    "import pandas as pd\n",
    "import numpy as np\n",
    "import matplotlib.pyplot as plt\n",
    "import seaborn as sns\n"
   ]
  },
  {
   "cell_type": "code",
   "execution_count": 108,
   "metadata": {},
   "outputs": [],
   "source": [
    "# Read Data\n",
    "\n",
    "wrongCon_df = pd.read_csv(...\\Wrongful Convictions in the United States.csv\")"
   ]
  },
  {
   "attachments": {},
   "cell_type": "markdown",
   "metadata": {},
   "source": [
    "### EDA"
   ]
  },
  {
   "attachments": {},
   "cell_type": "markdown",
   "metadata": {},
   "source": [
    "##### Shape and First 5 rows"
   ]
  },
  {
   "cell_type": "code",
   "execution_count": 109,
   "metadata": {},
   "outputs": [
    {
     "name": "stdout",
     "output_type": "stream",
     "text": [
      "(178, 8)\n"
     ]
    },
    {
     "data": {
      "text/html": [
       "<div>\n",
       "<style scoped>\n",
       "    .dataframe tbody tr th:only-of-type {\n",
       "        vertical-align: middle;\n",
       "    }\n",
       "\n",
       "    .dataframe tbody tr th {\n",
       "        vertical-align: top;\n",
       "    }\n",
       "\n",
       "    .dataframe thead th {\n",
       "        text-align: right;\n",
       "    }\n",
       "</style>\n",
       "<table border=\"1\" class=\"dataframe\">\n",
       "  <thead>\n",
       "    <tr style=\"text-align: right;\">\n",
       "      <th></th>\n",
       "      <th>Unnamed: 0</th>\n",
       "      <th>Date of the Crime</th>\n",
       "      <th>Defendants</th>\n",
       "      <th>Type of the Crime</th>\n",
       "      <th>Location of the Crime</th>\n",
       "      <th>Punishment for a crime</th>\n",
       "      <th>Legally Exonerated</th>\n",
       "      <th>Legally Exonerated Encoded</th>\n",
       "    </tr>\n",
       "  </thead>\n",
       "  <tbody>\n",
       "    <tr>\n",
       "      <th>0</th>\n",
       "      <td>0</td>\n",
       "      <td>1805</td>\n",
       "      <td>Dominic Daley and James Halligan</td>\n",
       "      <td>murder</td>\n",
       "      <td>Massachusetts</td>\n",
       "      <td>death</td>\n",
       "      <td>yes</td>\n",
       "      <td>1</td>\n",
       "    </tr>\n",
       "    <tr>\n",
       "      <th>1</th>\n",
       "      <td>1</td>\n",
       "      <td>1843</td>\n",
       "      <td>John Gordon</td>\n",
       "      <td>murder</td>\n",
       "      <td>Rhode Island</td>\n",
       "      <td>death</td>\n",
       "      <td>yes</td>\n",
       "      <td>1</td>\n",
       "    </tr>\n",
       "    <tr>\n",
       "      <th>2</th>\n",
       "      <td>2</td>\n",
       "      <td>1855</td>\n",
       "      <td>Chief Leschi</td>\n",
       "      <td>murder</td>\n",
       "      <td>Washington</td>\n",
       "      <td>death</td>\n",
       "      <td>no</td>\n",
       "      <td>0</td>\n",
       "    </tr>\n",
       "    <tr>\n",
       "      <th>3</th>\n",
       "      <td>3</td>\n",
       "      <td>1863</td>\n",
       "      <td>Chipita Rodriguez</td>\n",
       "      <td>murder</td>\n",
       "      <td>Texas</td>\n",
       "      <td>death</td>\n",
       "      <td>yes</td>\n",
       "      <td>1</td>\n",
       "    </tr>\n",
       "    <tr>\n",
       "      <th>4</th>\n",
       "      <td>4</td>\n",
       "      <td>1872</td>\n",
       "      <td>William Jackson Marion</td>\n",
       "      <td>murder</td>\n",
       "      <td>Nebraska</td>\n",
       "      <td>death</td>\n",
       "      <td>yes</td>\n",
       "      <td>1</td>\n",
       "    </tr>\n",
       "  </tbody>\n",
       "</table>\n",
       "</div>"
      ],
      "text/plain": [
       "   Unnamed: 0  Date of the Crime                        Defendants  \\\n",
       "0           0               1805  Dominic Daley and James Halligan   \n",
       "1           1               1843                       John Gordon   \n",
       "2           2               1855                      Chief Leschi   \n",
       "3           3               1863                 Chipita Rodriguez   \n",
       "4           4               1872            William Jackson Marion   \n",
       "\n",
       "  Type of the Crime Location of the Crime Punishment for a crime  \\\n",
       "0            murder         Massachusetts                  death   \n",
       "1            murder          Rhode Island                  death   \n",
       "2            murder            Washington                  death   \n",
       "3            murder                 Texas                  death   \n",
       "4            murder              Nebraska                  death   \n",
       "\n",
       "  Legally Exonerated  Legally Exonerated Encoded  \n",
       "0                yes                           1  \n",
       "1                yes                           1  \n",
       "2                 no                           0  \n",
       "3                yes                           1  \n",
       "4                yes                           1  "
      ]
     },
     "execution_count": 109,
     "metadata": {},
     "output_type": "execute_result"
    }
   ],
   "source": [
    "print(wrongCon_df.shape)\n",
    "wrongCon_df.head()\n"
   ]
  },
  {
   "attachments": {},
   "cell_type": "markdown",
   "metadata": {},
   "source": [
    "##### Columns info and Data types"
   ]
  },
  {
   "cell_type": "code",
   "execution_count": 110,
   "metadata": {},
   "outputs": [
    {
     "name": "stdout",
     "output_type": "stream",
     "text": [
      "<class 'pandas.core.frame.DataFrame'>\n",
      "RangeIndex: 178 entries, 0 to 177\n",
      "Data columns (total 8 columns):\n",
      " #   Column                      Non-Null Count  Dtype \n",
      "---  ------                      --------------  ----- \n",
      " 0   Unnamed: 0                  178 non-null    int64 \n",
      " 1   Date of the Crime           178 non-null    int64 \n",
      " 2   Defendants                  178 non-null    object\n",
      " 3   Type of the Crime           178 non-null    object\n",
      " 4   Location of the Crime       178 non-null    object\n",
      " 5   Punishment for a crime      169 non-null    object\n",
      " 6   Legally Exonerated          178 non-null    object\n",
      " 7   Legally Exonerated Encoded  178 non-null    int64 \n",
      "dtypes: int64(3), object(5)\n",
      "memory usage: 11.2+ KB\n"
     ]
    }
   ],
   "source": [
    "wrongCon_df.info()"
   ]
  },
  {
   "attachments": {},
   "cell_type": "markdown",
   "metadata": {},
   "source": [
    "##### NaN values check"
   ]
  },
  {
   "cell_type": "code",
   "execution_count": 111,
   "metadata": {},
   "outputs": [
    {
     "data": {
      "text/plain": [
       "Unnamed: 0                    0\n",
       "Date of the Crime             0\n",
       "Defendants                    0\n",
       "Type of the Crime             0\n",
       "Location of the Crime         0\n",
       "Punishment for a crime        9\n",
       "Legally Exonerated            0\n",
       "Legally Exonerated Encoded    0\n",
       "dtype: int64"
      ]
     },
     "execution_count": 111,
     "metadata": {},
     "output_type": "execute_result"
    }
   ],
   "source": [
    "wrongCon_df.isna().sum()"
   ]
  },
  {
   "attachments": {},
   "cell_type": "markdown",
   "metadata": {},
   "source": [
    "##### NaN rows print\n",
    "Punishment for a crime have 9 NaN values, I will check if they are significant for the analysis "
   ]
  },
  {
   "cell_type": "code",
   "execution_count": 112,
   "metadata": {},
   "outputs": [
    {
     "data": {
      "text/html": [
       "<div>\n",
       "<style scoped>\n",
       "    .dataframe tbody tr th:only-of-type {\n",
       "        vertical-align: middle;\n",
       "    }\n",
       "\n",
       "    .dataframe tbody tr th {\n",
       "        vertical-align: top;\n",
       "    }\n",
       "\n",
       "    .dataframe thead th {\n",
       "        text-align: right;\n",
       "    }\n",
       "</style>\n",
       "<table border=\"1\" class=\"dataframe\">\n",
       "  <thead>\n",
       "    <tr style=\"text-align: right;\">\n",
       "      <th></th>\n",
       "      <th>Unnamed: 0</th>\n",
       "      <th>Date of the Crime</th>\n",
       "      <th>Defendants</th>\n",
       "      <th>Type of the Crime</th>\n",
       "      <th>Location of the Crime</th>\n",
       "      <th>Punishment for a crime</th>\n",
       "      <th>Legally Exonerated</th>\n",
       "      <th>Legally Exonerated Encoded</th>\n",
       "    </tr>\n",
       "  </thead>\n",
       "  <tbody>\n",
       "    <tr>\n",
       "      <th>7</th>\n",
       "      <td>7</td>\n",
       "      <td>1894</td>\n",
       "      <td>George Washington Davis</td>\n",
       "      <td>sabotage of Locomotive 213</td>\n",
       "      <td>Nebraska</td>\n",
       "      <td>NaN</td>\n",
       "      <td>yes</td>\n",
       "      <td>1</td>\n",
       "    </tr>\n",
       "    <tr>\n",
       "      <th>9</th>\n",
       "      <td>9</td>\n",
       "      <td>1900</td>\n",
       "      <td>Caleb Powers</td>\n",
       "      <td>murder</td>\n",
       "      <td>Kentucky</td>\n",
       "      <td>NaN</td>\n",
       "      <td>yes</td>\n",
       "      <td>1</td>\n",
       "    </tr>\n",
       "    <tr>\n",
       "      <th>50</th>\n",
       "      <td>50</td>\n",
       "      <td>1980</td>\n",
       "      <td>Steve Titus</td>\n",
       "      <td>rape</td>\n",
       "      <td>Washington</td>\n",
       "      <td>NaN</td>\n",
       "      <td>yes</td>\n",
       "      <td>1</td>\n",
       "    </tr>\n",
       "    <tr>\n",
       "      <th>52</th>\n",
       "      <td>52</td>\n",
       "      <td>1980</td>\n",
       "      <td>Kern County child abuse cases</td>\n",
       "      <td>satanic ritual sex abuse</td>\n",
       "      <td>California</td>\n",
       "      <td>NaN</td>\n",
       "      <td>yes</td>\n",
       "      <td>1</td>\n",
       "    </tr>\n",
       "    <tr>\n",
       "      <th>71</th>\n",
       "      <td>71</td>\n",
       "      <td>1984</td>\n",
       "      <td>Employees of Fells Acres Day Care</td>\n",
       "      <td>satanic ritual sex abuse</td>\n",
       "      <td>Massachusetts</td>\n",
       "      <td>NaN</td>\n",
       "      <td>yes</td>\n",
       "      <td>1</td>\n",
       "    </tr>\n",
       "    <tr>\n",
       "      <th>79</th>\n",
       "      <td>79</td>\n",
       "      <td>1985</td>\n",
       "      <td>Beatrice Six</td>\n",
       "      <td>murder</td>\n",
       "      <td>Nebraska</td>\n",
       "      <td>NaN</td>\n",
       "      <td>yes</td>\n",
       "      <td>1</td>\n",
       "    </tr>\n",
       "    <tr>\n",
       "      <th>100</th>\n",
       "      <td>100</td>\n",
       "      <td>1989</td>\n",
       "      <td>Central Park Five: Yusef Salaam, Antron McCray...</td>\n",
       "      <td>assault, rape</td>\n",
       "      <td>New York</td>\n",
       "      <td>NaN</td>\n",
       "      <td>yes</td>\n",
       "      <td>1</td>\n",
       "    </tr>\n",
       "    <tr>\n",
       "      <th>110</th>\n",
       "      <td>110</td>\n",
       "      <td>1991</td>\n",
       "      <td>Dixmoor 5</td>\n",
       "      <td>murder</td>\n",
       "      <td>Illinois</td>\n",
       "      <td>NaN</td>\n",
       "      <td>yes</td>\n",
       "      <td>1</td>\n",
       "    </tr>\n",
       "    <tr>\n",
       "      <th>174</th>\n",
       "      <td>174</td>\n",
       "      <td>2017</td>\n",
       "      <td>Alex Heineman</td>\n",
       "      <td>sexual assault</td>\n",
       "      <td>Wisconsin</td>\n",
       "      <td>NaN</td>\n",
       "      <td>yes</td>\n",
       "      <td>1</td>\n",
       "    </tr>\n",
       "  </tbody>\n",
       "</table>\n",
       "</div>"
      ],
      "text/plain": [
       "     Unnamed: 0  Date of the Crime  \\\n",
       "7             7               1894   \n",
       "9             9               1900   \n",
       "50           50               1980   \n",
       "52           52               1980   \n",
       "71           71               1984   \n",
       "79           79               1985   \n",
       "100         100               1989   \n",
       "110         110               1991   \n",
       "174         174               2017   \n",
       "\n",
       "                                            Defendants  \\\n",
       "7                              George Washington Davis   \n",
       "9                                         Caleb Powers   \n",
       "50                                         Steve Titus   \n",
       "52                       Kern County child abuse cases   \n",
       "71                   Employees of Fells Acres Day Care   \n",
       "79                                        Beatrice Six   \n",
       "100  Central Park Five: Yusef Salaam, Antron McCray...   \n",
       "110                                          Dixmoor 5   \n",
       "174                                      Alex Heineman   \n",
       "\n",
       "              Type of the Crime Location of the Crime Punishment for a crime  \\\n",
       "7    sabotage of Locomotive 213              Nebraska                    NaN   \n",
       "9                        murder              Kentucky                    NaN   \n",
       "50                         rape            Washington                    NaN   \n",
       "52     satanic ritual sex abuse            California                    NaN   \n",
       "71     satanic ritual sex abuse         Massachusetts                    NaN   \n",
       "79                       murder              Nebraska                    NaN   \n",
       "100               assault, rape              New York                    NaN   \n",
       "110                      murder              Illinois                    NaN   \n",
       "174              sexual assault             Wisconsin                    NaN   \n",
       "\n",
       "    Legally Exonerated  Legally Exonerated Encoded  \n",
       "7                  yes                           1  \n",
       "9                  yes                           1  \n",
       "50                 yes                           1  \n",
       "52                 yes                           1  \n",
       "71                 yes                           1  \n",
       "79                 yes                           1  \n",
       "100                yes                           1  \n",
       "110                yes                           1  \n",
       "174                yes                           1  "
      ]
     },
     "execution_count": 112,
     "metadata": {},
     "output_type": "execute_result"
    }
   ],
   "source": [
    "wrongCon_df[wrongCon_df.isna().any(axis=1)]"
   ]
  },
  {
   "attachments": {},
   "cell_type": "markdown",
   "metadata": {},
   "source": [
    "Unique values for Punishment for a crime\n",
    "\n",
    "It make sense for the defendant's punishment for crime to be NaN since they were legally exonerated for their crime.I can look at all the unique values for Punishment for crimes "
   ]
  },
  {
   "cell_type": "code",
   "execution_count": 113,
   "metadata": {},
   "outputs": [
    {
     "data": {
      "text/plain": [
       "array(['death', '15 years', nan, 'life in prison', '5 years',\n",
       "       'life without parole', '25 years', '20 years', '50 years',\n",
       "       'death for Jimerson and Williams, 75 years for Adams, and life for Rainge',\n",
       "       '75 years', '30 years', '40 years', '32 years', '63 years',\n",
       "       '45 years', '33 years', '35 years', '11-35 years', '84 years',\n",
       "       '49 years', '10 years', '7 years', '57 years', '60 years',\n",
       "       'community service', '8 years', '65 years', '55 years', '17 years',\n",
       "       'probation, lifetime sex offender registration', '6 years',\n",
       "       '22 years', 'present', '21 years', '0.5 years', '4 years',\n",
       "       '1.2 year', '16 years', '26 years', '12.5 years', 'not sentenced',\n",
       "       '9 months'], dtype=object)"
      ]
     },
     "execution_count": 113,
     "metadata": {},
     "output_type": "execute_result"
    }
   ],
   "source": [
    "\n",
    "(\n",
    "    wrongCon_df['Punishment for a crime']\n",
    "    .unique()\n",
    ")"
   ]
  },
  {
   "attachments": {},
   "cell_type": "markdown",
   "metadata": {},
   "source": [
    "##### NaN change to No\n",
    "Changing NaN to No. However noticed that the dataset is missing few date attributes. For example: there should time served or time arrested to show if the defendants actually spend time in jail"
   ]
  },
  {
   "cell_type": "code",
   "execution_count": 114,
   "metadata": {},
   "outputs": [],
   "source": [
    "wrongCon_df['Punishment for a crime'] = wrongCon_df['Punishment for a crime'].fillna('No info')"
   ]
  },
  {
   "attachments": {},
   "cell_type": "markdown",
   "metadata": {},
   "source": [
    "### EDA\n",
    "\n",
    "I will create some visualizations to speak on the data. Questions that I will be answering are as follows:\n",
    "- Number of crimes \n",
    "    - Count of convictions per crime\n",
    "    - number of murder convicts legally exonerated \n",
    "- States that have the most wrongful convictions\n",
    "_ Plot of convictions after WW2\n"
   ]
  },
  {
   "attachments": {},
   "cell_type": "markdown",
   "metadata": {},
   "source": [
    "##### Number of Type of crimes "
   ]
  },
  {
   "cell_type": "code",
   "execution_count": 115,
   "metadata": {},
   "outputs": [
    {
     "data": {
      "text/plain": [
       "45"
      ]
     },
     "execution_count": 115,
     "metadata": {},
     "output_type": "execute_result"
    }
   ],
   "source": [
    "(\n",
    "    wrongCon_df['Type of the Crime']\n",
    "    .nunique()\n",
    "        )"
   ]
  },
  {
   "attachments": {},
   "cell_type": "markdown",
   "metadata": {},
   "source": [
    "##### Types of crimes and total number of defendants convicted. \n",
    "\n",
    "Top 10 only"
   ]
  },
  {
   "cell_type": "code",
   "execution_count": 116,
   "metadata": {},
   "outputs": [
    {
     "data": {
      "text/plain": [
       "Type of the Crime\n",
       "murder                      101\n",
       "rape                         15\n",
       "child sexual abuse            5\n",
       "sexual assault                5\n",
       "rape, murder                  4\n",
       "child sex abuse               3\n",
       "satanic ritual sex abuse      3\n",
       "murder, robbery               2\n",
       "assault, rape                 2\n",
       "assault                       2\n",
       "Name: Type of the Crime, dtype: int64"
      ]
     },
     "execution_count": 116,
     "metadata": {},
     "output_type": "execute_result"
    }
   ],
   "source": [
    "# Chaining as learned and I think its easy to read\n",
    "(\n",
    "    wrongCon_df\n",
    "    .groupby(['Type of the Crime']) # group by\n",
    "    ['Type of the Crime'] # rows to show\n",
    "    .count() # count of each crimes \n",
    "    .sort_values(ascending= False) # sort descending \n",
    "    .head(10) # show top 10 only\n",
    "    \n",
    ")"
   ]
  },
  {
   "attachments": {},
   "cell_type": "markdown",
   "metadata": {},
   "source": [
    "Plotting the data from only showing top 5"
   ]
  },
  {
   "cell_type": "code",
   "execution_count": 117,
   "metadata": {},
   "outputs": [
    {
     "data": {
      "image/png": "[encoded data removed]",
      "text/plain": [
       "<Figure size 600x400 with 1 Axes>"
      ]
     },
     "metadata": {},
     "output_type": "display_data"
    }
   ],
   "source": [
    "plt.figure(figsize=(6, 4))\n",
    "c = sns.color_palette('mako')\n",
    "\n",
    "(\n",
    "    wrongCon_df\n",
    "    .groupby(['Type of the Crime']) \n",
    "    ['Type of the Crime'] \n",
    "    .count()  \n",
    "    .sort_values(ascending= False)  \n",
    "    .head()\n",
    "    .plot(kind='bar', color=c) \n",
    ")\n",
    "\n",
    "\n",
    "plt.xticks(rotation=45, ha='right')\n",
    "plt.tight_layout()"
   ]
  },
  {
   "attachments": {},
   "cell_type": "markdown",
   "metadata": {},
   "source": [
    "Most number of convictions for type of crime was murder at 101. I can see if they were exonerated for the crime of murder"
   ]
  },
  {
   "cell_type": "code",
   "execution_count": 118,
   "metadata": {},
   "outputs": [
    {
     "data": {
      "text/plain": [
       "80"
      ]
     },
     "execution_count": 118,
     "metadata": {},
     "output_type": "execute_result"
    }
   ],
   "source": [
    "(\n",
    "    wrongCon_df\n",
    "    .groupby(['Type of the Crime','Legally Exonerated'])\n",
    "    ['Type of the Crime']\n",
    "    .get_group(('murder','yes'))\n",
    "    .count()\n",
    "    \n",
    ")"
   ]
  },
  {
   "attachments": {},
   "cell_type": "markdown",
   "metadata": {},
   "source": [
    "Plot to show exonerated for murder yes vs no"
   ]
  },
  {
   "cell_type": "code",
   "execution_count": 119,
   "metadata": {},
   "outputs": [
    {
     "data": {
      "text/plain": [
       "Text(0.5, 1.0, 'Exonerated for the Crime for Murders')"
      ]
     },
     "execution_count": 119,
     "metadata": {},
     "output_type": "execute_result"
    },
    {
     "data": {
      "image/png": "[encoded data removed]",
      "text/plain": [
       "<Figure size 640x480 with 1 Axes>"
      ]
     },
     "metadata": {},
     "output_type": "display_data"
    }
   ],
   "source": [
    "(\n",
    "    wrongCon_df[wrongCon_df['Type of the Crime'] == 'murder']\n",
    "    ['Legally Exonerated']\n",
    "    .value_counts()\n",
    "    .plot(kind='pie',autopct='%1.1f%%',labels=['', ''])\n",
    "    \n",
    ")\n",
    "\n",
    "plt.legend(['Yes', 'No'], loc='best') \n",
    "plt.ylabel(None)\n",
    "plt.title('Exonerated for the Crime for Murders')"
   ]
  },
  {
   "attachments": {},
   "cell_type": "markdown",
   "metadata": {},
   "source": [
    "##### Defendants by states "
   ]
  },
  {
   "cell_type": "code",
   "execution_count": 120,
   "metadata": {},
   "outputs": [
    {
     "data": {
      "text/html": [
       "<div>\n",
       "<style scoped>\n",
       "    .dataframe tbody tr th:only-of-type {\n",
       "        vertical-align: middle;\n",
       "    }\n",
       "\n",
       "    .dataframe tbody tr th {\n",
       "        vertical-align: top;\n",
       "    }\n",
       "\n",
       "    .dataframe thead th {\n",
       "        text-align: right;\n",
       "    }\n",
       "</style>\n",
       "<table border=\"1\" class=\"dataframe\">\n",
       "  <thead>\n",
       "    <tr style=\"text-align: right;\">\n",
       "      <th></th>\n",
       "      <th>Crimes Count</th>\n",
       "    </tr>\n",
       "    <tr>\n",
       "      <th>Location of the Crime</th>\n",
       "      <th></th>\n",
       "    </tr>\n",
       "  </thead>\n",
       "  <tbody>\n",
       "    <tr>\n",
       "      <th>Illinois</th>\n",
       "      <td>19</td>\n",
       "    </tr>\n",
       "    <tr>\n",
       "      <th>Texas</th>\n",
       "      <td>17</td>\n",
       "    </tr>\n",
       "    <tr>\n",
       "      <th>New York</th>\n",
       "      <td>16</td>\n",
       "    </tr>\n",
       "    <tr>\n",
       "      <th>California</th>\n",
       "      <td>10</td>\n",
       "    </tr>\n",
       "    <tr>\n",
       "      <th>North Carolina</th>\n",
       "      <td>9</td>\n",
       "    </tr>\n",
       "    <tr>\n",
       "      <th>Florida</th>\n",
       "      <td>8</td>\n",
       "    </tr>\n",
       "    <tr>\n",
       "      <th>Massachusetts</th>\n",
       "      <td>7</td>\n",
       "    </tr>\n",
       "    <tr>\n",
       "      <th>Michigan</th>\n",
       "      <td>7</td>\n",
       "    </tr>\n",
       "    <tr>\n",
       "      <th>Georgia</th>\n",
       "      <td>6</td>\n",
       "    </tr>\n",
       "    <tr>\n",
       "      <th>Ohio</th>\n",
       "      <td>6</td>\n",
       "    </tr>\n",
       "  </tbody>\n",
       "</table>\n",
       "</div>"
      ],
      "text/plain": [
       "                       Crimes Count\n",
       "Location of the Crime              \n",
       "Illinois                         19\n",
       "Texas                            17\n",
       "New York                         16\n",
       "California                       10\n",
       "North Carolina                    9\n",
       "Florida                           8\n",
       "Massachusetts                     7\n",
       "Michigan                          7\n",
       "Georgia                           6\n",
       "Ohio                              6"
      ]
     },
     "execution_count": 120,
     "metadata": {},
     "output_type": "execute_result"
    }
   ],
   "source": [
    "(\n",
    "    wrongCon_df\n",
    "    .groupby(['Location of the Crime'])\n",
    "    ['Location of the Crime']\n",
    "    .count()\n",
    "    .sort_values(ascending = False)\n",
    "    .head(10)\n",
    "    .to_frame()\n",
    "    .rename(columns={'index':'', 'Location of the Crime': 'Crimes Count'})\n",
    ")"
   ]
  },
  {
   "attachments": {},
   "cell_type": "markdown",
   "metadata": {},
   "source": [
    "##### Defendants that are legally exonerated  "
   ]
  },
  {
   "cell_type": "code",
   "execution_count": 121,
   "metadata": {},
   "outputs": [
    {
     "data": {
      "text/plain": [
       "Text(0.5, 1.0, 'Exonerated for the Crime')"
      ]
     },
     "execution_count": 121,
     "metadata": {},
     "output_type": "execute_result"
    },
    {
     "data": {
      "image/png": "[encoded data removed]",
      "text/plain": [
       "<Figure size 640x480 with 1 Axes>"
      ]
     },
     "metadata": {},
     "output_type": "display_data"
    }
   ],
   "source": [
    "(\n",
    "    wrongCon_df['Legally Exonerated']\n",
    "    .value_counts()\n",
    "    .plot(kind='pie',autopct='%1.1f%%',labels=['', ''])\n",
    "    \n",
    ")\n",
    "\n",
    "plt.legend(['Yes', 'No'], loc='best') \n",
    "plt.ylabel(None)\n",
    "plt.title('Exonerated for the Crime')"
   ]
  },
  {
   "attachments": {},
   "cell_type": "markdown",
   "metadata": {},
   "source": [
    "##### Crime Date over the years \n",
    "\n",
    "The data that I will plot is starting from year 1970. Not many wrongful convictions crimes conviction are shown before that. "
   ]
  },
  {
   "attachments": {},
   "cell_type": "markdown",
   "metadata": {},
   "source": [
    "First year of the crime that was/were a wrongful conviction"
   ]
  },
  {
   "cell_type": "code",
   "execution_count": 122,
   "metadata": {},
   "outputs": [
    {
     "data": {
      "text/plain": [
       "1805"
      ]
     },
     "execution_count": 122,
     "metadata": {},
     "output_type": "execute_result"
    }
   ],
   "source": [
    "(\n",
    "    wrongCon_df['Date of the Crime']\n",
    "    .min()\n",
    "    )"
   ]
  },
  {
   "attachments": {},
   "cell_type": "markdown",
   "metadata": {},
   "source": [
    "Result \n",
    "\n",
    "Although it showing 1805 but is that really true?"
   ]
  },
  {
   "cell_type": "code",
   "execution_count": 123,
   "metadata": {},
   "outputs": [
    {
     "data": {
      "text/html": [
       "<div>\n",
       "<style scoped>\n",
       "    .dataframe tbody tr th:only-of-type {\n",
       "        vertical-align: middle;\n",
       "    }\n",
       "\n",
       "    .dataframe tbody tr th {\n",
       "        vertical-align: top;\n",
       "    }\n",
       "\n",
       "    .dataframe thead th {\n",
       "        text-align: right;\n",
       "    }\n",
       "</style>\n",
       "<table border=\"1\" class=\"dataframe\">\n",
       "  <thead>\n",
       "    <tr style=\"text-align: right;\">\n",
       "      <th></th>\n",
       "      <th>Unnamed: 0</th>\n",
       "      <th>Date of the Crime</th>\n",
       "      <th>Defendants</th>\n",
       "      <th>Type of the Crime</th>\n",
       "      <th>Location of the Crime</th>\n",
       "      <th>Punishment for a crime</th>\n",
       "      <th>Legally Exonerated</th>\n",
       "      <th>Legally Exonerated Encoded</th>\n",
       "    </tr>\n",
       "  </thead>\n",
       "  <tbody>\n",
       "    <tr>\n",
       "      <th>0</th>\n",
       "      <td>0</td>\n",
       "      <td>1805</td>\n",
       "      <td>Dominic Daley and James Halligan</td>\n",
       "      <td>murder</td>\n",
       "      <td>Massachusetts</td>\n",
       "      <td>death</td>\n",
       "      <td>yes</td>\n",
       "      <td>1</td>\n",
       "    </tr>\n",
       "  </tbody>\n",
       "</table>\n",
       "</div>"
      ],
      "text/plain": [
       "  Unnamed: 0 Date of the Crime                        Defendants  \\\n",
       "0          0              1805  Dominic Daley and James Halligan   \n",
       "\n",
       "  Type of the Crime Location of the Crime Punishment for a crime  \\\n",
       "0            murder         Massachusetts                  death   \n",
       "\n",
       "  Legally Exonerated Legally Exonerated Encoded  \n",
       "0                yes                          1  "
      ]
     },
     "execution_count": 123,
     "metadata": {},
     "output_type": "execute_result"
    }
   ],
   "source": [
    "(\n",
    "    wrongCon_df\n",
    "    .loc[wrongCon_df['Date of the Crime']\n",
    "    .idxmin()]\n",
    "    .to_frame()\n",
    "    .T\n",
    "    )"
   ]
  },
  {
   "attachments": {},
   "cell_type": "markdown",
   "metadata": {},
   "source": [
    "First ever wrongful conviction \n",
    "\n",
    "Dominic Daley and James Halligan were two individuals who were wrongfully convicted and executed for murder in 1806 in Massachusetts, United States. They were Irish immigrants accused of the murder of Marcus Lyon, a farmer from Massachusetts. Daley and Halligan maintained their innocence throughout the trial, but they were convicted based on circumstantial evidence and racial bias against Irish immigrants. Their case drew significant attention and controversy, as doubts about their guilt emerged after their execution. Eventually, in 1984, their convictions were posthumously overturned by the Governor of Massachusetts, with an acknowledgment that they were innocent. The case of Dominic Daley and James Halligan stands as a tragic example of wrongful conviction and the importance of ensuring a fair and just legal system."
   ]
  },
  {
   "cell_type": "code",
   "execution_count": 124,
   "metadata": {},
   "outputs": [
    {
     "data": {
      "text/plain": [
       "<Axes: xlabel='Date of the Crime'>"
      ]
     },
     "execution_count": 124,
     "metadata": {},
     "output_type": "execute_result"
    },
    {
     "data": {
      "image/png": "[encoded data removed]",
      "text/plain": [
       "<Figure size 1000x600 with 1 Axes>"
      ]
     },
     "metadata": {},
     "output_type": "display_data"
    }
   ],
   "source": [
    "plt.figure(figsize=(10, 6))\n",
    "(\n",
    "    wrongCon_df[wrongCon_df['Date of the Crime']> 1970]\n",
    "    .groupby(['Date of the Crime'])\n",
    "    ['Type of the Crime']\n",
    "    .count()\n",
    "    .plot()\n",
    ")"
   ]
  }
 ],
 "metadata": {
  "interpreter": {
   "hash": "c42ea231ea902b8224d51a02fd9bc23920a69be990426e4cb94547dc4f5fbc92"
  },
  "kernelspec": {
   "display_name": "Python 3.9.12 ('base')",
   "language": "python",
   "name": "python3"
  },
  "language_info": {
   "codemirror_mode": {
    "name": "ipython",
    "version": 3
   },
   "file_extension": ".py",
   "mimetype": "text/x-python",
   "name": "python",
   "nbconvert_exporter": "python",
   "pygments_lexer": "ipython3",
   "version": "3.9.16"
  },
  "orig_nbformat": 4
 },
 "nbformat": 4,
 "nbformat_minor": 2
}
